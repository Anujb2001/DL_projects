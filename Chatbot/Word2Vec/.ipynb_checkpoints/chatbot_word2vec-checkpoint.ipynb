{
 "cells": [
  {
   "cell_type": "code",
   "execution_count": 23,
   "id": "f0ccbd5a",
   "metadata": {},
   "outputs": [],
   "source": [
    "import gensim\n",
    "from gensim.models import word2vec\n",
    "from gensim.models.word2vec import Word2Vec\n",
    "import numpy as np\n",
    "import matplotlib.pyplot as plt\n",
    "import pandas as pd\n",
    "import spacy\n"
   ]
  },
  {
   "cell_type": "code",
   "execution_count": 12,
   "id": "9d39a512",
   "metadata": {},
   "outputs": [
    {
     "name": "stdout",
     "output_type": "stream",
     "text": [
      "Collecting spacy\n",
      "  Using cached spacy-3.7.2-cp310-cp310-win_amd64.whl.metadata (26 kB)\n",
      "Collecting spacy-legacy<3.1.0,>=3.0.11 (from spacy)\n",
      "  Using cached spacy_legacy-3.0.12-py2.py3-none-any.whl (29 kB)\n",
      "Collecting spacy-loggers<2.0.0,>=1.0.0 (from spacy)\n",
      "  Using cached spacy_loggers-1.0.5-py3-none-any.whl.metadata (23 kB)\n",
      "Collecting murmurhash<1.1.0,>=0.28.0 (from spacy)\n",
      "  Using cached murmurhash-1.0.10-cp310-cp310-win_amd64.whl.metadata (2.0 kB)\n",
      "Collecting cymem<2.1.0,>=2.0.2 (from spacy)\n",
      "  Using cached cymem-2.0.8-cp310-cp310-win_amd64.whl.metadata (8.6 kB)\n",
      "Collecting preshed<3.1.0,>=3.0.2 (from spacy)\n",
      "  Using cached preshed-3.0.9-cp310-cp310-win_amd64.whl.metadata (2.2 kB)\n",
      "Collecting thinc<8.3.0,>=8.1.8 (from spacy)\n",
      "  Using cached thinc-8.2.2-cp310-cp310-win_amd64.whl.metadata (15 kB)\n",
      "Collecting wasabi<1.2.0,>=0.9.1 (from spacy)\n",
      "  Using cached wasabi-1.1.2-py3-none-any.whl.metadata (28 kB)\n",
      "Collecting srsly<3.0.0,>=2.4.3 (from spacy)\n",
      "  Using cached srsly-2.4.8-cp310-cp310-win_amd64.whl.metadata (20 kB)\n",
      "Collecting catalogue<2.1.0,>=2.0.6 (from spacy)\n",
      "  Using cached catalogue-2.0.10-py3-none-any.whl.metadata (14 kB)\n",
      "Collecting weasel<0.4.0,>=0.1.0 (from spacy)\n",
      "  Using cached weasel-0.3.4-py3-none-any.whl.metadata (4.7 kB)\n",
      "Collecting typer<0.10.0,>=0.3.0 (from spacy)\n",
      "  Using cached typer-0.9.0-py3-none-any.whl (45 kB)\n",
      "Collecting smart-open<7.0.0,>=5.2.1 (from spacy)\n",
      "  Using cached smart_open-6.4.0-py3-none-any.whl.metadata (21 kB)\n",
      "Collecting tqdm<5.0.0,>=4.38.0 (from spacy)\n",
      "  Using cached tqdm-4.66.1-py3-none-any.whl.metadata (57 kB)\n",
      "Collecting requests<3.0.0,>=2.13.0 (from spacy)\n",
      "  Using cached requests-2.31.0-py3-none-any.whl.metadata (4.6 kB)\n",
      "Collecting pydantic!=1.8,!=1.8.1,<3.0.0,>=1.7.4 (from spacy)\n",
      "  Using cached pydantic-2.5.3-py3-none-any.whl.metadata (65 kB)\n",
      "Collecting jinja2 (from spacy)\n",
      "  Using cached Jinja2-3.1.2-py3-none-any.whl (133 kB)\n",
      "Requirement already satisfied: setuptools in c:\\users\\bhard\\anaconda3\\envs\\com727_dl\\lib\\site-packages (from spacy) (68.2.2)\n",
      "Collecting packaging>=20.0 (from spacy)\n",
      "  Using cached packaging-23.2-py3-none-any.whl.metadata (3.2 kB)\n",
      "Collecting langcodes<4.0.0,>=3.2.0 (from spacy)\n",
      "  Using cached langcodes-3.3.0-py3-none-any.whl (181 kB)\n",
      "Collecting numpy>=1.19.0 (from spacy)\n",
      "  Downloading numpy-1.26.3-cp310-cp310-win_amd64.whl.metadata (61 kB)\n",
      "     ---------------------------------------- 0.0/61.2 kB ? eta -:--:--\n",
      "     ------------------- ------------------ 30.7/61.2 kB 660.6 kB/s eta 0:00:01\n",
      "     -------------------------------------- 61.2/61.2 kB 653.5 kB/s eta 0:00:00\n",
      "Collecting annotated-types>=0.4.0 (from pydantic!=1.8,!=1.8.1,<3.0.0,>=1.7.4->spacy)\n",
      "  Using cached annotated_types-0.6.0-py3-none-any.whl.metadata (12 kB)\n",
      "Collecting pydantic-core==2.14.6 (from pydantic!=1.8,!=1.8.1,<3.0.0,>=1.7.4->spacy)\n",
      "  Using cached pydantic_core-2.14.6-cp310-none-win_amd64.whl.metadata (6.6 kB)\n",
      "Collecting typing-extensions>=4.6.1 (from pydantic!=1.8,!=1.8.1,<3.0.0,>=1.7.4->spacy)\n",
      "  Using cached typing_extensions-4.9.0-py3-none-any.whl.metadata (3.0 kB)\n",
      "Collecting charset-normalizer<4,>=2 (from requests<3.0.0,>=2.13.0->spacy)\n",
      "  Using cached charset_normalizer-3.3.2-cp310-cp310-win_amd64.whl.metadata (34 kB)\n",
      "Collecting idna<4,>=2.5 (from requests<3.0.0,>=2.13.0->spacy)\n",
      "  Using cached idna-3.6-py3-none-any.whl.metadata (9.9 kB)\n",
      "Collecting urllib3<3,>=1.21.1 (from requests<3.0.0,>=2.13.0->spacy)\n",
      "  Using cached urllib3-2.1.0-py3-none-any.whl.metadata (6.4 kB)\n",
      "Collecting certifi>=2017.4.17 (from requests<3.0.0,>=2.13.0->spacy)\n",
      "  Using cached certifi-2023.11.17-py3-none-any.whl.metadata (2.2 kB)\n",
      "Collecting blis<0.8.0,>=0.7.8 (from thinc<8.3.0,>=8.1.8->spacy)\n",
      "  Using cached blis-0.7.11-cp310-cp310-win_amd64.whl.metadata (7.6 kB)\n",
      "Collecting confection<1.0.0,>=0.0.1 (from thinc<8.3.0,>=8.1.8->spacy)\n",
      "  Using cached confection-0.1.4-py3-none-any.whl.metadata (19 kB)\n",
      "Collecting colorama (from tqdm<5.0.0,>=4.38.0->spacy)\n",
      "  Using cached colorama-0.4.6-py2.py3-none-any.whl (25 kB)\n",
      "Collecting click<9.0.0,>=7.1.1 (from typer<0.10.0,>=0.3.0->spacy)\n",
      "  Using cached click-8.1.7-py3-none-any.whl.metadata (3.0 kB)\n",
      "Collecting cloudpathlib<0.17.0,>=0.7.0 (from weasel<0.4.0,>=0.1.0->spacy)\n",
      "  Using cached cloudpathlib-0.16.0-py3-none-any.whl.metadata (14 kB)\n",
      "Collecting MarkupSafe>=2.0 (from jinja2->spacy)\n",
      "  Using cached MarkupSafe-2.1.3-cp310-cp310-win_amd64.whl.metadata (3.1 kB)\n",
      "Using cached spacy-3.7.2-cp310-cp310-win_amd64.whl (12.1 MB)\n",
      "Using cached catalogue-2.0.10-py3-none-any.whl (17 kB)\n",
      "Using cached cymem-2.0.8-cp310-cp310-win_amd64.whl (39 kB)\n",
      "Using cached murmurhash-1.0.10-cp310-cp310-win_amd64.whl (25 kB)\n",
      "Downloading numpy-1.26.3-cp310-cp310-win_amd64.whl (15.8 MB)\n",
      "   ---------------------------------------- 0.0/15.8 MB ? eta -:--:--\n",
      "   ---------------------------------------- 0.1/15.8 MB 4.3 MB/s eta 0:00:04\n",
      "    --------------------------------------- 0.4/15.8 MB 4.5 MB/s eta 0:00:04\n",
      "   - -------------------------------------- 0.4/15.8 MB 3.4 MB/s eta 0:00:05\n",
      "   - -------------------------------------- 0.6/15.8 MB 3.4 MB/s eta 0:00:05\n",
      "   - -------------------------------------- 0.8/15.8 MB 3.5 MB/s eta 0:00:05\n",
      "   -- ------------------------------------- 0.9/15.8 MB 3.5 MB/s eta 0:00:05\n",
      "   -- ------------------------------------- 1.0/15.8 MB 3.3 MB/s eta 0:00:05\n",
      "   --- ------------------------------------ 1.2/15.8 MB 3.4 MB/s eta 0:00:05\n",
      "   --- ------------------------------------ 1.5/15.8 MB 3.6 MB/s eta 0:00:04\n",
      "   ---- ----------------------------------- 1.7/15.8 MB 3.7 MB/s eta 0:00:04\n",
      "   ---- ----------------------------------- 1.9/15.8 MB 3.7 MB/s eta 0:00:04\n",
      "   ----- ---------------------------------- 2.0/15.8 MB 3.7 MB/s eta 0:00:04\n",
      "   ----- ---------------------------------- 2.2/15.8 MB 3.6 MB/s eta 0:00:04\n",
      "   ----- ---------------------------------- 2.2/15.8 MB 3.5 MB/s eta 0:00:04\n",
      "   ----- ---------------------------------- 2.4/15.8 MB 3.5 MB/s eta 0:00:04\n",
      "   ------ --------------------------------- 2.5/15.8 MB 3.4 MB/s eta 0:00:04\n",
      "   ------ --------------------------------- 2.6/15.8 MB 3.3 MB/s eta 0:00:04\n",
      "   ------- -------------------------------- 2.8/15.8 MB 3.4 MB/s eta 0:00:04\n",
      "   ------- -------------------------------- 2.9/15.8 MB 3.4 MB/s eta 0:00:04\n",
      "   ------- -------------------------------- 3.1/15.8 MB 3.4 MB/s eta 0:00:04\n",
      "   -------- ------------------------------- 3.3/15.8 MB 3.4 MB/s eta 0:00:04\n",
      "   -------- ------------------------------- 3.4/15.8 MB 3.4 MB/s eta 0:00:04\n",
      "   -------- ------------------------------- 3.5/15.8 MB 3.3 MB/s eta 0:00:04\n",
      "   --------- ------------------------------ 3.6/15.8 MB 3.3 MB/s eta 0:00:04\n",
      "   --------- ------------------------------ 3.8/15.8 MB 3.3 MB/s eta 0:00:04\n",
      "   ---------- ----------------------------- 4.0/15.8 MB 3.3 MB/s eta 0:00:04\n",
      "   ---------- ----------------------------- 4.1/15.8 MB 3.3 MB/s eta 0:00:04\n",
      "   ---------- ----------------------------- 4.3/15.8 MB 3.3 MB/s eta 0:00:04\n",
      "   ----------- ---------------------------- 4.5/15.8 MB 3.3 MB/s eta 0:00:04\n",
      "   ----------- ---------------------------- 4.7/15.8 MB 3.4 MB/s eta 0:00:04\n",
      "   ------------ --------------------------- 4.9/15.8 MB 3.4 MB/s eta 0:00:04\n",
      "   ------------ --------------------------- 5.0/15.8 MB 3.3 MB/s eta 0:00:04\n",
      "   ------------ --------------------------- 5.1/15.8 MB 3.3 MB/s eta 0:00:04\n",
      "   ------------- -------------------------- 5.2/15.8 MB 3.3 MB/s eta 0:00:04\n",
      "   ------------- -------------------------- 5.3/15.8 MB 3.2 MB/s eta 0:00:04\n",
      "   ------------- -------------------------- 5.4/15.8 MB 3.3 MB/s eta 0:00:04\n",
      "   -------------- ------------------------- 5.6/15.8 MB 3.3 MB/s eta 0:00:04\n",
      "   -------------- ------------------------- 5.7/15.8 MB 3.2 MB/s eta 0:00:04\n",
      "   -------------- ------------------------- 5.8/15.8 MB 3.2 MB/s eta 0:00:04\n",
      "   -------------- ------------------------- 5.9/15.8 MB 3.2 MB/s eta 0:00:04\n",
      "   --------------- ------------------------ 6.0/15.8 MB 3.2 MB/s eta 0:00:04\n",
      "   --------------- ------------------------ 6.2/15.8 MB 3.2 MB/s eta 0:00:04\n",
      "   ---------------- ----------------------- 6.3/15.8 MB 3.2 MB/s eta 0:00:03\n",
      "   ---------------- ----------------------- 6.5/15.8 MB 3.2 MB/s eta 0:00:03\n",
      "   ---------------- ----------------------- 6.7/15.8 MB 3.2 MB/s eta 0:00:03\n",
      "   ----------------- ---------------------- 6.9/15.8 MB 3.2 MB/s eta 0:00:03\n",
      "   ----------------- ---------------------- 7.0/15.8 MB 3.3 MB/s eta 0:00:03\n",
      "   ------------------ --------------------- 7.2/15.8 MB 3.2 MB/s eta 0:00:03\n",
      "   ------------------ --------------------- 7.2/15.8 MB 3.2 MB/s eta 0:00:03\n",
      "   ------------------ --------------------- 7.4/15.8 MB 3.2 MB/s eta 0:00:03\n",
      "   ------------------ --------------------- 7.5/15.8 MB 3.2 MB/s eta 0:00:03\n",
      "   ------------------- -------------------- 7.6/15.8 MB 3.1 MB/s eta 0:00:03\n",
      "   ------------------- -------------------- 7.6/15.8 MB 3.1 MB/s eta 0:00:03\n",
      "   ------------------- -------------------- 7.7/15.8 MB 3.1 MB/s eta 0:00:03\n",
      "   ------------------- -------------------- 7.9/15.8 MB 3.1 MB/s eta 0:00:03\n",
      "   -------------------- ------------------- 7.9/15.8 MB 3.1 MB/s eta 0:00:03\n",
      "   -------------------- ------------------- 8.0/15.8 MB 3.1 MB/s eta 0:00:03\n",
      "   -------------------- ------------------- 8.0/15.8 MB 3.0 MB/s eta 0:00:03\n",
      "   -------------------- ------------------- 8.2/15.8 MB 3.0 MB/s eta 0:00:03\n",
      "   -------------------- ------------------- 8.2/15.8 MB 3.0 MB/s eta 0:00:03\n",
      "   --------------------- ------------------ 8.3/15.8 MB 2.9 MB/s eta 0:00:03\n",
      "   --------------------- ------------------ 8.4/15.8 MB 3.0 MB/s eta 0:00:03\n",
      "   --------------------- ------------------ 8.6/15.8 MB 2.9 MB/s eta 0:00:03\n",
      "   ---------------------- ----------------- 8.7/15.8 MB 2.9 MB/s eta 0:00:03\n",
      "   ---------------------- ----------------- 8.8/15.8 MB 2.9 MB/s eta 0:00:03\n",
      "   ---------------------- ----------------- 8.9/15.8 MB 2.9 MB/s eta 0:00:03\n",
      "   ---------------------- ----------------- 9.0/15.8 MB 2.9 MB/s eta 0:00:03\n",
      "   ---------------------- ----------------- 9.1/15.8 MB 2.9 MB/s eta 0:00:03\n",
      "   ----------------------- ---------------- 9.2/15.8 MB 2.9 MB/s eta 0:00:03\n",
      "   ----------------------- ---------------- 9.3/15.8 MB 2.9 MB/s eta 0:00:03\n",
      "   ----------------------- ---------------- 9.4/15.8 MB 2.9 MB/s eta 0:00:03\n",
      "   ----------------------- ---------------- 9.5/15.8 MB 2.8 MB/s eta 0:00:03\n",
      "   ------------------------ --------------- 9.6/15.8 MB 2.8 MB/s eta 0:00:03\n",
      "   ------------------------ --------------- 9.6/15.8 MB 2.8 MB/s eta 0:00:03\n",
      "   ------------------------ --------------- 9.7/15.8 MB 2.8 MB/s eta 0:00:03\n",
      "   ------------------------ --------------- 9.8/15.8 MB 2.8 MB/s eta 0:00:03\n",
      "   ------------------------- -------------- 9.9/15.8 MB 2.8 MB/s eta 0:00:03\n",
      "   ------------------------- -------------- 10.0/15.8 MB 2.8 MB/s eta 0:00:03\n",
      "   ------------------------- -------------- 10.1/15.8 MB 2.8 MB/s eta 0:00:03\n",
      "   ------------------------- -------------- 10.1/15.8 MB 2.7 MB/s eta 0:00:03\n",
      "   ------------------------- -------------- 10.3/15.8 MB 2.7 MB/s eta 0:00:03\n",
      "   -------------------------- ------------- 10.4/15.8 MB 2.7 MB/s eta 0:00:02\n",
      "   -------------------------- ------------- 10.6/15.8 MB 2.7 MB/s eta 0:00:02\n",
      "   --------------------------- ------------ 10.8/15.8 MB 2.7 MB/s eta 0:00:02\n",
      "   --------------------------- ------------ 10.9/15.8 MB 2.7 MB/s eta 0:00:02\n",
      "   ---------------------------- ----------- 11.1/15.8 MB 2.7 MB/s eta 0:00:02\n",
      "   ---------------------------- ----------- 11.3/15.8 MB 2.8 MB/s eta 0:00:02\n",
      "   ---------------------------- ----------- 11.4/15.8 MB 2.8 MB/s eta 0:00:02\n",
      "   ----------------------------- ---------- 11.5/15.8 MB 2.7 MB/s eta 0:00:02\n",
      "   ----------------------------- ---------- 11.7/15.8 MB 2.7 MB/s eta 0:00:02\n",
      "   ------------------------------ --------- 11.9/15.8 MB 2.7 MB/s eta 0:00:02\n",
      "   ------------------------------ --------- 12.0/15.8 MB 2.7 MB/s eta 0:00:02\n",
      "   ------------------------------ --------- 12.1/15.8 MB 2.7 MB/s eta 0:00:02\n",
      "   ------------------------------- -------- 12.3/15.8 MB 2.7 MB/s eta 0:00:02\n",
      "   ------------------------------- -------- 12.4/15.8 MB 2.7 MB/s eta 0:00:02\n",
      "   ------------------------------- -------- 12.6/15.8 MB 2.7 MB/s eta 0:00:02\n",
      "   ------------------------------- -------- 12.6/15.8 MB 2.7 MB/s eta 0:00:02\n",
      "   -------------------------------- ------- 12.7/15.8 MB 2.7 MB/s eta 0:00:02\n",
      "   -------------------------------- ------- 12.8/15.8 MB 2.7 MB/s eta 0:00:02\n",
      "   -------------------------------- ------- 13.0/15.8 MB 2.7 MB/s eta 0:00:02\n",
      "   --------------------------------- ------ 13.2/15.8 MB 2.7 MB/s eta 0:00:01\n",
      "   --------------------------------- ------ 13.3/15.8 MB 2.7 MB/s eta 0:00:01\n",
      "   ---------------------------------- ----- 13.5/15.8 MB 2.7 MB/s eta 0:00:01\n",
      "   ---------------------------------- ----- 13.6/15.8 MB 2.7 MB/s eta 0:00:01\n",
      "   ---------------------------------- ----- 13.7/15.8 MB 2.7 MB/s eta 0:00:01\n",
      "   ---------------------------------- ----- 13.8/15.8 MB 2.7 MB/s eta 0:00:01\n",
      "   ----------------------------------- ---- 13.9/15.8 MB 2.7 MB/s eta 0:00:01\n",
      "   ----------------------------------- ---- 14.0/15.8 MB 2.7 MB/s eta 0:00:01\n",
      "   ----------------------------------- ---- 14.2/15.8 MB 2.6 MB/s eta 0:00:01\n",
      "   ------------------------------------ --- 14.3/15.8 MB 2.7 MB/s eta 0:00:01\n",
      "   ------------------------------------ --- 14.5/15.8 MB 2.7 MB/s eta 0:00:01\n",
      "   ------------------------------------- -- 14.7/15.8 MB 2.6 MB/s eta 0:00:01\n",
      "   ------------------------------------- -- 14.8/15.8 MB 2.6 MB/s eta 0:00:01\n",
      "   ------------------------------------- -- 14.9/15.8 MB 2.6 MB/s eta 0:00:01\n",
      "   ------------------------------------- -- 15.0/15.8 MB 2.6 MB/s eta 0:00:01\n",
      "   -------------------------------------- - 15.0/15.8 MB 2.6 MB/s eta 0:00:01\n",
      "   -------------------------------------- - 15.1/15.8 MB 2.6 MB/s eta 0:00:01\n",
      "   -------------------------------------- - 15.2/15.8 MB 2.6 MB/s eta 0:00:01\n",
      "   -------------------------------------- - 15.3/15.8 MB 2.6 MB/s eta 0:00:01\n",
      "   -------------------------------------- - 15.4/15.8 MB 2.6 MB/s eta 0:00:01\n",
      "   ---------------------------------------  15.7/15.8 MB 2.6 MB/s eta 0:00:01\n",
      "   ---------------------------------------  15.8/15.8 MB 2.6 MB/s eta 0:00:01\n",
      "   ---------------------------------------- 15.8/15.8 MB 2.6 MB/s eta 0:00:00\n",
      "Using cached packaging-23.2-py3-none-any.whl (53 kB)\n",
      "Using cached preshed-3.0.9-cp310-cp310-win_amd64.whl (122 kB)\n",
      "Using cached pydantic-2.5.3-py3-none-any.whl (381 kB)\n",
      "Using cached pydantic_core-2.14.6-cp310-none-win_amd64.whl (1.9 MB)\n",
      "Using cached requests-2.31.0-py3-none-any.whl (62 kB)\n",
      "Using cached smart_open-6.4.0-py3-none-any.whl (57 kB)\n",
      "Using cached spacy_loggers-1.0.5-py3-none-any.whl (22 kB)\n",
      "Using cached srsly-2.4.8-cp310-cp310-win_amd64.whl (481 kB)\n",
      "Using cached thinc-8.2.2-cp310-cp310-win_amd64.whl (1.5 MB)\n",
      "Using cached tqdm-4.66.1-py3-none-any.whl (78 kB)\n",
      "Using cached wasabi-1.1.2-py3-none-any.whl (27 kB)\n",
      "Using cached weasel-0.3.4-py3-none-any.whl (50 kB)\n",
      "Using cached annotated_types-0.6.0-py3-none-any.whl (12 kB)\n",
      "Using cached blis-0.7.11-cp310-cp310-win_amd64.whl (6.6 MB)\n",
      "Using cached certifi-2023.11.17-py3-none-any.whl (162 kB)\n",
      "Using cached charset_normalizer-3.3.2-cp310-cp310-win_amd64.whl (100 kB)\n",
      "Using cached click-8.1.7-py3-none-any.whl (97 kB)\n",
      "Using cached cloudpathlib-0.16.0-py3-none-any.whl (45 kB)\n",
      "Using cached confection-0.1.4-py3-none-any.whl (35 kB)\n",
      "Using cached idna-3.6-py3-none-any.whl (61 kB)\n",
      "Using cached MarkupSafe-2.1.3-cp310-cp310-win_amd64.whl (17 kB)\n",
      "Using cached typing_extensions-4.9.0-py3-none-any.whl (32 kB)\n",
      "Using cached urllib3-2.1.0-py3-none-any.whl (104 kB)\n",
      "Installing collected packages: cymem, urllib3, typing-extensions, spacy-loggers, spacy-legacy, smart-open, packaging, numpy, murmurhash, MarkupSafe, langcodes, idna, colorama, charset-normalizer, certifi, catalogue, annotated-types, wasabi, tqdm, srsly, requests, pydantic-core, preshed, jinja2, cloudpathlib, click, blis, typer, pydantic, confection, weasel, thinc, spacy\n",
      "Successfully installed MarkupSafe-2.1.3 annotated-types-0.6.0 blis-0.7.11 catalogue-2.0.10 certifi-2023.11.17 charset-normalizer-3.3.2 click-8.1.7 cloudpathlib-0.16.0 colorama-0.4.6 confection-0.1.4 cymem-2.0.8 idna-3.6 jinja2-3.1.2 langcodes-3.3.0 murmurhash-1.0.10 numpy-1.26.3 packaging-23.2 preshed-3.0.9 pydantic-2.5.3 pydantic-core-2.14.6 requests-2.31.0 smart-open-6.4.0 spacy-3.7.2 spacy-legacy-3.0.12 spacy-loggers-1.0.5 srsly-2.4.8 thinc-8.2.2 tqdm-4.66.1 typer-0.9.0 typing-extensions-4.9.0 urllib3-2.1.0 wasabi-1.1.2 weasel-0.3.4\n"
     ]
    }
   ],
   "source": [
    "!pip install spacy"
   ]
  },
  {
   "cell_type": "code",
   "execution_count": 24,
   "id": "48a35136",
   "metadata": {},
   "outputs": [
    {
     "data": {
      "text/plain": [
       "'4.3.0'"
      ]
     },
     "execution_count": 24,
     "metadata": {},
     "output_type": "execute_result"
    }
   ],
   "source": [
    "gensim.__version__\n"
   ]
  },
  {
   "cell_type": "code",
   "execution_count": 25,
   "id": "e73cac4c",
   "metadata": {},
   "outputs": [
    {
     "name": "stdout",
     "output_type": "stream",
     "text": [
      "['fasttext-wiki-news-subwords-300', 'conceptnet-numberbatch-17-06-300', 'word2vec-ruscorpora-300', 'word2vec-google-news-300', 'glove-wiki-gigaword-50', 'glove-wiki-gigaword-100', 'glove-wiki-gigaword-200', 'glove-wiki-gigaword-300', 'glove-twitter-25', 'glove-twitter-50', 'glove-twitter-100', 'glove-twitter-200', '__testing_word2vec-matrix-synopsis']\n"
     ]
    }
   ],
   "source": [
    "import gensim.downloader as api\n",
    "print(list(gensim.downloader.info()['models'].keys()))"
   ]
  },
  {
   "cell_type": "code",
   "execution_count": null,
   "id": "4d0fa074",
   "metadata": {},
   "outputs": [],
   "source": [
    "wv = api.load('glove-twitter-50')"
   ]
  },
  {
   "cell_type": "code",
   "execution_count": null,
   "id": "ef57c8c1",
   "metadata": {},
   "outputs": [],
   "source": [
    "wv['bill']"
   ]
  },
  {
   "cell_type": "code",
   "execution_count": null,
   "id": "884960f4",
   "metadata": {},
   "outputs": [],
   "source": [
    "print(wv.doesnt_match(['fire', 'water', 'land', 'sea', 'air', 'car']))"
   ]
  },
  {
   "cell_type": "code",
   "execution_count": null,
   "id": "5314c3d9-9abb-44bf-885f-1a1631fe6dbe",
   "metadata": {},
   "outputs": [],
   "source": [
    "!pip3 install textblob"
   ]
  },
  {
   "cell_type": "code",
   "execution_count": 17,
   "id": "29f5753a-6087-4677-a03e-8899ca637df7",
   "metadata": {},
   "outputs": [
    {
     "name": "stderr",
     "output_type": "stream",
     "text": [
      "[nltk_data] Downloading package stopwords to\n",
      "[nltk_data]     C:\\Users\\bhard\\AppData\\Roaming\\nltk_data...\n",
      "[nltk_data]   Package stopwords is already up-to-date!\n"
     ]
    },
    {
     "data": {
      "text/plain": [
       "True"
      ]
     },
     "execution_count": 17,
     "metadata": {},
     "output_type": "execute_result"
    }
   ],
   "source": [
    " import nltk\n",
    " nltk.download('stopwords')"
   ]
  },
  {
   "cell_type": "code",
   "execution_count": 29,
   "id": "45cef600-7c4b-442a-a613-43eeefb696b7",
   "metadata": {},
   "outputs": [
    {
     "name": "stdout",
     "output_type": "stream",
     "text": [
      "Requirement already satisfied: emoji in c:\\users\\bhard\\anaconda3\\envs\\com727_dl\\lib\\site-packages (2.9.0)\n"
     ]
    }
   ],
   "source": [
    "!pip install emoji"
   ]
  },
  {
   "cell_type": "code",
   "execution_count": 31,
   "id": "6caed9ec-996f-48a6-8f1b-1bee1f58f167",
   "metadata": {},
   "outputs": [],
   "source": [
    "import re\n",
    "import string\n",
    "# import textblob as TextBlob\n",
    "from nltk.corpus import stopwords\n",
    "# import emoji\n",
    "\n",
    "def remove_tags(text):\n",
    "    TAG_RE = re.compile(r'<[^>]+>')\n",
    "    return TAG_RE.sub('', text)\n",
    "    \n",
    "def remove_urls (vTEXT):\n",
    "    vTEXT = re.sub(r'(https|http)?:\\/\\/(\\w|\\.|\\/|\\?|\\=|\\&|\\%)*\\b', '', vTEXT, flags=re.MULTILINE)\n",
    "    return(vTEXT)\n",
    "\n",
    "def remove_punc(text):  # From S.Lott's solution\n",
    "    exclude = string.punctuation\n",
    "    text = text.translate(str.maketrans('','', exclude))\n",
    "    return text\n",
    "\n",
    "def remove_stopwords(text):\n",
    "    new_text = []\n",
    "    for word in text.split():\n",
    "        if not word in stopwords.words('english'):\n",
    "            new_text.append(word)\n",
    "    x = new_text[:]\n",
    "    return \" \".join(x)\n",
    "    \n",
    "def own_text_pre_proce(text):\n",
    "    # lower case\n",
    "    text = text.lower()\n",
    "    # remove html tag data\n",
    "    text = remove_tags(text)\n",
    "    # remove url\n",
    "    text = remove_urls(text)\n",
    "    # remove punctuation\n",
    "    text = remove_punc(text)\n",
    "    # Spelling correction\n",
    "    # text_blob = TextBlob(text)\n",
    "    # text = text_blob.correct().string\n",
    "    # remove stop words\n",
    "    text = remove_stopwords(text)\n",
    "    # handel emoji\n",
    "    # text = emoji.demojize(text)\n",
    "    return text\n",
    "\n"
   ]
  },
  {
   "cell_type": "code",
   "execution_count": 32,
   "id": "c287108c-5def-401c-8bdc-7c752b62e268",
   "metadata": {},
   "outputs": [],
   "source": [
    "from nltk import sent_tokenize\n",
    "from gensim.utils import simple_preprocess\n",
    "import os\n",
    "import gensim\n",
    "import os\n",
    "\n",
    "def get_data_from_text_file(dir_name):\n",
    "    story = []\n",
    "    for filename in os.listdir(dir_name):\n",
    "        f = open(os.path.join(dir_name, filename), encoding=\"utf-8\")\n",
    "        corpus = f.read()\n",
    "        # corpus = own_text_pre_proce(corpus)\n",
    "        raw_sent = sent_tokenize(corpus)\n",
    "        for sent in raw_sent:\n",
    "            sent = own_text_pre_proce(sent)\n",
    "            # print(sent)\n",
    "            story.append(simple_preprocess(sent))\n",
    "    df = pd.read_csv(\"Restaurant reviews.csv\");\n",
    "    for doc in df[\"Review\"]:\n",
    "        raw_sent = sent_tokenize(str(doc))\n",
    "        for sent in raw_sent:\n",
    "            story.append(simple_preprocess(sent))\n",
    "    print(\"file read success with lenght = \", len(story) )\n",
    "    return story\n"
   ]
  },
  {
   "cell_type": "code",
   "execution_count": 33,
   "id": "1805008a-2712-4f78-9cd8-09cae9c3b909",
   "metadata": {},
   "outputs": [
    {
     "name": "stdout",
     "output_type": "stream",
     "text": [
      "file read success with lenght =  53126\n"
     ]
    }
   ],
   "source": [
    "story = get_data_from_text_file(\"data\")"
   ]
  },
  {
   "cell_type": "code",
   "execution_count": 34,
   "id": "f2bb0d00-3d29-4b42-8dec-a5e8895a0d02",
   "metadata": {},
   "outputs": [
    {
     "data": {
      "text/plain": [
       "53126"
      ]
     },
     "execution_count": 34,
     "metadata": {},
     "output_type": "execute_result"
    }
   ],
   "source": [
    "len(story) "
   ]
  },
  {
   "cell_type": "code",
   "execution_count": 35,
   "id": "260ca1e7-d5b6-4718-821e-225554315f56",
   "metadata": {},
   "outputs": [
    {
     "data": {
      "text/plain": [
       "(2210901, 2834045)"
      ]
     },
     "execution_count": 35,
     "metadata": {},
     "output_type": "execute_result"
    }
   ],
   "source": [
    "gen_model = gensim.models.Word2Vec(window=10, min_count=2)\n",
    "gen_model.build_vocab(story)\n",
    "gen_model.train(story, total_examples= gen_model.corpus_count, epochs = gen_model.epochs)"
   ]
  },
  {
   "cell_type": "code",
   "execution_count": 148,
   "id": "3ab8b75f-702a-4bd0-8999-f83cec7a0d5e",
   "metadata": {},
   "outputs": [
    {
     "data": {
      "text/plain": [
       "[('mutton', 0.9750862121582031),\n",
       " ('mandi', 0.9516711831092834),\n",
       " ('pulao', 0.9510645866394043),\n",
       " ('biriyani', 0.9509451985359192),\n",
       " ('paneer', 0.9398232102394104),\n",
       " ('curry', 0.9351259469985962),\n",
       " ('tikka', 0.9339630007743835),\n",
       " ('pizza', 0.9291846752166748),\n",
       " ('tandoori', 0.9288821816444397),\n",
       " ('fish', 0.9272671937942505)]"
      ]
     },
     "execution_count": 148,
     "metadata": {},
     "output_type": "execute_result"
    }
   ],
   "source": [
    "gen_model.wv.most_similar(\"chicken\")"
   ]
  },
  {
   "cell_type": "code",
   "execution_count": 37,
   "id": "d8017db3-c845-47ee-be01-9f7e4fee1310",
   "metadata": {},
   "outputs": [
    {
     "data": {
      "text/plain": [
       "12314"
      ]
     },
     "execution_count": 37,
     "metadata": {},
     "output_type": "execute_result"
    }
   ],
   "source": [
    "len(gen_model.wv)"
   ]
  },
  {
   "cell_type": "code",
   "execution_count": 38,
   "id": "b4085fa6-a177-46a9-9218-a7d7c59db9b0",
   "metadata": {},
   "outputs": [],
   "source": []
  },
  {
   "cell_type": "code",
   "execution_count": 49,
   "id": "592722ad-a1f6-4a7d-89a1-ccb18b7b0799",
   "metadata": {},
   "outputs": [],
   "source": [
    "import pandas as pd\n",
    "import json\n",
    "json_file_path = \"data\\intents2.backup.json\"\n",
    "def read_json_file(file_path = json_file_path, intents_name=\"intents\", ques_name=\"questions\", tag_name=\"tag\", ans_name=\"answers\"):\n",
    "    json_data = []\n",
    "    with open(file_path, 'r') as file:\n",
    "        data = json.load(file)\n",
    "    print (len(data[intents_name]))\n",
    "    for i in range(len(data[intents_name])):\n",
    "        current_tag = data[intents_name][i][tag_name].replace(\" \",'_').lower()\n",
    "        current_questions = data[intents_name][i][ques_name]\n",
    "#         if (len(current_questions) < 40):\n",
    "#             continue;\n",
    "        for j in range(len(current_questions)):\n",
    "            record_value = {\"data\":current_questions[j], \"label\":current_tag}\n",
    "            # print(current_questions[j])\n",
    "            json_data.append(record_value)\n",
    "    return pd.DataFrame(json_data)"
   ]
  },
  {
   "cell_type": "code",
   "execution_count": 50,
   "id": "8e51bb97-838b-4353-a0e3-ad102f002688",
   "metadata": {},
   "outputs": [],
   "source": [
    "import tensorflow\n",
    "from tensorflow import keras\n",
    "from tensorflow.keras import Sequential\n",
    "from tensorflow.keras.layers import Dense,Flatten"
   ]
  },
  {
   "cell_type": "code",
   "execution_count": 51,
   "id": "63dc0e3f",
   "metadata": {},
   "outputs": [
    {
     "name": "stdout",
     "output_type": "stream",
     "text": [
      "9\n"
     ]
    }
   ],
   "source": [
    "rdf = read_json_file()"
   ]
  },
  {
   "cell_type": "code",
   "execution_count": 53,
   "id": "29196a98",
   "metadata": {},
   "outputs": [
    {
     "data": {
      "text/plain": [
       "(263, 2)"
      ]
     },
     "execution_count": 53,
     "metadata": {},
     "output_type": "execute_result"
    }
   ],
   "source": [
    "rdf.shape"
   ]
  },
  {
   "cell_type": "code",
   "execution_count": 54,
   "id": "099e1938",
   "metadata": {},
   "outputs": [
    {
     "data": {
      "text/plain": [
       "False    260\n",
       "True       3\n",
       "Name: count, dtype: int64"
      ]
     },
     "execution_count": 54,
     "metadata": {},
     "output_type": "execute_result"
    }
   ],
   "source": [
    "rdf.duplicated().value_counts()"
   ]
  },
  {
   "cell_type": "code",
   "execution_count": 55,
   "id": "cb8e4ec1",
   "metadata": {},
   "outputs": [
    {
     "data": {
      "text/plain": [
       "False    260\n",
       "Name: count, dtype: int64"
      ]
     },
     "execution_count": 55,
     "metadata": {},
     "output_type": "execute_result"
    }
   ],
   "source": [
    "# drop duplicate\n",
    "rdf = rdf.drop_duplicates()\n",
    "rdf.duplicated().value_counts()"
   ]
  },
  {
   "cell_type": "code",
   "execution_count": 56,
   "id": "b1bcb232",
   "metadata": {},
   "outputs": [
    {
     "data": {
      "text/plain": [
       "9"
      ]
     },
     "execution_count": 56,
     "metadata": {},
     "output_type": "execute_result"
    }
   ],
   "source": [
    "len(rdf['label'].unique())"
   ]
  },
  {
   "cell_type": "code",
   "execution_count": 76,
   "id": "4f9fe5f6",
   "metadata": {},
   "outputs": [],
   "source": [
    "def sent_vec(sent):\n",
    "    vector_size = gen_model.wv.vector_size\n",
    "    wv_res = np.zeros(vector_size)\n",
    "    # print(wv_res)\n",
    "    ctr = 1\n",
    "    for w in sent:\n",
    "        if w in gen_model.wv:\n",
    "            ctr += 1\n",
    "            wv_res += gen_model.wv[w]\n",
    "    wv_res = wv_res/ctr\n",
    "    return wv_res"
   ]
  },
  {
   "cell_type": "code",
   "execution_count": 59,
   "id": "11c846ba",
   "metadata": {},
   "outputs": [],
   "source": [
    "rdf[\"data\"] = rdf[\"data\"].apply(own_text_pre_proce)"
   ]
  },
  {
   "cell_type": "code",
   "execution_count": 92,
   "id": "e3c3213a",
   "metadata": {},
   "outputs": [],
   "source": [
    "def pre_process_df(data):\n",
    "    result = data.apply(own_text_pre_proce)\n",
    "    result = result.apply(simple_preprocess)\n",
    "    result = result.apply(sent_vec)\n",
    "    return result "
   ]
  },
  {
   "cell_type": "code",
   "execution_count": 93,
   "id": "7f20f03b",
   "metadata": {},
   "outputs": [],
   "source": [
    "X = pre_process_df(rdf[\"data\"]).to_list()"
   ]
  },
  {
   "cell_type": "code",
   "execution_count": 97,
   "id": "63ff85f5",
   "metadata": {},
   "outputs": [],
   "source": [
    "y = rdf[\"label\"].to_list()"
   ]
  },
  {
   "cell_type": "code",
   "execution_count": 98,
   "id": "0f9e6433",
   "metadata": {},
   "outputs": [],
   "source": [
    "from sklearn.preprocessing import LabelEncoder\n",
    "tag_encoder = LabelEncoder()\n",
    "y = tag_encoder.fit_transform(y)"
   ]
  },
  {
   "cell_type": "code",
   "execution_count": 102,
   "id": "7b7c8fce",
   "metadata": {},
   "outputs": [
    {
     "data": {
      "text/plain": [
       "260"
      ]
     },
     "execution_count": 102,
     "metadata": {},
     "output_type": "execute_result"
    }
   ],
   "source": [
    "len(y)"
   ]
  },
  {
   "cell_type": "code",
   "execution_count": 103,
   "id": "fbca0781",
   "metadata": {},
   "outputs": [],
   "source": [
    "from sklearn.model_selection import train_test_split\n",
    "X_train, X_test, y_train, y_test = train_test_split(X,y, test_size = 0.2, random_state = 1)"
   ]
  },
  {
   "cell_type": "code",
   "execution_count": 155,
   "id": "f3fbbc5a",
   "metadata": {},
   "outputs": [
    {
     "data": {
      "text/plain": [
       "100"
      ]
     },
     "execution_count": 155,
     "metadata": {},
     "output_type": "execute_result"
    }
   ],
   "source": [
    "gen_model.wv.vector_size"
   ]
  },
  {
   "cell_type": "code",
   "execution_count": 204,
   "id": "d51ebab5",
   "metadata": {},
   "outputs": [],
   "source": [
    "model = Sequential()\n",
    "model.add(Dense(50,activation=\"relu\",input_dim=100))\n",
    "model.add(Dense(36,activation='relu'))\n",
    "model.add(Dense(32,activation='relu'))\n",
    "model.add(Dense(9,activation='softmax'))"
   ]
  },
  {
   "cell_type": "code",
   "execution_count": 205,
   "id": "1c146681",
   "metadata": {},
   "outputs": [
    {
     "name": "stdout",
     "output_type": "stream",
     "text": [
      "Model: \"sequential_6\"\n",
      "_________________________________________________________________\n",
      " Layer (type)                Output Shape              Param #   \n",
      "=================================================================\n",
      " dense_23 (Dense)            (None, 50)                5050      \n",
      "                                                                 \n",
      " dense_24 (Dense)            (None, 36)                1836      \n",
      "                                                                 \n",
      " dense_25 (Dense)            (None, 32)                1184      \n",
      "                                                                 \n",
      " dense_26 (Dense)            (None, 9)                 297       \n",
      "                                                                 \n",
      "=================================================================\n",
      "Total params: 8367 (32.68 KB)\n",
      "Trainable params: 8367 (32.68 KB)\n",
      "Non-trainable params: 0 (0.00 Byte)\n",
      "_________________________________________________________________\n"
     ]
    }
   ],
   "source": [
    "model.summary()"
   ]
  },
  {
   "cell_type": "code",
   "execution_count": 206,
   "id": "bdc01c79",
   "metadata": {},
   "outputs": [],
   "source": [
    "model.compile(loss='sparse_categorical_crossentropy',optimizer='Adam',metrics=['accuracy'])"
   ]
  },
  {
   "cell_type": "code",
   "execution_count": 207,
   "id": "1179c22b",
   "metadata": {},
   "outputs": [],
   "source": [
    "import tensorflow as tf\n",
    "\n",
    "X_train = tf.stack(X_train)\n",
    "y_train = tf.stack(y_train)\n",
    "X_test  = tf.stack(X_test)"
   ]
  },
  {
   "cell_type": "code",
   "execution_count": 208,
   "id": "2905a89c",
   "metadata": {},
   "outputs": [
    {
     "name": "stdout",
     "output_type": "stream",
     "text": [
      "Epoch 1/60\n",
      "6/6 [==============================] - 1s 31ms/step - loss: 2.2092 - accuracy: 0.0904 - val_loss: 2.1661 - val_accuracy: 0.1190\n",
      "Epoch 2/60\n",
      "6/6 [==============================] - 0s 8ms/step - loss: 2.1476 - accuracy: 0.1205 - val_loss: 2.1072 - val_accuracy: 0.1905\n",
      "Epoch 3/60\n",
      "6/6 [==============================] - 0s 8ms/step - loss: 2.1023 - accuracy: 0.1566 - val_loss: 2.0590 - val_accuracy: 0.2143\n",
      "Epoch 4/60\n",
      "6/6 [==============================] - 0s 8ms/step - loss: 2.0577 - accuracy: 0.1867 - val_loss: 2.0064 - val_accuracy: 0.2381\n",
      "Epoch 5/60\n",
      "6/6 [==============================] - 0s 7ms/step - loss: 2.0108 - accuracy: 0.2590 - val_loss: 1.9549 - val_accuracy: 0.3095\n",
      "Epoch 6/60\n",
      "6/6 [==============================] - 0s 8ms/step - loss: 1.9597 - accuracy: 0.3012 - val_loss: 1.8988 - val_accuracy: 0.4048\n",
      "Epoch 7/60\n",
      "6/6 [==============================] - 0s 8ms/step - loss: 1.9053 - accuracy: 0.3855 - val_loss: 1.8413 - val_accuracy: 0.3810\n",
      "Epoch 8/60\n",
      "6/6 [==============================] - 0s 9ms/step - loss: 1.8470 - accuracy: 0.4096 - val_loss: 1.7744 - val_accuracy: 0.4286\n",
      "Epoch 9/60\n",
      "6/6 [==============================] - 0s 8ms/step - loss: 1.7832 - accuracy: 0.4277 - val_loss: 1.7031 - val_accuracy: 0.4286\n",
      "Epoch 10/60\n",
      "6/6 [==============================] - 0s 8ms/step - loss: 1.7133 - accuracy: 0.4578 - val_loss: 1.6236 - val_accuracy: 0.4762\n",
      "Epoch 11/60\n",
      "6/6 [==============================] - 0s 8ms/step - loss: 1.6432 - accuracy: 0.5181 - val_loss: 1.5415 - val_accuracy: 0.4762\n",
      "Epoch 12/60\n",
      "6/6 [==============================] - 0s 10ms/step - loss: 1.5687 - accuracy: 0.5301 - val_loss: 1.4597 - val_accuracy: 0.4762\n",
      "Epoch 13/60\n",
      "6/6 [==============================] - 0s 8ms/step - loss: 1.4989 - accuracy: 0.5482 - val_loss: 1.3716 - val_accuracy: 0.5000\n",
      "Epoch 14/60\n",
      "6/6 [==============================] - 0s 8ms/step - loss: 1.4290 - accuracy: 0.5602 - val_loss: 1.3004 - val_accuracy: 0.5000\n",
      "Epoch 15/60\n",
      "6/6 [==============================] - 0s 9ms/step - loss: 1.3581 - accuracy: 0.5663 - val_loss: 1.1998 - val_accuracy: 0.5238\n",
      "Epoch 16/60\n",
      "6/6 [==============================] - 0s 8ms/step - loss: 1.2864 - accuracy: 0.6145 - val_loss: 1.1375 - val_accuracy: 0.6429\n",
      "Epoch 17/60\n",
      "6/6 [==============================] - 0s 9ms/step - loss: 1.2141 - accuracy: 0.6506 - val_loss: 1.0452 - val_accuracy: 0.6905\n",
      "Epoch 18/60\n",
      "6/6 [==============================] - 0s 8ms/step - loss: 1.1497 - accuracy: 0.6506 - val_loss: 0.9802 - val_accuracy: 0.7143\n",
      "Epoch 19/60\n",
      "6/6 [==============================] - 0s 8ms/step - loss: 1.0946 - accuracy: 0.6747 - val_loss: 0.9139 - val_accuracy: 0.7857\n",
      "Epoch 20/60\n",
      "6/6 [==============================] - 0s 7ms/step - loss: 1.0399 - accuracy: 0.6807 - val_loss: 0.8587 - val_accuracy: 0.7619\n",
      "Epoch 21/60\n",
      "6/6 [==============================] - 0s 9ms/step - loss: 0.9936 - accuracy: 0.6928 - val_loss: 0.8233 - val_accuracy: 0.7857\n",
      "Epoch 22/60\n",
      "6/6 [==============================] - 0s 9ms/step - loss: 0.9483 - accuracy: 0.6988 - val_loss: 0.7982 - val_accuracy: 0.7619\n",
      "Epoch 23/60\n",
      "6/6 [==============================] - 0s 9ms/step - loss: 0.9115 - accuracy: 0.7048 - val_loss: 0.7965 - val_accuracy: 0.7381\n",
      "Epoch 24/60\n",
      "6/6 [==============================] - 0s 10ms/step - loss: 0.8858 - accuracy: 0.7108 - val_loss: 0.7397 - val_accuracy: 0.7857\n",
      "Epoch 25/60\n",
      "6/6 [==============================] - 0s 8ms/step - loss: 0.8555 - accuracy: 0.7048 - val_loss: 0.7199 - val_accuracy: 0.7857\n",
      "Epoch 26/60\n",
      "6/6 [==============================] - 0s 7ms/step - loss: 0.8295 - accuracy: 0.6988 - val_loss: 0.7573 - val_accuracy: 0.7857\n",
      "Epoch 27/60\n",
      "6/6 [==============================] - 0s 7ms/step - loss: 0.8101 - accuracy: 0.7229 - val_loss: 0.7180 - val_accuracy: 0.7857\n",
      "Epoch 28/60\n",
      "6/6 [==============================] - 0s 7ms/step - loss: 0.7731 - accuracy: 0.7229 - val_loss: 0.6979 - val_accuracy: 0.7857\n",
      "Epoch 29/60\n",
      "6/6 [==============================] - 0s 7ms/step - loss: 0.7555 - accuracy: 0.7530 - val_loss: 0.6999 - val_accuracy: 0.8095\n",
      "Epoch 30/60\n",
      "6/6 [==============================] - 0s 7ms/step - loss: 0.7359 - accuracy: 0.7470 - val_loss: 0.7418 - val_accuracy: 0.8095\n",
      "Epoch 31/60\n",
      "6/6 [==============================] - 0s 8ms/step - loss: 0.7159 - accuracy: 0.7289 - val_loss: 0.6926 - val_accuracy: 0.7857\n",
      "Epoch 32/60\n",
      "6/6 [==============================] - 0s 8ms/step - loss: 0.6985 - accuracy: 0.7470 - val_loss: 0.6280 - val_accuracy: 0.8095\n",
      "Epoch 33/60\n",
      "6/6 [==============================] - 0s 8ms/step - loss: 0.6780 - accuracy: 0.7590 - val_loss: 0.6568 - val_accuracy: 0.7619\n",
      "Epoch 34/60\n",
      "6/6 [==============================] - 0s 9ms/step - loss: 0.6584 - accuracy: 0.7771 - val_loss: 0.6966 - val_accuracy: 0.7857\n",
      "Epoch 35/60\n",
      "6/6 [==============================] - 0s 8ms/step - loss: 0.6510 - accuracy: 0.8012 - val_loss: 0.6638 - val_accuracy: 0.7857\n",
      "Epoch 36/60\n",
      "6/6 [==============================] - 0s 9ms/step - loss: 0.6260 - accuracy: 0.8012 - val_loss: 0.6202 - val_accuracy: 0.8095\n",
      "Epoch 37/60\n",
      "6/6 [==============================] - 0s 8ms/step - loss: 0.6168 - accuracy: 0.7651 - val_loss: 0.6037 - val_accuracy: 0.7857\n",
      "Epoch 38/60\n",
      "6/6 [==============================] - 0s 8ms/step - loss: 0.6051 - accuracy: 0.7530 - val_loss: 0.6020 - val_accuracy: 0.7857\n",
      "Epoch 39/60\n",
      "6/6 [==============================] - 0s 7ms/step - loss: 0.5803 - accuracy: 0.7711 - val_loss: 0.6031 - val_accuracy: 0.7619\n",
      "Epoch 40/60\n",
      "6/6 [==============================] - 0s 9ms/step - loss: 0.5694 - accuracy: 0.7831 - val_loss: 0.6259 - val_accuracy: 0.7857\n",
      "Epoch 41/60\n",
      "6/6 [==============================] - 0s 8ms/step - loss: 0.5606 - accuracy: 0.8133 - val_loss: 0.6529 - val_accuracy: 0.8095\n",
      "Epoch 42/60\n",
      "6/6 [==============================] - 0s 8ms/step - loss: 0.5453 - accuracy: 0.7952 - val_loss: 0.6282 - val_accuracy: 0.7857\n",
      "Epoch 43/60\n",
      "6/6 [==============================] - 0s 8ms/step - loss: 0.5251 - accuracy: 0.7831 - val_loss: 0.5967 - val_accuracy: 0.7857\n",
      "Epoch 44/60\n",
      "6/6 [==============================] - 0s 8ms/step - loss: 0.5126 - accuracy: 0.8072 - val_loss: 0.6250 - val_accuracy: 0.7857\n",
      "Epoch 45/60\n",
      "6/6 [==============================] - 0s 8ms/step - loss: 0.5035 - accuracy: 0.8133 - val_loss: 0.6039 - val_accuracy: 0.8095\n",
      "Epoch 46/60\n",
      "6/6 [==============================] - 0s 8ms/step - loss: 0.4916 - accuracy: 0.8193 - val_loss: 0.5908 - val_accuracy: 0.8095\n",
      "Epoch 47/60\n",
      "6/6 [==============================] - 0s 8ms/step - loss: 0.4858 - accuracy: 0.7952 - val_loss: 0.6092 - val_accuracy: 0.7857\n",
      "Epoch 48/60\n",
      "6/6 [==============================] - 0s 9ms/step - loss: 0.4729 - accuracy: 0.8193 - val_loss: 0.6125 - val_accuracy: 0.7857\n",
      "Epoch 49/60\n",
      "6/6 [==============================] - 0s 10ms/step - loss: 0.4693 - accuracy: 0.8373 - val_loss: 0.6035 - val_accuracy: 0.8095\n",
      "Epoch 50/60\n",
      "6/6 [==============================] - 0s 7ms/step - loss: 0.4596 - accuracy: 0.8434 - val_loss: 0.5727 - val_accuracy: 0.8333\n",
      "Epoch 51/60\n",
      "6/6 [==============================] - 0s 8ms/step - loss: 0.4367 - accuracy: 0.8614 - val_loss: 0.5684 - val_accuracy: 0.8095\n",
      "Epoch 52/60\n",
      "6/6 [==============================] - 0s 8ms/step - loss: 0.4362 - accuracy: 0.8434 - val_loss: 0.5797 - val_accuracy: 0.7857\n",
      "Epoch 53/60\n",
      "6/6 [==============================] - 0s 10ms/step - loss: 0.4300 - accuracy: 0.8373 - val_loss: 0.5835 - val_accuracy: 0.7857\n",
      "Epoch 54/60\n",
      "6/6 [==============================] - 0s 8ms/step - loss: 0.4146 - accuracy: 0.8735 - val_loss: 0.5954 - val_accuracy: 0.8095\n",
      "Epoch 55/60\n",
      "6/6 [==============================] - 0s 9ms/step - loss: 0.4203 - accuracy: 0.8494 - val_loss: 0.6252 - val_accuracy: 0.7619\n",
      "Epoch 56/60\n",
      "6/6 [==============================] - 0s 9ms/step - loss: 0.4042 - accuracy: 0.8795 - val_loss: 0.5809 - val_accuracy: 0.8095\n",
      "Epoch 57/60\n",
      "6/6 [==============================] - 0s 8ms/step - loss: 0.3851 - accuracy: 0.8916 - val_loss: 0.5643 - val_accuracy: 0.8095\n",
      "Epoch 58/60\n",
      "6/6 [==============================] - 0s 8ms/step - loss: 0.3778 - accuracy: 0.8735 - val_loss: 0.5707 - val_accuracy: 0.8095\n",
      "Epoch 59/60\n",
      "6/6 [==============================] - 0s 8ms/step - loss: 0.3669 - accuracy: 0.8916 - val_loss: 0.5635 - val_accuracy: 0.8095\n"
     ]
    },
    {
     "name": "stdout",
     "output_type": "stream",
     "text": [
      "Epoch 60/60\n",
      "6/6 [==============================] - 0s 7ms/step - loss: 0.3576 - accuracy: 0.9036 - val_loss: 0.5692 - val_accuracy: 0.7857\n"
     ]
    }
   ],
   "source": [
    "history = model.fit(X_train,y_train,epochs=60,validation_split=0.2)"
   ]
  },
  {
   "cell_type": "code",
   "execution_count": 209,
   "id": "eb8a6d17",
   "metadata": {},
   "outputs": [
    {
     "name": "stdout",
     "output_type": "stream",
     "text": [
      "2/2 [==============================] - 0s 2ms/step\n"
     ]
    }
   ],
   "source": [
    "y_prob = model.predict(X_test)"
   ]
  },
  {
   "cell_type": "code",
   "execution_count": 210,
   "id": "dd0d39ce",
   "metadata": {},
   "outputs": [
    {
     "data": {
      "text/plain": [
       "52"
      ]
     },
     "execution_count": 210,
     "metadata": {},
     "output_type": "execute_result"
    }
   ],
   "source": [
    "len(y_prob)"
   ]
  },
  {
   "cell_type": "code",
   "execution_count": 211,
   "id": "68e295c6",
   "metadata": {},
   "outputs": [],
   "source": [
    "y_pred = y_prob.argmax(axis=1)"
   ]
  },
  {
   "cell_type": "code",
   "execution_count": 212,
   "id": "256c0703",
   "metadata": {},
   "outputs": [
    {
     "data": {
      "text/plain": [
       "0.7692307692307693"
      ]
     },
     "execution_count": 212,
     "metadata": {},
     "output_type": "execute_result"
    }
   ],
   "source": [
    "from sklearn.metrics import accuracy_score\n",
    "accuracy_score(y_test,y_pred)"
   ]
  },
  {
   "cell_type": "code",
   "execution_count": 213,
   "id": "75342043",
   "metadata": {},
   "outputs": [
    {
     "data": {
      "text/plain": [
       "[<matplotlib.lines.Line2D at 0x224f748b150>]"
      ]
     },
     "execution_count": 213,
     "metadata": {},
     "output_type": "execute_result"
    },
    {
     "data": {
      "image/png": "[encoded data removed]",
      "text/plain": [
       "<Figure size 640x480 with 1 Axes>"
      ]
     },
     "metadata": {},
     "output_type": "display_data"
    }
   ],
   "source": [
    "import matplotlib.pyplot as plt\n",
    "plt.plot(history.history['loss'])\n",
    "plt.plot(history.history['val_loss'])"
   ]
  },
  {
   "cell_type": "code",
   "execution_count": 214,
   "id": "def04bcc",
   "metadata": {},
   "outputs": [
    {
     "data": {
      "text/plain": [
       "[<matplotlib.lines.Line2D at 0x224f7502790>]"
      ]
     },
     "execution_count": 214,
     "metadata": {},
     "output_type": "execute_result"
    },
    {
     "data": {
      "image/png": "[encoded data removed]",
      "text/plain": [
       "<Figure size 640x480 with 1 Axes>"
      ]
     },
     "metadata": {},
     "output_type": "display_data"
    }
   ],
   "source": [
    "plt.plot(history.history['accuracy'])\n",
    "plt.plot(history.history['val_accuracy'])"
   ]
  },
  {
   "cell_type": "code",
   "execution_count": 215,
   "id": "703b9c38",
   "metadata": {},
   "outputs": [],
   "source": [
    "def chat_query(text, model):\n",
    "    query_text = own_text_pre_proce(text)\n",
    "    X_qry = simple_preprocess(query_text)\n",
    "    # split the text and covert to word 2 vec\n",
    "    X_qry = sent_vec(X_qry)\n",
    "    # reshape it into tensor flow\n",
    "    # X_qry = tf.stack(X_qry)\n",
    "    # print(X_qry)\n",
    "    # send it to predict function\n",
    "    y_qry_prob = model.predict(X_qry.reshape(1,100))\n",
    "    print(y_qry_prob)\n",
    "    # convert prob into argmax\n",
    "    y_qey_pred = y_qry_prob.argmax(axis=1)\n",
    "    # print the tag value of the ypred index\n",
    "    print(y_qey_pred)\n",
    "    print(tag_encoder.classes_[y_qey_pred])"
   ]
  },
  {
   "cell_type": "code",
   "execution_count": 219,
   "id": "943e183c",
   "metadata": {},
   "outputs": [
    {
     "name": "stdout",
     "output_type": "stream",
     "text": [
      "1/1 [==============================] - 0s 20ms/step\n",
      "[[3.19111734e-07 5.87434974e-04 1.17015106e-10 9.77614832e-07\n",
      "  2.10438069e-04 1.11196141e-06 1.54382195e-02 9.83761489e-01\n",
      "  4.35189094e-08]]\n",
      "[7]\n",
      "['price']\n"
     ]
    }
   ],
   "source": [
    "chat_query(\"How much it cost for single person\", model)"
   ]
  },
  {
   "cell_type": "code",
   "execution_count": null,
   "id": "f44763cb",
   "metadata": {},
   "outputs": [],
   "source": []
  }
 ],
 "metadata": {
  "kernelspec": {
   "display_name": "Python 3 (ipykernel)",
   "language": "python",
   "name": "python3"
  },
  "language_info": {
   "codemirror_mode": {
    "name": "ipython",
    "version": 3
   },
   "file_extension": ".py",
   "mimetype": "text/x-python",
   "name": "python",
   "nbconvert_exporter": "python",
   "pygments_lexer": "ipython3",
   "version": "3.11.5"
  }
 },
 "nbformat": 4,
 "nbformat_minor": 5
}
