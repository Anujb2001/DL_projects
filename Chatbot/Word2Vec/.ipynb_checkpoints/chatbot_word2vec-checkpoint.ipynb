{
 "cells": [
  {
   "cell_type": "markdown",
   "id": "262ba787",
   "metadata": {},
   "source": [
    "# Word 2 Vec model"
   ]
  },
  {
   "cell_type": "markdown",
   "id": "d23728aa",
   "metadata": {},
   "source": [
    "## Import required library"
   ]
  },
  {
   "cell_type": "code",
   "execution_count": 2,
   "id": "61a396ed",
   "metadata": {},
   "outputs": [],
   "source": [
    "import gensim\n",
    "from gensim.models import word2vec\n",
    "from gensim.models.word2vec import Word2Vec\n",
    "import numpy as np\n",
    "import matplotlib.pyplot as plt\n",
    "import pandas as pd\n",
    "import nltk\n",
    "import re\n",
    "import string\n",
    "from textblob import TextBlob\n",
    "from nltk.corpus import stopwords\n",
    "from nltk import sent_tokenize\n",
    "from gensim.utils import simple_preprocess\n",
    "import os\n",
    "import gensim\n",
    "import os"
   ]
  },
  {
   "cell_type": "markdown",
   "id": "e333a04f",
   "metadata": {},
   "source": [
    "## Function declare section"
   ]
  },
  {
   "cell_type": "code",
   "execution_count": 3,
   "id": "5a346295",
   "metadata": {},
   "outputs": [],
   "source": [
    "# install required library\n",
    "def install_required_library(install_basic_lib = False):\n",
    "    if install_basic_lib:\n",
    "        !pip install pandas numpy matplotlib scikit-learn\n",
    "    !pip install gensim emoji nltk textblob tensorflow\n",
    "    nltk.download('stopwords')\n",
    "    nltk.download('punkt')\n",
    "#     ! python -m textblob.download_corpora\n",
    "    \n",
    "# configuration of word 2 vec gensim model    \n",
    "def config_gensim_word_vec():\n",
    "    gen_model = gensim.models.Word2Vec(window=10, min_count=2)\n",
    "    return gen_model\n",
    "\n",
    "# build the word 2 vec gensim model by reading all file data\n",
    "def build_word_vec_vocab(gen_model):\n",
    "    story = get_data_from_text_file(\"data\")\n",
    "    gen_model.build_vocab(story)\n",
    "    gen_model.train(story, total_examples= gen_model.corpus_count, epochs = gen_model.epochs)\n",
    "    \n",
    "def remove_tags(text):\n",
    "    TAG_RE = re.compile(r'<[^>]+>')\n",
    "    return TAG_RE.sub('', text)\n",
    "    \n",
    "def remove_urls (vTEXT):\n",
    "    vTEXT = re.sub(r'(https|http)?:\\/\\/(\\w|\\.|\\/|\\?|\\=|\\&|\\%)*\\b', '', vTEXT, flags=re.MULTILINE)\n",
    "    return(vTEXT)\n",
    "\n",
    "def remove_punc(text):  # From S.Lott's solution\n",
    "    exclude = string.punctuation\n",
    "    text = text.translate(str.maketrans('','', exclude))\n",
    "    return text\n",
    "\n",
    "def remove_stopwords(text):\n",
    "    new_text = []\n",
    "    for word in text.split():\n",
    "        if not word in stopwords.words('english'):\n",
    "            new_text.append(word)\n",
    "    x = new_text[:]\n",
    "    return \" \".join(x)\n",
    "\n",
    "def own_text_pre_proce(text, spell_check = False, can_remove_stopwords= True):\n",
    "    # lower case\n",
    "    text = text.lower()\n",
    "    # remove html tag data\n",
    "    text = remove_tags(text)\n",
    "    # remove url\n",
    "    text = remove_urls(text)\n",
    "    # remove punctuation\n",
    "    text = remove_punc(text)\n",
    "    # Spelling correction\n",
    "    if spell_check :\n",
    "        text_blob = TextBlob(text)\n",
    "        text = text_blob.correct().string\n",
    "    # remove stop words\n",
    "    if can_remove_stopwords:\n",
    "        text = remove_stopwords(text)\n",
    "    # handel emoji\n",
    "    # text = emoji.demojize(text)\n",
    "    return text\n",
    "\n",
    "# this function is used to read all text file data to build vocablory\n",
    "def get_data_from_text_file(dir_name):\n",
    "    story = []\n",
    "    for filename in os.listdir(dir_name):\n",
    "        # open the file and read the data\n",
    "        with open(os.path.join(dir_name, filename), encoding=\"utf-8\") as file\n",
    "            corpus = file.read()\n",
    "            \n",
    "        # tokenize the read file data by putting it into array   \n",
    "        raw_sent = sent_tokenize(corpus)\n",
    "        # loo to all sentance\n",
    "        for sent in raw_sent:\n",
    "            # per form own pre processing\n",
    "            sent = own_text_pre_proce(sent)\n",
    "            # use simple pre processing and conver sentance into word array\n",
    "            story.append(simple_preprocess(sent))\n",
    "\n",
    "    # Read the review csv file from kaggel\n",
    "    df = pd.read_csv(\"Restaurant reviews.csv\");\n",
    "    for doc in df[\"Review\"]:\n",
    "        raw_sent = sent_tokenize(str(doc))\n",
    "        for sent in raw_sent:\n",
    "            story.append(simple_preprocess(sent))\n",
    "    \n",
    "    # print the number line in story\n",
    "    print(\"file read success with lenght = \", len(story) )\n",
    "    return story\n"
   ]
  },
  {
   "cell_type": "markdown",
   "id": "54982e04",
   "metadata": {},
   "source": [
    "## Set flag to control running of the function"
   ]
  },
  {
   "cell_type": "code",
   "execution_count": 7,
   "id": "ce616f9b",
   "metadata": {},
   "outputs": [],
   "source": [
    "installation = False\n"
   ]
  },
  {
   "cell_type": "markdown",
   "id": "f5839224",
   "metadata": {},
   "source": [
    "## Function calling section"
   ]
  },
  {
   "cell_type": "code",
   "execution_count": 8,
   "id": "e5c1e3c9",
   "metadata": {},
   "outputs": [],
   "source": [
    "# call this function if any liberary missing to install\n",
    "if (installation):\n",
    "    install_required_library()"
   ]
  },
  {
   "cell_type": "code",
   "execution_count": 9,
   "id": "4e52a20d",
   "metadata": {},
   "outputs": [],
   "source": [
    "# call to configure model\n",
    "gen_model = config_gensim_word_vec()"
   ]
  },
  {
   "cell_type": "code",
   "execution_count": 11,
   "id": "1bad9969",
   "metadata": {},
   "outputs": [
    {
     "name": "stdout",
     "output_type": "stream",
     "text": [
      "file read success with lenght =  64273\n"
     ]
    }
   ],
   "source": [
    "# call to build or rebuid the word 2 vec gensim model\n",
    "build_word_vec_vocab(gen_model)"
   ]
  },
  {
   "cell_type": "code",
   "execution_count": 12,
   "id": "3ab8b75f-702a-4bd0-8999-f83cec7a0d5e",
   "metadata": {},
   "outputs": [
    {
     "data": {
      "text/plain": [
       "[('soup', 0.9814735651016235),\n",
       " ('curry', 0.975115954875946),\n",
       " ('aloo', 0.9730731844902039),\n",
       " ('mushroom', 0.9728401899337769),\n",
       " ('pasta', 0.9705616235733032),\n",
       " ('pizza', 0.9683366417884827),\n",
       " ('paratha', 0.9680683612823486),\n",
       " ('starter', 0.9677361845970154),\n",
       " ('masala', 0.9670090079307556),\n",
       " ('kebab', 0.9669042229652405)]"
      ]
     },
     "execution_count": 12,
     "metadata": {},
     "output_type": "execute_result"
    }
   ],
   "source": [
    "gen_model.wv.most_similar(\"paneer\")"
   ]
  },
  {
   "cell_type": "markdown",
   "id": "1315448f",
   "metadata": {},
   "source": [
    "## Dump the word 2 vec model "
   ]
  },
  {
   "cell_type": "code",
   "execution_count": 13,
   "id": "389698e6",
   "metadata": {},
   "outputs": [],
   "source": [
    "import pickle\n",
    "pickle.dump(gen_model, open(\"word2vec.pkl\", \"wb\"))"
   ]
  },
  {
   "cell_type": "markdown",
   "id": "96d81b70",
   "metadata": {},
   "source": [
    "#  ANN Model for Chatbot"
   ]
  },
  {
   "cell_type": "markdown",
   "id": "ef8ad655",
   "metadata": {},
   "source": [
    "## Import section"
   ]
  },
  {
   "cell_type": "code",
   "execution_count": 17,
   "id": "f1eeaa1f",
   "metadata": {},
   "outputs": [
    {
     "name": "stdout",
     "output_type": "stream",
     "text": [
      "WARNING:tensorflow:From C:\\Users\\bhard\\anaconda3\\Lib\\site-packages\\keras\\src\\losses.py:2976: The name tf.losses.sparse_softmax_cross_entropy is deprecated. Please use tf.compat.v1.losses.sparse_softmax_cross_entropy instead.\n",
      "\n"
     ]
    }
   ],
   "source": [
    "import pandas as pd\n",
    "import json\n",
    "import tensorflow\n",
    "from tensorflow import keras\n",
    "from tensorflow.keras import Sequential\n",
    "from tensorflow.keras.layers import Dense,Flatten\n",
    "from sklearn.preprocessing import LabelEncoder\n",
    "from sklearn.model_selection import train_test_split\n",
    "import tensorflow as tf\n",
    "from sklearn.metrics import accuracy_score\n",
    "import matplotlib.pyplot as plt\n",
    "import pickle"
   ]
  },
  {
   "cell_type": "markdown",
   "id": "f9ef8119",
   "metadata": {},
   "source": [
    "## Function declaration section"
   ]
  },
  {
   "cell_type": "code",
   "execution_count": 22,
   "id": "d197cc80",
   "metadata": {},
   "outputs": [],
   "source": [
    "def config_chat_model(tag_count):\n",
    "    chat_model = Sequential()\n",
    "    chat_model.add(Dense(50,activation=\"relu\",input_dim=100))\n",
    "    chat_model.add(Dense(128,activation='relu'))\n",
    "    chat_model.add(Dense(300,activation='relu'))\n",
    "    chat_model.add(Dense(tag_count,activation='softmax'))\n",
    "    chat_model.summary()\n",
    "    chat_model.compile(loss='sparse_categorical_crossentropy',optimizer='Adam',metrics=['accuracy'])\n",
    "    return chat_model\n",
    "\n",
    "def reload_data_and_build_model():\n",
    "    json_file_path = \"data\\intents2.backup.json\"\n",
    "    df = read_json_file(json_file_path)\n",
    "    df = df.drop_duplicates()\n",
    "    X = pre_process_df(df[\"data\"]).to_list()\n",
    "    y = df[\"label\"].to_list()\n",
    "    tag_encoder = LabelEncoder()\n",
    "    y = tag_encoder.fit_transform(y)\n",
    "    X_train, X_test, y_train, y_test = train_test_split(X,y, test_size = 0.2, random_state = 1)\n",
    "    X_train = tf.stack(X_train)\n",
    "    y_train = tf.stack(y_train)\n",
    "    X_test  = tf.stack(X_test)\n",
    "    model = config_chat_model(len(tag_encoder.classes_))\n",
    "    history = model.fit(X_train,y_train,epochs=100,validation_split=0.2)\n",
    "    return [model, history, X_test, y_test, tag_encoder]\n",
    "\n",
    "def evaluate_model (model, history, X_test, y_test):\n",
    "    y_prob = model.predict(X_test)\n",
    "    y_pred = y_prob.argmax(axis=1)\n",
    "    print (accuracy_score(y_test,y_pred))\n",
    "    print(\"Ploting Loss and Accuracy graph [Train Vs Validation]....\")\n",
    "    fig, (plt_accuracy, plt_loss) = plt.subplots(2,1, figsize=(10,10))\n",
    "    # adjust the space between the plot\n",
    "    fig.subplots_adjust(hspace=0.5, wspace= 0.5)\n",
    "    fig.suptitle(\"Accuracy graph [Train Vs Validation]\")\n",
    "    \n",
    "    # Accuracy   \n",
    "    plt_accuracy.set(title = \"\", xlabel=\"Number of Epochs\", ylabel=\"Accuracy in Percentag(%)\")\n",
    "    plt_accuracy.plot(history.history['accuracy'])\n",
    "    plt_accuracy.plot(history.history['val_accuracy'])\n",
    "    \n",
    "    # Loss\n",
    "    plt_loss.set(title = \"\", xlabel=\"Number of Epochs\", ylabel=\"Loss in Percentag(%)\")\n",
    "    plt_loss.plot(history.history['loss'])\n",
    "    plt_loss.plot(history.history['val_loss'])\n",
    "    plt.show()\n",
    "\n",
    "def read_json_file(file_path = \"data\\intents.json\", intents_name=\"intents\", ques_name=\"questions\", tag_name=\"tag\", ans_name=\"answers\"):\n",
    "    json_data = []\n",
    "    with open(file_path, 'r') as file:\n",
    "        data = json.load(file)\n",
    "    print (len(data[intents_name]))\n",
    "    for i in range(len(data[intents_name])):\n",
    "        current_tag = data[intents_name][i][tag_name].replace(\" \",'_').lower()\n",
    "        current_questions = data[intents_name][i][ques_name]\n",
    "#         if (len(current_questions) < 40):\n",
    "#             continue;\n",
    "        for j in range(len(current_questions)):\n",
    "            record_value = {\"data\":current_questions[j], \"label\":current_tag}\n",
    "            # print(current_questions[j])\n",
    "            json_data.append(record_value)\n",
    "    return pd.DataFrame(json_data)\n",
    "\n",
    "def sent_vec(sent):\n",
    "    vector_size = gen_model.wv.vector_size\n",
    "    wv_res = np.zeros(vector_size)\n",
    "    # print(wv_res)\n",
    "    ctr = 1\n",
    "    for w in sent:\n",
    "        if w in gen_model.wv:\n",
    "            ctr += 1\n",
    "            wv_res += gen_model.wv[w]\n",
    "    wv_res = wv_res/ctr\n",
    "    return wv_res\n",
    "\n",
    "def pre_process_df(data):\n",
    "    result = data.apply(own_text_pre_proce)\n",
    "    result = result.apply(simple_preprocess)\n",
    "    result = result.apply(sent_vec)\n",
    "    return result\n",
    "\n",
    "def chat_query(text, model, spell_check = False, can_remove_stopwords = True):\n",
    "    query_text = own_text_pre_proce(text,spell_check=spell_check, can_remove_stopwords= can_remove_stopwords)\n",
    "    print(\"text - \",text)\n",
    "    print(query_text)\n",
    "    X_qry = simple_preprocess(query_text)\n",
    "    # split the text and covert to word 2 vec\n",
    "    X_qry = sent_vec(X_qry)\n",
    "    y_qry_prob = model.predict(X_qry.reshape(1,100))\n",
    "    # convert prob into argmax\n",
    "    y_qey_pred = y_qry_prob.argmax(axis=1)\n",
    "    # print the tag value of the ypred index\n",
    "    prob_with_class_name = [{tag_encoder.classes_[i]: y_qry_prob[0][i].round(4)} for i in range(len(tag_encoder.classes_))]\n",
    "    print(prob_with_class_name)\n",
    "    print(\"\\n\\nPredict class name is - \",tag_encoder.classes_[y_qey_pred])\n"
   ]
  },
  {
   "cell_type": "markdown",
   "id": "1b8356a8",
   "metadata": {},
   "source": [
    "## Load the Word 2 Vec gensim model "
   ]
  },
  {
   "cell_type": "code",
   "execution_count": 19,
   "id": "936f4bfb",
   "metadata": {},
   "outputs": [
    {
     "name": "stdout",
     "output_type": "stream",
     "text": [
      "100\n"
     ]
    }
   ],
   "source": [
    "import pickle\n",
    "gen_model = pickle.load(open(\"word2vec.pkl\", 'rb'))\n",
    "print(gen_model.wv.vector_size)"
   ]
  },
  {
   "cell_type": "markdown",
   "id": "21f15a60",
   "metadata": {},
   "source": [
    "## Function Calling section"
   ]
  },
  {
   "cell_type": "code",
   "execution_count": 20,
   "id": "89470b7b",
   "metadata": {},
   "outputs": [
    {
     "name": "stdout",
     "output_type": "stream",
     "text": [
      "11\n",
      "WARNING:tensorflow:From C:\\Users\\bhard\\anaconda3\\Lib\\site-packages\\keras\\src\\backend.py:873: The name tf.get_default_graph is deprecated. Please use tf.compat.v1.get_default_graph instead.\n",
      "\n",
      "Model: \"sequential\"\n",
      "_________________________________________________________________\n",
      " Layer (type)                Output Shape              Param #   \n",
      "=================================================================\n",
      " dense (Dense)               (None, 50)                5050      \n",
      "                                                                 \n",
      " dense_1 (Dense)             (None, 128)               6528      \n",
      "                                                                 \n",
      " dense_2 (Dense)             (None, 300)               38700     \n",
      "                                                                 \n",
      " dense_3 (Dense)             (None, 11)                3311      \n",
      "                                                                 \n",
      "=================================================================\n",
      "Total params: 53589 (209.33 KB)\n",
      "Trainable params: 53589 (209.33 KB)\n",
      "Non-trainable params: 0 (0.00 Byte)\n",
      "_________________________________________________________________\n",
      "WARNING:tensorflow:From C:\\Users\\bhard\\anaconda3\\Lib\\site-packages\\keras\\src\\optimizers\\__init__.py:309: The name tf.train.Optimizer is deprecated. Please use tf.compat.v1.train.Optimizer instead.\n",
      "\n",
      "Epoch 1/100\n",
      "WARNING:tensorflow:From C:\\Users\\bhard\\anaconda3\\Lib\\site-packages\\keras\\src\\utils\\tf_utils.py:492: The name tf.ragged.RaggedTensorValue is deprecated. Please use tf.compat.v1.ragged.RaggedTensorValue instead.\n",
      "\n",
      "WARNING:tensorflow:From C:\\Users\\bhard\\anaconda3\\Lib\\site-packages\\keras\\src\\engine\\base_layer_utils.py:384: The name tf.executing_eagerly_outside_functions is deprecated. Please use tf.compat.v1.executing_eagerly_outside_functions instead.\n",
      "\n",
      "8/8 [==============================] - 2s 34ms/step - loss: 2.3398 - accuracy: 0.2479 - val_loss: 2.2391 - val_accuracy: 0.3833\n",
      "Epoch 2/100\n",
      "8/8 [==============================] - 0s 9ms/step - loss: 2.1196 - accuracy: 0.5042 - val_loss: 2.0170 - val_accuracy: 0.4333\n",
      "Epoch 3/100\n",
      "8/8 [==============================] - 0s 9ms/step - loss: 1.8536 - accuracy: 0.5210 - val_loss: 1.7829 - val_accuracy: 0.4833\n",
      "Epoch 4/100\n",
      "8/8 [==============================] - 0s 7ms/step - loss: 1.5718 - accuracy: 0.5546 - val_loss: 1.5254 - val_accuracy: 0.5000\n",
      "Epoch 5/100\n",
      "8/8 [==============================] - 0s 10ms/step - loss: 1.3148 - accuracy: 0.6050 - val_loss: 1.3316 - val_accuracy: 0.5833\n",
      "Epoch 6/100\n",
      "8/8 [==============================] - 0s 10ms/step - loss: 1.1384 - accuracy: 0.6639 - val_loss: 1.2133 - val_accuracy: 0.5833\n",
      "Epoch 7/100\n",
      "8/8 [==============================] - 0s 7ms/step - loss: 1.0104 - accuracy: 0.6555 - val_loss: 1.1295 - val_accuracy: 0.6000\n",
      "Epoch 8/100\n",
      "8/8 [==============================] - 0s 8ms/step - loss: 0.8921 - accuracy: 0.7353 - val_loss: 1.1315 - val_accuracy: 0.6167\n",
      "Epoch 9/100\n",
      "8/8 [==============================] - 0s 8ms/step - loss: 0.8046 - accuracy: 0.7269 - val_loss: 1.0141 - val_accuracy: 0.6667\n",
      "Epoch 10/100\n",
      "8/8 [==============================] - 0s 8ms/step - loss: 0.7407 - accuracy: 0.7563 - val_loss: 0.9857 - val_accuracy: 0.6500\n",
      "Epoch 11/100\n",
      "8/8 [==============================] - 0s 7ms/step - loss: 0.6827 - accuracy: 0.7689 - val_loss: 1.0096 - val_accuracy: 0.6500\n",
      "Epoch 12/100\n",
      "8/8 [==============================] - 0s 9ms/step - loss: 0.6407 - accuracy: 0.8025 - val_loss: 0.9593 - val_accuracy: 0.6500\n",
      "Epoch 13/100\n",
      "8/8 [==============================] - 0s 8ms/step - loss: 0.5970 - accuracy: 0.8109 - val_loss: 0.9218 - val_accuracy: 0.6833\n",
      "Epoch 14/100\n",
      "8/8 [==============================] - 0s 7ms/step - loss: 0.5618 - accuracy: 0.8277 - val_loss: 1.0032 - val_accuracy: 0.6333\n",
      "Epoch 15/100\n",
      "8/8 [==============================] - 0s 9ms/step - loss: 0.5272 - accuracy: 0.8277 - val_loss: 0.9587 - val_accuracy: 0.6167\n",
      "Epoch 16/100\n",
      "8/8 [==============================] - 0s 7ms/step - loss: 0.4964 - accuracy: 0.8361 - val_loss: 0.8847 - val_accuracy: 0.6500\n",
      "Epoch 17/100\n",
      "8/8 [==============================] - 0s 7ms/step - loss: 0.4523 - accuracy: 0.8571 - val_loss: 0.9069 - val_accuracy: 0.6500\n",
      "Epoch 18/100\n",
      "8/8 [==============================] - 0s 10ms/step - loss: 0.4398 - accuracy: 0.8697 - val_loss: 0.8631 - val_accuracy: 0.6833\n",
      "Epoch 19/100\n",
      "8/8 [==============================] - 0s 10ms/step - loss: 0.4032 - accuracy: 0.8697 - val_loss: 0.8956 - val_accuracy: 0.6667\n",
      "Epoch 20/100\n",
      "8/8 [==============================] - 0s 8ms/step - loss: 0.3703 - accuracy: 0.9034 - val_loss: 0.8214 - val_accuracy: 0.7000\n",
      "Epoch 21/100\n",
      "8/8 [==============================] - 0s 8ms/step - loss: 0.3801 - accuracy: 0.8782 - val_loss: 0.8434 - val_accuracy: 0.7000\n",
      "Epoch 22/100\n",
      "8/8 [==============================] - 0s 9ms/step - loss: 0.3408 - accuracy: 0.8992 - val_loss: 0.8462 - val_accuracy: 0.7167\n",
      "Epoch 23/100\n",
      "8/8 [==============================] - 0s 9ms/step - loss: 0.3209 - accuracy: 0.9076 - val_loss: 0.8284 - val_accuracy: 0.6833\n",
      "Epoch 24/100\n",
      "8/8 [==============================] - 0s 9ms/step - loss: 0.3084 - accuracy: 0.9160 - val_loss: 0.7667 - val_accuracy: 0.7333\n",
      "Epoch 25/100\n",
      "8/8 [==============================] - 0s 8ms/step - loss: 0.2891 - accuracy: 0.9244 - val_loss: 0.7795 - val_accuracy: 0.7167\n",
      "Epoch 26/100\n",
      "8/8 [==============================] - 0s 8ms/step - loss: 0.2717 - accuracy: 0.9370 - val_loss: 0.7968 - val_accuracy: 0.7667\n",
      "Epoch 27/100\n",
      "8/8 [==============================] - 0s 8ms/step - loss: 0.2633 - accuracy: 0.9202 - val_loss: 0.7914 - val_accuracy: 0.7000\n",
      "Epoch 28/100\n",
      "8/8 [==============================] - 0s 7ms/step - loss: 0.2624 - accuracy: 0.9160 - val_loss: 0.7895 - val_accuracy: 0.7167\n",
      "Epoch 29/100\n",
      "8/8 [==============================] - 0s 7ms/step - loss: 0.2400 - accuracy: 0.9496 - val_loss: 0.7459 - val_accuracy: 0.7500\n",
      "Epoch 30/100\n",
      "8/8 [==============================] - 0s 7ms/step - loss: 0.2177 - accuracy: 0.9538 - val_loss: 0.8086 - val_accuracy: 0.7500\n",
      "Epoch 31/100\n",
      "8/8 [==============================] - 0s 6ms/step - loss: 0.2137 - accuracy: 0.9496 - val_loss: 0.7613 - val_accuracy: 0.7833\n",
      "Epoch 32/100\n",
      "8/8 [==============================] - 0s 7ms/step - loss: 0.2041 - accuracy: 0.9454 - val_loss: 0.7641 - val_accuracy: 0.7500\n",
      "Epoch 33/100\n",
      "8/8 [==============================] - 0s 8ms/step - loss: 0.2018 - accuracy: 0.9496 - val_loss: 0.7514 - val_accuracy: 0.7500\n",
      "Epoch 34/100\n",
      "8/8 [==============================] - 0s 8ms/step - loss: 0.1837 - accuracy: 0.9580 - val_loss: 0.7579 - val_accuracy: 0.7667\n",
      "Epoch 35/100\n",
      "8/8 [==============================] - 0s 10ms/step - loss: 0.1797 - accuracy: 0.9538 - val_loss: 0.7635 - val_accuracy: 0.7500\n",
      "Epoch 36/100\n",
      "8/8 [==============================] - 0s 10ms/step - loss: 0.1689 - accuracy: 0.9538 - val_loss: 0.7601 - val_accuracy: 0.7833\n",
      "Epoch 37/100\n",
      "8/8 [==============================] - 0s 11ms/step - loss: 0.1794 - accuracy: 0.9496 - val_loss: 0.7574 - val_accuracy: 0.7667\n",
      "Epoch 38/100\n",
      "8/8 [==============================] - 0s 15ms/step - loss: 0.1651 - accuracy: 0.9580 - val_loss: 0.7954 - val_accuracy: 0.7500\n",
      "Epoch 39/100\n",
      "8/8 [==============================] - 0s 14ms/step - loss: 0.1574 - accuracy: 0.9622 - val_loss: 0.7922 - val_accuracy: 0.7500\n",
      "Epoch 40/100\n",
      "8/8 [==============================] - 0s 8ms/step - loss: 0.1550 - accuracy: 0.9664 - val_loss: 0.7803 - val_accuracy: 0.7833\n",
      "Epoch 41/100\n",
      "8/8 [==============================] - 0s 9ms/step - loss: 0.1406 - accuracy: 0.9580 - val_loss: 0.7604 - val_accuracy: 0.7500\n",
      "Epoch 42/100\n",
      "8/8 [==============================] - 0s 11ms/step - loss: 0.1468 - accuracy: 0.9622 - val_loss: 0.7590 - val_accuracy: 0.7667\n",
      "Epoch 43/100\n",
      "8/8 [==============================] - 0s 10ms/step - loss: 0.1419 - accuracy: 0.9622 - val_loss: 0.7547 - val_accuracy: 0.7667\n",
      "Epoch 44/100\n",
      "8/8 [==============================] - 0s 9ms/step - loss: 0.1226 - accuracy: 0.9622 - val_loss: 0.8358 - val_accuracy: 0.7667\n",
      "Epoch 45/100\n",
      "8/8 [==============================] - 0s 11ms/step - loss: 0.1194 - accuracy: 0.9706 - val_loss: 0.7487 - val_accuracy: 0.8000\n",
      "Epoch 46/100\n"
     ]
    },
    {
     "name": "stdout",
     "output_type": "stream",
     "text": [
      "8/8 [==============================] - 0s 11ms/step - loss: 0.1272 - accuracy: 0.9622 - val_loss: 0.7993 - val_accuracy: 0.7667\n",
      "Epoch 47/100\n",
      "8/8 [==============================] - 0s 12ms/step - loss: 0.1318 - accuracy: 0.9580 - val_loss: 0.7434 - val_accuracy: 0.7833\n",
      "Epoch 48/100\n",
      "8/8 [==============================] - 0s 8ms/step - loss: 0.1290 - accuracy: 0.9664 - val_loss: 0.7964 - val_accuracy: 0.7833\n",
      "Epoch 49/100\n",
      "8/8 [==============================] - 0s 11ms/step - loss: 0.1207 - accuracy: 0.9622 - val_loss: 0.7903 - val_accuracy: 0.7500\n",
      "Epoch 50/100\n",
      "8/8 [==============================] - 0s 9ms/step - loss: 0.1192 - accuracy: 0.9580 - val_loss: 0.7836 - val_accuracy: 0.7833\n",
      "Epoch 51/100\n",
      "8/8 [==============================] - 0s 9ms/step - loss: 0.1053 - accuracy: 0.9580 - val_loss: 0.7516 - val_accuracy: 0.7833\n",
      "Epoch 52/100\n",
      "8/8 [==============================] - 0s 12ms/step - loss: 0.0977 - accuracy: 0.9664 - val_loss: 0.7871 - val_accuracy: 0.7500\n",
      "Epoch 53/100\n",
      "8/8 [==============================] - 0s 10ms/step - loss: 0.0924 - accuracy: 0.9748 - val_loss: 0.7631 - val_accuracy: 0.7500\n",
      "Epoch 54/100\n",
      "8/8 [==============================] - 0s 13ms/step - loss: 0.0923 - accuracy: 0.9706 - val_loss: 0.8167 - val_accuracy: 0.7667\n",
      "Epoch 55/100\n",
      "8/8 [==============================] - 0s 10ms/step - loss: 0.0868 - accuracy: 0.9748 - val_loss: 0.7784 - val_accuracy: 0.7833\n",
      "Epoch 56/100\n",
      "8/8 [==============================] - 0s 10ms/step - loss: 0.0841 - accuracy: 0.9790 - val_loss: 0.8142 - val_accuracy: 0.7667\n",
      "Epoch 57/100\n",
      "8/8 [==============================] - 0s 14ms/step - loss: 0.0799 - accuracy: 0.9706 - val_loss: 0.7628 - val_accuracy: 0.7833\n",
      "Epoch 58/100\n",
      "8/8 [==============================] - 0s 8ms/step - loss: 0.0793 - accuracy: 0.9832 - val_loss: 0.8292 - val_accuracy: 0.7500\n",
      "Epoch 59/100\n",
      "8/8 [==============================] - 0s 9ms/step - loss: 0.0791 - accuracy: 0.9748 - val_loss: 0.8041 - val_accuracy: 0.7833\n",
      "Epoch 60/100\n",
      "8/8 [==============================] - 0s 10ms/step - loss: 0.0762 - accuracy: 0.9790 - val_loss: 0.8063 - val_accuracy: 0.7667\n",
      "Epoch 61/100\n",
      "8/8 [==============================] - 0s 10ms/step - loss: 0.0769 - accuracy: 0.9706 - val_loss: 0.8015 - val_accuracy: 0.7667\n",
      "Epoch 62/100\n",
      "8/8 [==============================] - 0s 11ms/step - loss: 0.0716 - accuracy: 0.9832 - val_loss: 0.8486 - val_accuracy: 0.7833\n",
      "Epoch 63/100\n",
      "8/8 [==============================] - 0s 8ms/step - loss: 0.0726 - accuracy: 0.9748 - val_loss: 0.8401 - val_accuracy: 0.7667\n",
      "Epoch 64/100\n",
      "8/8 [==============================] - 0s 8ms/step - loss: 0.0774 - accuracy: 0.9790 - val_loss: 0.8275 - val_accuracy: 0.7833\n",
      "Epoch 65/100\n",
      "8/8 [==============================] - 0s 9ms/step - loss: 0.0767 - accuracy: 0.9832 - val_loss: 0.8803 - val_accuracy: 0.7500\n",
      "Epoch 66/100\n",
      "8/8 [==============================] - 0s 9ms/step - loss: 0.0660 - accuracy: 0.9874 - val_loss: 0.9618 - val_accuracy: 0.7500\n",
      "Epoch 67/100\n",
      "8/8 [==============================] - 0s 7ms/step - loss: 0.0727 - accuracy: 0.9706 - val_loss: 0.8636 - val_accuracy: 0.7667\n",
      "Epoch 68/100\n",
      "8/8 [==============================] - 0s 10ms/step - loss: 0.0695 - accuracy: 0.9832 - val_loss: 0.8488 - val_accuracy: 0.7833\n",
      "Epoch 69/100\n",
      "8/8 [==============================] - 0s 14ms/step - loss: 0.0619 - accuracy: 0.9832 - val_loss: 0.8986 - val_accuracy: 0.7833\n",
      "Epoch 70/100\n",
      "8/8 [==============================] - 0s 8ms/step - loss: 0.0673 - accuracy: 0.9706 - val_loss: 0.8457 - val_accuracy: 0.7667\n",
      "Epoch 71/100\n",
      "8/8 [==============================] - 0s 9ms/step - loss: 0.0627 - accuracy: 0.9790 - val_loss: 0.8747 - val_accuracy: 0.7833\n",
      "Epoch 72/100\n",
      "8/8 [==============================] - 0s 8ms/step - loss: 0.0545 - accuracy: 0.9790 - val_loss: 0.8679 - val_accuracy: 0.7833\n",
      "Epoch 73/100\n",
      "8/8 [==============================] - 0s 10ms/step - loss: 0.0533 - accuracy: 0.9874 - val_loss: 0.8860 - val_accuracy: 0.7667\n",
      "Epoch 74/100\n",
      "8/8 [==============================] - 0s 10ms/step - loss: 0.0511 - accuracy: 0.9874 - val_loss: 0.8980 - val_accuracy: 0.7833\n",
      "Epoch 75/100\n",
      "8/8 [==============================] - 0s 9ms/step - loss: 0.0496 - accuracy: 0.9874 - val_loss: 0.8974 - val_accuracy: 0.7667\n",
      "Epoch 76/100\n",
      "8/8 [==============================] - 0s 12ms/step - loss: 0.0496 - accuracy: 0.9874 - val_loss: 0.9092 - val_accuracy: 0.7667\n",
      "Epoch 77/100\n",
      "8/8 [==============================] - 0s 10ms/step - loss: 0.0510 - accuracy: 0.9832 - val_loss: 0.9268 - val_accuracy: 0.7500\n",
      "Epoch 78/100\n",
      "8/8 [==============================] - 0s 11ms/step - loss: 0.0512 - accuracy: 0.9874 - val_loss: 0.8905 - val_accuracy: 0.7833\n",
      "Epoch 79/100\n",
      "8/8 [==============================] - 0s 10ms/step - loss: 0.0453 - accuracy: 0.9916 - val_loss: 0.9431 - val_accuracy: 0.7833\n",
      "Epoch 80/100\n",
      "8/8 [==============================] - 0s 12ms/step - loss: 0.0457 - accuracy: 0.9832 - val_loss: 0.9319 - val_accuracy: 0.7833\n",
      "Epoch 81/100\n",
      "8/8 [==============================] - 0s 11ms/step - loss: 0.0450 - accuracy: 0.9916 - val_loss: 0.9502 - val_accuracy: 0.7667\n",
      "Epoch 82/100\n",
      "8/8 [==============================] - 0s 11ms/step - loss: 0.0435 - accuracy: 0.9874 - val_loss: 0.9564 - val_accuracy: 0.7667\n",
      "Epoch 83/100\n",
      "8/8 [==============================] - 0s 11ms/step - loss: 0.0447 - accuracy: 0.9874 - val_loss: 0.9668 - val_accuracy: 0.7500\n",
      "Epoch 84/100\n",
      "8/8 [==============================] - 0s 8ms/step - loss: 0.0411 - accuracy: 0.9916 - val_loss: 0.9650 - val_accuracy: 0.8167\n",
      "Epoch 85/100\n",
      "8/8 [==============================] - 0s 12ms/step - loss: 0.0404 - accuracy: 0.9916 - val_loss: 0.9577 - val_accuracy: 0.7833\n",
      "Epoch 86/100\n",
      "8/8 [==============================] - 0s 9ms/step - loss: 0.0407 - accuracy: 0.9874 - val_loss: 0.9988 - val_accuracy: 0.7667\n",
      "Epoch 87/100\n",
      "8/8 [==============================] - 0s 10ms/step - loss: 0.0394 - accuracy: 0.9916 - val_loss: 0.9924 - val_accuracy: 0.7500\n",
      "Epoch 88/100\n",
      "8/8 [==============================] - 0s 12ms/step - loss: 0.0429 - accuracy: 0.9958 - val_loss: 0.9966 - val_accuracy: 0.7667\n",
      "Epoch 89/100\n",
      "8/8 [==============================] - 0s 11ms/step - loss: 0.0418 - accuracy: 0.9874 - val_loss: 1.0437 - val_accuracy: 0.7500\n",
      "Epoch 90/100\n",
      "8/8 [==============================] - 0s 11ms/step - loss: 0.0398 - accuracy: 0.9916 - val_loss: 1.0274 - val_accuracy: 0.7500\n",
      "Epoch 91/100\n",
      "8/8 [==============================] - 0s 14ms/step - loss: 0.0353 - accuracy: 0.9916 - val_loss: 1.0130 - val_accuracy: 0.7500\n",
      "Epoch 92/100\n",
      "8/8 [==============================] - 0s 11ms/step - loss: 0.0353 - accuracy: 0.9874 - val_loss: 1.0230 - val_accuracy: 0.7667\n",
      "Epoch 93/100\n",
      "8/8 [==============================] - 0s 10ms/step - loss: 0.0351 - accuracy: 0.9958 - val_loss: 1.0373 - val_accuracy: 0.7833\n",
      "Epoch 94/100\n",
      "8/8 [==============================] - 0s 13ms/step - loss: 0.0336 - accuracy: 0.9958 - val_loss: 1.0431 - val_accuracy: 0.7667\n",
      "Epoch 95/100\n",
      "8/8 [==============================] - 0s 10ms/step - loss: 0.0335 - accuracy: 0.9958 - val_loss: 1.0535 - val_accuracy: 0.7667\n",
      "Epoch 96/100\n",
      "8/8 [==============================] - 0s 8ms/step - loss: 0.0333 - accuracy: 0.9958 - val_loss: 1.0422 - val_accuracy: 0.7667\n",
      "Epoch 97/100\n",
      "8/8 [==============================] - 0s 9ms/step - loss: 0.0337 - accuracy: 0.9916 - val_loss: 1.0590 - val_accuracy: 0.7500\n",
      "Epoch 98/100\n",
      "8/8 [==============================] - 0s 13ms/step - loss: 0.0316 - accuracy: 0.9916 - val_loss: 1.0677 - val_accuracy: 0.7500\n",
      "Epoch 99/100\n",
      "8/8 [==============================] - 0s 9ms/step - loss: 0.0310 - accuracy: 0.9916 - val_loss: 1.1131 - val_accuracy: 0.7833\n",
      "Epoch 100/100\n",
      "8/8 [==============================] - 0s 14ms/step - loss: 0.0322 - accuracy: 0.9832 - val_loss: 1.0540 - val_accuracy: 0.7500\n",
      "3/3 [==============================] - 0s 4ms/step\n",
      "0.8\n",
      "Ploting Loss and Accuracy graph [Train Vs Validation]....\n"
     ]
    },
    {
     "data": {
      "image/png": "[encoded data removed]",
      "text/plain": [
       "<Figure size 1000x1000 with 2 Axes>"
      ]
     },
     "metadata": {},
     "output_type": "display_data"
    }
   ],
   "source": [
    "# Configure and build the chat ANN model\n",
    "model, history, X_test, y_test, tag_encoder = reload_data_and_build_model()\n",
    "# Evaluate the result\n",
    "evaluate_model (model, history, X_test, y_test)"
   ]
  },
  {
   "cell_type": "code",
   "execution_count": 23,
   "id": "93a069c8",
   "metadata": {},
   "outputs": [
    {
     "name": "stdout",
     "output_type": "stream",
     "text": [
      "text -  Is seating is available?\n",
      "seating available\n",
      "1/1 [==============================] - 0s 28ms/step\n",
      "[{'bot-name': 0.0}, {'contact-info': 0.0}, {'food-availability': 0.0}, {'greeting': 0.0}, {'hours': 0.0}, {'location': 0.0}, {'menu': 0.0}, {'parking': 1.0}, {'price': 0.0}, {'recommendation': 0.0}, {'wifi_password': 0.0}]\n",
      "\n",
      "\n",
      "Predict class name is -  ['parking']\n"
     ]
    }
   ],
   "source": [
    "chat_query(\"Is seating is available?\", model, can_remove_stopwords=True)"
   ]
  },
  {
   "cell_type": "code",
   "execution_count": 527,
   "id": "56e743e5-979e-4090-a0ff-bbabc87a2e4e",
   "metadata": {},
   "outputs": [
    {
     "data": {
      "text/plain": [
       "[('outdoor', 0.9569129347801208),\n",
       " ('indoor', 0.9292401075363159),\n",
       " ('space', 0.9041650891304016),\n",
       " ('area', 0.9009898900985718),\n",
       " ('arrangement', 0.8957318663597107),\n",
       " ('bar', 0.8567253351211548),\n",
       " ('live', 0.8565039038658142),\n",
       " ('patio', 0.8508906960487366),\n",
       " ('rooftop', 0.8147944211959839),\n",
       " ('music', 0.8051431775093079)]"
      ]
     },
     "execution_count": 527,
     "metadata": {},
     "output_type": "execute_result"
    }
   ],
   "source": [
    "gen_model.wv.most_similar(\"seating\")"
   ]
  },
  {
   "cell_type": "code",
   "execution_count": null,
   "id": "36a89a4c",
   "metadata": {},
   "outputs": [],
   "source": []
  }
 ],
 "metadata": {
  "kernelspec": {
   "display_name": "Python 3 (ipykernel)",
   "language": "python",
   "name": "python3"
  },
  "language_info": {
   "codemirror_mode": {
    "name": "ipython",
    "version": 3
   },
   "file_extension": ".py",
   "mimetype": "text/x-python",
   "name": "python",
   "nbconvert_exporter": "python",
   "pygments_lexer": "ipython3",
   "version": "3.11.5"
  }
 },
 "nbformat": 4,
 "nbformat_minor": 5
}
