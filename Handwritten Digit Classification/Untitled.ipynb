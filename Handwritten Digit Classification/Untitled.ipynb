{
 "cells": [
  {
   "cell_type": "code",
   "execution_count": 2,
   "id": "04ce7b64-5a96-4967-af48-4b569f0abeca",
   "metadata": {},
   "outputs": [
    {
     "data": {
      "text/plain": [
       "'hello_amit'"
      ]
     },
     "execution_count": 2,
     "metadata": {},
     "output_type": "execute_result"
    }
   ],
   "source": [
    "\"hello Amit\".replace(\" \", \"_\").lower()"
   ]
  },
  {
   "cell_type": "code",
   "execution_count": null,
   "id": "adfadc34-1c88-41b9-89cb-336707dcbeb5",
   "metadata": {},
   "outputs": [],
   "source": []
  }
 ],
 "metadata": {
  "kernelspec": {
   "display_name": "COM728_LAP",
   "language": "python",
   "name": "com728_lap"
  },
  "language_info": {
   "codemirror_mode": {
    "name": "ipython",
    "version": 3
   },
   "file_extension": ".py",
   "mimetype": "text/x-python",
   "name": "python",
   "nbconvert_exporter": "python",
   "pygments_lexer": "ipython3",
   "version": "3.11.5"
  }
 },
 "nbformat": 4,
 "nbformat_minor": 5
}
