{
 "cells": [
  {
   "cell_type": "markdown",
   "id": "9eceeedc-9d0b-4966-a2fb-957557cc2d00",
   "metadata": {},
   "source": [
    "# Chatbot\n"
   ]
  },
  {
   "cell_type": "code",
   "execution_count": 5,
   "id": "93cfdff0-8024-4fa1-b04e-4be65d1444d4",
   "metadata": {},
   "outputs": [],
   "source": [
    "import numpy as np\n",
    "import pandas as pd"
   ]
  },
  {
   "cell_type": "code",
   "execution_count": 4,
   "id": "c69da1cb-bbdb-4c6e-b6d6-678856d81a82",
   "metadata": {},
   "outputs": [
    {
     "name": "stdout",
     "output_type": "stream",
     "text": [
      "Requirement already satisfied: gensim in c:\\users\\bhard\\anaconda3\\envs\\com_727_dl\\lib\\site-packages (4.3.2)\n",
      "Requirement already satisfied: numpy>=1.18.5 in c:\\users\\bhard\\anaconda3\\envs\\com_727_dl\\lib\\site-packages (from gensim) (1.26.3)\n",
      "Requirement already satisfied: scipy>=1.7.0 in c:\\users\\bhard\\anaconda3\\envs\\com_727_dl\\lib\\site-packages (from gensim) (1.11.4)\n",
      "Requirement already satisfied: smart-open>=1.8.1 in c:\\users\\bhard\\anaconda3\\envs\\com_727_dl\\lib\\site-packages (from gensim) (6.4.0)\n"
     ]
    }
   ],
   "source": [
    "!pip install gensim"
   ]
  },
  {
   "cell_type": "code",
   "execution_count": 6,
   "id": "55ce15a6-1bb0-4545-8b10-2986ead129b3",
   "metadata": {},
   "outputs": [],
   "source": [
    "import gensim\n",
    "import os"
   ]
  },
  {
   "cell_type": "code",
   "execution_count": 29,
   "id": "0cbb0e33-1414-407f-9af4-636e631ed025",
   "metadata": {},
   "outputs": [
    {
     "name": "stderr",
     "output_type": "stream",
     "text": [
      "[nltk_data] Downloading package punkt to\n",
      "[nltk_data]     C:\\Users\\bhard\\AppData\\Roaming\\nltk_data...\n",
      "[nltk_data]   Package punkt is already up-to-date!\n"
     ]
    },
    {
     "data": {
      "text/plain": [
       "True"
      ]
     },
     "execution_count": 29,
     "metadata": {},
     "output_type": "execute_result"
    }
   ],
   "source": [
    "import nltk\n",
    "nltk.download('punkt')"
   ]
  },
  {
   "cell_type": "code",
   "execution_count": 27,
   "id": "189782fe-d173-4962-9f95-c1d55b5c43e4",
   "metadata": {},
   "outputs": [],
   "source": [
    "df = pd.read_csv(\"data\\Restaurant reviews.csv\");"
   ]
  },
  {
   "cell_type": "code",
   "execution_count": 31,
   "id": "3daa5012-981d-4259-a6e3-bf44c28b33d1",
   "metadata": {},
   "outputs": [],
   "source": [
    "from nltk import sent_tokenize\n",
    "from gensim.utils import simple_preprocess\n",
    "story = []\n",
    "\n",
    "# for filename in os.listdir('data'):\n",
    "#     f = open(os.path.join('data', filename),encoding=\"utf-8\")\n",
    "#     corpus = f.read()\n",
    "#     raw_sent = sent_tokenize(corpus)\n",
    "#     for sent in raw_sent:\n",
    "#         story.append(simple_preprocess(sent))\n",
    "\n",
    "for doc in df[\"Review\"]:\n",
    "    raw_sent = sent_tokenize(str(doc))\n",
    "    for sent in raw_sent:\n",
    "        story.append(simple_preprocess(sent))"
   ]
  },
  {
   "cell_type": "code",
   "execution_count": null,
   "id": "169e1755-be8b-4652-966f-8015d9efda58",
   "metadata": {},
   "outputs": [],
   "source": [
    "# story = []\n",
    "# df = pd.read_csv(\"data\\Restaurant reviews.csv\");\n",
    "# df.info\n",
    "# raw_sent = sent_tokenize(df[\"Review\"])\n",
    "# raw_sent"
   ]
  },
  {
   "cell_type": "code",
   "execution_count": 32,
   "id": "887df9cb-e512-4dbb-afa8-0f9caa1970e7",
   "metadata": {},
   "outputs": [
    {
     "data": {
      "text/plain": [
       "41201"
      ]
     },
     "execution_count": 32,
     "metadata": {},
     "output_type": "execute_result"
    }
   ],
   "source": [
    "len(story)"
   ]
  },
  {
   "cell_type": "code",
   "execution_count": 33,
   "id": "2289f94f-2775-4ae0-b30a-ec01c1931d7c",
   "metadata": {},
   "outputs": [],
   "source": [
    "model = gensim.models.Word2Vec(window=10, min_count=2)"
   ]
  },
  {
   "cell_type": "code",
   "execution_count": 34,
   "id": "8626c774-c651-472e-a9f3-f09221b04fd3",
   "metadata": {},
   "outputs": [],
   "source": [
    "model.build_vocab(story)"
   ]
  },
  {
   "cell_type": "code",
   "execution_count": 35,
   "id": "6d26a756-2d1f-4348-b803-a986ac7b9b73",
   "metadata": {},
   "outputs": [
    {
     "data": {
      "text/plain": [
       "5"
      ]
     },
     "execution_count": 35,
     "metadata": {},
     "output_type": "execute_result"
    }
   ],
   "source": [
    "model.epochs"
   ]
  },
  {
   "cell_type": "code",
   "execution_count": 36,
   "id": "6a3eaa36-ecb2-45bb-a94f-62da47f3fc61",
   "metadata": {},
   "outputs": [
    {
     "data": {
      "text/plain": [
       "(1724338, 2374105)"
      ]
     },
     "execution_count": 36,
     "metadata": {},
     "output_type": "execute_result"
    }
   ],
   "source": [
    "model.train(story, total_examples= model.corpus_count, epochs = model.epochs)"
   ]
  },
  {
   "cell_type": "code",
   "execution_count": 38,
   "id": "eb3694bb-ac9c-44ff-9b64-132da48ac905",
   "metadata": {},
   "outputs": [
    {
     "data": {
      "text/plain": [
       "[('standards', 0.9227743744850159),\n",
       " ('voice', 0.9153032302856445),\n",
       " ('air', 0.9150619506835938),\n",
       " ('crap', 0.907765805721283),\n",
       " ('metal', 0.9028961062431335),\n",
       " ('market', 0.9015984535217285),\n",
       " ('conditioning', 0.9015547037124634),\n",
       " ('hurt', 0.9002680778503418),\n",
       " ('wifi', 0.9001975059509277),\n",
       " ('treatment', 0.9001364707946777)]"
      ]
     },
     "execution_count": 38,
     "metadata": {},
     "output_type": "execute_result"
    }
   ],
   "source": [
    "model.wv.most_similar(\"resturant\")"
   ]
  },
  {
   "cell_type": "code",
   "execution_count": 41,
   "id": "495e050f-d03b-4b30-a6b3-5d481eac3b72",
   "metadata": {},
   "outputs": [
    {
     "data": {
      "text/plain": [
       "7853"
      ]
     },
     "execution_count": 41,
     "metadata": {},
     "output_type": "execute_result"
    }
   ],
   "source": [
    "len(model.wv.index_to_key)"
   ]
  },
  {
   "cell_type": "code",
   "execution_count": 47,
   "id": "f695be42-a4d8-4b1e-b957-ad53a2ea537d",
   "metadata": {},
   "outputs": [
    {
     "data": {
      "text/plain": [
       "7853"
      ]
     },
     "execution_count": 47,
     "metadata": {},
     "output_type": "execute_result"
    }
   ],
   "source": [
    "len(model.wv)"
   ]
  },
  {
   "cell_type": "code",
   "execution_count": 197,
   "id": "00de4737-ccd1-4483-bc0a-e486941b5bdb",
   "metadata": {},
   "outputs": [],
   "source": [
    "def document_to_vec(doc):\n",
    "    doc = [word for word in doc.split() if word in model.wv.index_to_key]\n",
    "    # print(doc)\n",
    "    if len(doc) == 0:\n",
    "        doc = [\"the\"]\n",
    "    return np.mean(model.wv[doc], axis=0)"
   ]
  },
  {
   "cell_type": "code",
   "execution_count": 198,
   "id": "44f61a16-a7ba-4e2b-b4ee-0a6692b6c899",
   "metadata": {},
   "outputs": [
    {
     "data": {
      "text/plain": [
       "array([-0.571876  ,  0.25651526,  0.5584102 ,  0.78920496, -0.95111793,\n",
       "       -0.8883364 ,  0.850453  , -0.09029235, -0.8924566 ,  0.49828655,\n",
       "        0.04138657, -0.07754185,  0.09312841,  0.7696842 ,  0.06818054,\n",
       "       -0.18217142,  0.10161608,  1.1632968 , -0.6224347 , -0.10539887,\n",
       "        0.8068277 ,  0.61430925,  0.6350277 , -0.2098242 ,  0.07475615,\n",
       "       -0.4016252 ,  0.26761335, -0.7623173 , -1.5068817 , -0.33282772,\n",
       "        1.0000968 ,  0.42418754,  0.25322568, -1.9183022 , -0.49446708,\n",
       "        0.15210259, -0.14492053, -0.6846699 ,  0.03712907, -0.6616884 ,\n",
       "       -0.55718935, -0.5202317 , -0.8711438 , -0.9388631 ,  0.6672222 ,\n",
       "        0.24704657, -0.74305695, -0.12303265,  0.56686926,  1.1143513 ,\n",
       "       -0.04783655,  0.8258095 ,  0.56808746, -0.02552091,  0.05581936,\n",
       "       -0.13928747,  0.11401928, -1.0585715 , -0.68328476,  0.512223  ,\n",
       "        0.31986302, -0.6699774 , -0.8880222 , -0.68023103, -0.04174971,\n",
       "        0.46976265, -0.3702089 ,  0.5393956 , -0.66610473,  0.5710146 ,\n",
       "        0.53470635, -0.27006218,  0.12056668, -0.41090629,  0.12891224,\n",
       "        0.9268378 ,  0.9748578 ,  0.2461921 ,  0.08379171, -0.44683465,\n",
       "       -0.04843421, -0.5605262 ,  0.38297287, -0.31796658,  0.18624194,\n",
       "        0.08052397,  1.0347873 ,  0.68102515,  0.46803603,  0.07295644,\n",
       "       -0.97548366, -0.07740545, -0.40491107, -0.22513163,  0.4598863 ,\n",
       "        0.8005393 , -0.3722488 , -0.73394364, -0.46253616,  0.28299943],\n",
       "      dtype=float32)"
      ]
     },
     "execution_count": 198,
     "metadata": {},
     "output_type": "execute_result"
    }
   ],
   "source": [
    "document_to_vec(\"hello_world\")"
   ]
  },
  {
   "cell_type": "code",
   "execution_count": 16,
   "id": "98cea695-4edb-4a72-9a9f-6878d7d2753c",
   "metadata": {},
   "outputs": [],
   "source": [
    "import tensorflow\n",
    "from tensorflow import keras\n",
    "from tensorflow.keras import Sequential\n",
    "from tensorflow.keras.layers import Dense,Flatten"
   ]
  },
  {
   "cell_type": "code",
   "execution_count": 17,
   "id": "5201c553-5179-4b29-8306-392884fbf90f",
   "metadata": {},
   "outputs": [],
   "source": [
    "# (X_train,y_train),(X_test,y_test) = keras.datasets.mnist.load_data()"
   ]
  },
  {
   "cell_type": "code",
   "execution_count": 138,
   "id": "275bd66a-fda4-4e4b-ac41-8d12e44cd5a2",
   "metadata": {},
   "outputs": [],
   "source": [
    "# restu_df = pd.read_json(\"data\\intents.json\") \n",
    "import pandas as pd\n",
    "import json\n",
    "json_file_path = \"data\\intents.json\"\n",
    "def read_json_file(file_path = \"data\\intents.json\", intents_name=\"intents\", ques_name=\"questions\", tag_name=\"tag\", ans_name=\"answers\"):\n",
    "    json_data = []\n",
    "    with open(file_path, 'r') as file:\n",
    "        data = json.load(file)\n",
    "    print (len(data[intents_name]))\n",
    "    for i in range(len(data[intents_name])):\n",
    "        current_tag = data[intents_name][i][tag_name].replace(\" \",'_').lower()\n",
    "        current_questions = data[intents_name][i][ques_name]\n",
    "        if (len(current_questions) < 40):\n",
    "            continue;\n",
    "        for j in range(len(current_questions)):\n",
    "            record_value = {\"data\":current_questions[j], \"label\":current_tag}\n",
    "            # print(current_questions[j])\n",
    "            json_data.append(record_value)\n",
    "    return pd.DataFrame(json_data)\n",
    "        \n",
    "# # Read the JSON file\n",
    "\n",
    "# with open(json_file_path, 'r') as file:\n",
    "#     data = json.load(file)\n",
    "\n",
    "# # Create a DataFrame from the 'intents' data\n",
    "# restu_df = pd.DataFrame(data['intents'])\n"
   ]
  },
  {
   "cell_type": "code",
   "execution_count": 139,
   "id": "a68a101c-8125-4851-8d16-12e0354481bb",
   "metadata": {},
   "outputs": [
    {
     "name": "stdout",
     "output_type": "stream",
     "text": [
      "430\n"
     ]
    }
   ],
   "source": [
    "rdf = read_json_file()\n"
   ]
  },
  {
   "cell_type": "code",
   "execution_count": 140,
   "id": "af6e6efa-f4f4-4097-a8c8-486ac125a9a7",
   "metadata": {},
   "outputs": [
    {
     "data": {
      "text/plain": [
       "False    369\n",
       "True       9\n",
       "Name: count, dtype: int64"
      ]
     },
     "execution_count": 140,
     "metadata": {},
     "output_type": "execute_result"
    }
   ],
   "source": [
    "rdf.sample(10)\n",
    "rdf.duplicated().value_counts()"
   ]
  },
  {
   "cell_type": "code",
   "execution_count": 141,
   "id": "c81110f7-840d-499e-8dd7-7ab630df14ad",
   "metadata": {},
   "outputs": [
    {
     "data": {
      "text/plain": [
       "False    369\n",
       "Name: count, dtype: int64"
      ]
     },
     "execution_count": 141,
     "metadata": {},
     "output_type": "execute_result"
    }
   ],
   "source": [
    "# drop duplicate\n",
    "rdf = rdf.drop_duplicates()\n",
    "rdf.duplicated().value_counts()"
   ]
  },
  {
   "cell_type": "code",
   "execution_count": 142,
   "id": "11320712-8e6d-4ef4-9d74-12f258690e63",
   "metadata": {},
   "outputs": [
    {
     "data": {
      "text/plain": [
       "8"
      ]
     },
     "execution_count": 142,
     "metadata": {},
     "output_type": "execute_result"
    }
   ],
   "source": [
    "len(rdf['label'].unique())"
   ]
  },
  {
   "cell_type": "code",
   "execution_count": 143,
   "id": "b8bb49fa-e6c9-48ba-9521-221c80c3b1c4",
   "metadata": {},
   "outputs": [
    {
     "data": {
      "text/plain": [
       "label\n",
       "reservation            58\n",
       "sustainability         49\n",
       "specials               48\n",
       "hours                  47\n",
       "signature_cocktails    47\n",
       "desserts               40\n",
       "kids_menu              40\n",
       "specialty_coffees      40\n",
       "dtype: int64"
      ]
     },
     "execution_count": 143,
     "metadata": {},
     "output_type": "execute_result"
    }
   ],
   "source": [
    "grp_df = rdf.groupby(\"label\").size().sort_values(ascending=False)\n",
    "grp_df.head(20)"
   ]
  },
  {
   "cell_type": "code",
   "execution_count": 125,
   "id": "07c7ec95-af28-47de-bb20-e82aa051f88b",
   "metadata": {},
   "outputs": [],
   "source": [
    "def get_filter_data(df):\n",
    "    grp_df = df.groupby(\"label\").size().sort_values(ascending=False)\n",
    "    return grp_df.head(20)"
   ]
  },
  {
   "cell_type": "code",
   "execution_count": 157,
   "id": "10afce7a-799d-4aa6-a327-04ab69ce18be",
   "metadata": {},
   "outputs": [],
   "source": [
    "X_data = rdf['data']\n",
    "y_data = rdf[\"label\"]"
   ]
  },
  {
   "cell_type": "code",
   "execution_count": 148,
   "id": "7ad83f30-9c69-4a58-aea0-f5a33f24575a",
   "metadata": {},
   "outputs": [],
   "source": [
    "from sklearn.preprocessing import LabelEncoder\n",
    "encoder = LabelEncoder()\n",
    "y = encoder.fit_transform(y_data)"
   ]
  },
  {
   "cell_type": "code",
   "execution_count": 149,
   "id": "3efdbc55-37d9-4758-b9d1-e9a80618fbc6",
   "metadata": {},
   "outputs": [
    {
     "data": {
      "text/plain": [
       "array([3, 3, 3, 3, 3, 3, 3, 3, 3, 3, 3, 3, 3, 3, 3, 3, 3, 3, 3, 3, 3, 3,\n",
       "       3, 3, 3, 3, 3, 3, 3, 3, 3, 3, 3, 3, 3, 3, 3, 3, 3, 3, 3, 3, 3, 3,\n",
       "       3, 3, 3, 3, 3, 3, 3, 3, 3, 3, 3, 3, 3, 3, 1, 1, 1, 1, 1, 1, 1, 1,\n",
       "       1, 1, 1, 1, 1, 1, 1, 1, 1, 1, 1, 1, 1, 1, 1, 1, 1, 1, 1, 1, 1, 1,\n",
       "       1, 1, 1, 1, 1, 1, 1, 1, 1, 1, 1, 1, 1, 1, 1, 1, 1, 5, 5, 5, 5, 5,\n",
       "       5, 5, 5, 5, 5, 5, 5, 5, 5, 5, 5, 5, 5, 5, 5, 5, 5, 5, 5, 5, 5, 5,\n",
       "       5, 5, 5, 5, 5, 5, 5, 5, 5, 5, 5, 5, 5, 5, 5, 5, 5, 5, 5, 5, 5, 2,\n",
       "       2, 2, 2, 2, 2, 2, 2, 2, 2, 2, 2, 2, 2, 2, 2, 2, 2, 2, 2, 2, 2, 2,\n",
       "       2, 2, 2, 2, 2, 2, 2, 2, 2, 2, 2, 2, 2, 2, 2, 2, 2, 7, 7, 7, 7, 7,\n",
       "       7, 7, 7, 7, 7, 7, 7, 7, 7, 7, 7, 7, 7, 7, 7, 7, 7, 7, 7, 7, 7, 7,\n",
       "       7, 7, 7, 7, 7, 7, 7, 7, 7, 7, 7, 7, 7, 7, 7, 7, 7, 7, 7, 7, 7, 7,\n",
       "       0, 0, 0, 0, 0, 0, 0, 0, 0, 0, 0, 0, 0, 0, 0, 0, 0, 0, 0, 0, 0, 0,\n",
       "       0, 0, 0, 0, 0, 0, 0, 0, 0, 0, 0, 0, 0, 0, 0, 0, 0, 0, 4, 4, 4, 4,\n",
       "       4, 4, 4, 4, 4, 4, 4, 4, 4, 4, 4, 4, 4, 4, 4, 4, 4, 4, 4, 4, 4, 4,\n",
       "       4, 4, 4, 4, 4, 4, 4, 4, 4, 4, 4, 4, 4, 4, 4, 4, 4, 4, 4, 4, 4, 6,\n",
       "       6, 6, 6, 6, 6, 6, 6, 6, 6, 6, 6, 6, 6, 6, 6, 6, 6, 6, 6, 6, 6, 6,\n",
       "       6, 6, 6, 6, 6, 6, 6, 6, 6, 6, 6, 6, 6, 6, 6, 6, 6])"
      ]
     },
     "execution_count": 149,
     "metadata": {},
     "output_type": "execute_result"
    }
   ],
   "source": [
    "y"
   ]
  },
  {
   "cell_type": "code",
   "execution_count": 200,
   "id": "32315044-8ca1-4d8a-83d7-949e4913200d",
   "metadata": {},
   "outputs": [],
   "source": [
    "# from tqdm import tqdm\n",
    "\n",
    "# X = []\n",
    "# for doc in tqdm(rdf['data'].values):\n",
    "#     # print(len(document_to_vec(doc)))\n",
    "#     X.append(document_to_vec(doc))\n",
    "X = [document_to_vec(vec_val) for vec_val in X_data ]"
   ]
  },
  {
   "cell_type": "code",
   "execution_count": 203,
   "id": "a19360a3-6b38-4b28-807b-37f0b2bbdde0",
   "metadata": {},
   "outputs": [
    {
     "data": {
      "text/plain": [
       "369"
      ]
     },
     "execution_count": 203,
     "metadata": {},
     "output_type": "execute_result"
    }
   ],
   "source": [
    "len(y)"
   ]
  },
  {
   "cell_type": "code",
   "execution_count": 18,
   "id": "1e28e2ff-58aa-4cf4-b392-50d832ba8d72",
   "metadata": {},
   "outputs": [
    {
     "data": {
      "text/plain": [
       "(10000, 28, 28)"
      ]
     },
     "execution_count": 18,
     "metadata": {},
     "output_type": "execute_result"
    }
   ],
   "source": [
    "X_test.shape"
   ]
  },
  {
   "cell_type": "code",
   "execution_count": null,
   "id": "b357cab7-b90b-4e5a-9740-217668d02189",
   "metadata": {},
   "outputs": [],
   "source": [
    "y_train"
   ]
  },
  {
   "cell_type": "code",
   "execution_count": null,
   "id": "731f5661-cc0b-44a3-b6dc-992a0eac16d4",
   "metadata": {},
   "outputs": [],
   "source": [
    "import matplotlib.pyplot as plt\n",
    "plt.imshow(X_train[2])"
   ]
  },
  {
   "cell_type": "code",
   "execution_count": null,
   "id": "6af1b2e0-1b0a-4b58-9806-f09518daff08",
   "metadata": {},
   "outputs": [],
   "source": [
    "X_train = X_train/255\n",
    "X_test = X_test/255"
   ]
  },
  {
   "cell_type": "code",
   "execution_count": null,
   "id": "01eb1b49-0d6d-476f-8420-a5d0ddeda235",
   "metadata": {},
   "outputs": [],
   "source": [
    "X_train[0]"
   ]
  },
  {
   "cell_type": "code",
   "execution_count": null,
   "id": "0a101d5b-c104-47bf-b6a4-7fd2ca561c05",
   "metadata": {},
   "outputs": [],
   "source": [
    "model = Sequential()\n",
    "\n",
    "model.add(Flatten(input_shape=(28,28)))\n",
    "model.add(Dense(128,activation='relu'))\n",
    "model.add(Dense(32,activation='relu'))\n",
    "model.add(Dense(10,activation='softmax'))"
   ]
  },
  {
   "cell_type": "code",
   "execution_count": null,
   "id": "e657d228-3043-4f0d-b040-931ff27b4cb3",
   "metadata": {},
   "outputs": [],
   "source": [
    "model.summary()"
   ]
  },
  {
   "cell_type": "code",
   "execution_count": null,
   "id": "18a1cd27-9fb5-4685-9e6d-cb4e6ffef65e",
   "metadata": {},
   "outputs": [],
   "source": [
    "model.compile(loss='sparse_categorical_crossentropy',optimizer='Adam',metrics=['accuracy'])"
   ]
  },
  {
   "cell_type": "code",
   "execution_count": null,
   "id": "257834b3-6be4-43c6-803d-e5055cccbf90",
   "metadata": {},
   "outputs": [],
   "source": [
    "history = model.fit(X_train,y_train,epochs=25,validation_split=0.2)"
   ]
  },
  {
   "cell_type": "code",
   "execution_count": null,
   "id": "61fbabe9-be19-4e47-b3b0-ed58c61f894f",
   "metadata": {},
   "outputs": [],
   "source": [
    "y_prob = model.predict(X_test)"
   ]
  },
  {
   "cell_type": "code",
   "execution_count": null,
   "id": "57ec16ac-ace7-4ee2-aebb-cae735802ab5",
   "metadata": {},
   "outputs": [],
   "source": [
    "y_pred = y_prob.argmax(axis=1)"
   ]
  },
  {
   "cell_type": "code",
   "execution_count": null,
   "id": "a746da67-fa33-4af7-8604-3c20a303526a",
   "metadata": {},
   "outputs": [],
   "source": [
    "from sklearn.metrics import accuracy_score\n",
    "accuracy_score(y_test,y_pred)"
   ]
  },
  {
   "cell_type": "code",
   "execution_count": null,
   "id": "b6c37cb2-08bd-433d-a0b2-4198488abacf",
   "metadata": {},
   "outputs": [],
   "source": [
    "plt.plot(history.history['loss'])\n",
    "plt.plot(history.history['val_loss'])"
   ]
  },
  {
   "cell_type": "code",
   "execution_count": null,
   "id": "4f19870a-d7cc-4df2-aeea-42591bb92594",
   "metadata": {},
   "outputs": [],
   "source": [
    "plt.plot(history.history['accuracy'])\n",
    "plt.plot(history.history['val_accuracy'])"
   ]
  },
  {
   "cell_type": "code",
   "execution_count": null,
   "id": "371ce74c-8a1c-45b2-9d6c-538dce4165d7",
   "metadata": {},
   "outputs": [],
   "source": [
    "plt.imshow(X_test[1])"
   ]
  },
  {
   "cell_type": "code",
   "execution_count": null,
   "id": "2d885273-a912-454c-89a6-217121ad831c",
   "metadata": {},
   "outputs": [],
   "source": [
    "model.predict(X_test[1].reshape(1,28,28)).argmax(axis=1)"
   ]
  },
  {
   "cell_type": "code",
   "execution_count": null,
   "id": "2e131aad-cb8a-413f-8d66-cca6ce330899",
   "metadata": {},
   "outputs": [],
   "source": [
    "y_prob"
   ]
  },
  {
   "cell_type": "code",
   "execution_count": null,
   "id": "0754db02-ceef-4d22-97e1-4ca1b23f90a4",
   "metadata": {},
   "outputs": [],
   "source": [
    "import numpy as np\n",
    "a1=np.arange(6).reshape((3, 2))\n",
    "a1"
   ]
  },
  {
   "cell_type": "code",
   "execution_count": null,
   "id": "802c3745-5fe0-435d-a869-31c611562ab2",
   "metadata": {},
   "outputs": [],
   "source": [
    "b1=a1.reshape(1,3,2)\n",
    "b1"
   ]
  },
  {
   "cell_type": "code",
   "execution_count": null,
   "id": "b073c6e8-9250-4525-967b-ad2388adf9ea",
   "metadata": {},
   "outputs": [],
   "source": [
    "b1[0]"
   ]
  },
  {
   "cell_type": "code",
   "execution_count": null,
   "id": "84ec1470-493f-4565-8efb-07aa4f61e4a7",
   "metadata": {},
   "outputs": [],
   "source": [
    "a1[0]"
   ]
  },
  {
   "cell_type": "code",
   "execution_count": null,
   "id": "4202b525-5c4a-4027-a1ba-5c2a756f4d10",
   "metadata": {},
   "outputs": [],
   "source": []
  }
 ],
 "metadata": {
  "kernelspec": {
   "display_name": "COM728_LAP",
   "language": "python",
   "name": "com728_lap"
  },
  "language_info": {
   "codemirror_mode": {
    "name": "ipython",
    "version": 3
   },
   "file_extension": ".py",
   "mimetype": "text/x-python",
   "name": "python",
   "nbconvert_exporter": "python",
   "pygments_lexer": "ipython3",
   "version": "3.11.5"
  }
 },
 "nbformat": 4,
 "nbformat_minor": 5
}
