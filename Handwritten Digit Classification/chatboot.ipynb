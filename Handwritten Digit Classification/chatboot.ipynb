{
 "cells": [
  {
   "cell_type": "markdown",
   "id": "9eceeedc-9d0b-4966-a2fb-957557cc2d00",
   "metadata": {},
   "source": [
    "# Chatbot\n"
   ]
  },
  {
   "cell_type": "code",
   "execution_count": 2,
   "id": "93cfdff0-8024-4fa1-b04e-4be65d1444d4",
   "metadata": {},
   "outputs": [],
   "source": [
    "import numpy as np\n",
    "import pandas as pd"
   ]
  },
  {
   "cell_type": "code",
   "execution_count": 3,
   "id": "c69da1cb-bbdb-4c6e-b6d6-678856d81a82",
   "metadata": {},
   "outputs": [
    {
     "name": "stdout",
     "output_type": "stream",
     "text": [
      "Requirement already satisfied: gensim in c:\\users\\bhard\\anaconda3\\envs\\com_727_dl\\lib\\site-packages (4.3.2)\n",
      "Requirement already satisfied: numpy>=1.18.5 in c:\\users\\bhard\\anaconda3\\envs\\com_727_dl\\lib\\site-packages (from gensim) (1.26.3)\n",
      "Requirement already satisfied: scipy>=1.7.0 in c:\\users\\bhard\\anaconda3\\envs\\com_727_dl\\lib\\site-packages (from gensim) (1.11.4)\n",
      "Requirement already satisfied: smart-open>=1.8.1 in c:\\users\\bhard\\anaconda3\\envs\\com_727_dl\\lib\\site-packages (from gensim) (6.4.0)\n"
     ]
    }
   ],
   "source": [
    "!pip install gensim"
   ]
  },
  {
   "cell_type": "code",
   "execution_count": 4,
   "id": "55ce15a6-1bb0-4545-8b10-2986ead129b3",
   "metadata": {},
   "outputs": [],
   "source": [
    "import gensim\n",
    "import os"
   ]
  },
  {
   "cell_type": "code",
   "execution_count": 5,
   "id": "0cbb0e33-1414-407f-9af4-636e631ed025",
   "metadata": {},
   "outputs": [
    {
     "name": "stderr",
     "output_type": "stream",
     "text": [
      "[nltk_data] Downloading package punkt to\n",
      "[nltk_data]     C:\\Users\\bhard\\AppData\\Roaming\\nltk_data...\n",
      "[nltk_data]   Package punkt is already up-to-date!\n"
     ]
    },
    {
     "data": {
      "text/plain": [
       "True"
      ]
     },
     "execution_count": 5,
     "metadata": {},
     "output_type": "execute_result"
    }
   ],
   "source": [
    "import nltk\n",
    "nltk.download('punkt')"
   ]
  },
  {
   "cell_type": "code",
   "execution_count": 360,
   "id": "189782fe-d173-4962-9f95-c1d55b5c43e4",
   "metadata": {},
   "outputs": [],
   "source": [
    "df = pd.read_csv(\"data\\Restaurant reviews.csv\");"
   ]
  },
  {
   "cell_type": "code",
   "execution_count": 1,
   "id": "3daa5012-981d-4259-a6e3-bf44c28b33d1",
   "metadata": {},
   "outputs": [
    {
     "ename": "NameError",
     "evalue": "name 'df' is not defined",
     "output_type": "error",
     "traceback": [
      "\u001b[1;31m---------------------------------------------------------------------------\u001b[0m",
      "\u001b[1;31mNameError\u001b[0m                                 Traceback (most recent call last)",
      "Cell \u001b[1;32mIn[1], line 12\u001b[0m\n\u001b[0;32m      3\u001b[0m story \u001b[38;5;241m=\u001b[39m []\n\u001b[0;32m      5\u001b[0m \u001b[38;5;66;03m# for filename in os.listdir('data'):\u001b[39;00m\n\u001b[0;32m      6\u001b[0m \u001b[38;5;66;03m#     f = open(os.path.join('data', filename),encoding=\"utf-8\")\u001b[39;00m\n\u001b[0;32m      7\u001b[0m \u001b[38;5;66;03m#     corpus = f.read()\u001b[39;00m\n\u001b[0;32m      8\u001b[0m \u001b[38;5;66;03m#     raw_sent = sent_tokenize(corpus)\u001b[39;00m\n\u001b[0;32m      9\u001b[0m \u001b[38;5;66;03m#     for sent in raw_sent:\u001b[39;00m\n\u001b[0;32m     10\u001b[0m \u001b[38;5;66;03m#         story.append(simple_preprocess(sent))\u001b[39;00m\n\u001b[1;32m---> 12\u001b[0m \u001b[38;5;28;01mfor\u001b[39;00m doc \u001b[38;5;129;01min\u001b[39;00m df[\u001b[38;5;124m\"\u001b[39m\u001b[38;5;124mReview\u001b[39m\u001b[38;5;124m\"\u001b[39m]:\n\u001b[0;32m     13\u001b[0m     raw_sent \u001b[38;5;241m=\u001b[39m sent_tokenize(\u001b[38;5;28mstr\u001b[39m(doc))\n\u001b[0;32m     14\u001b[0m     \u001b[38;5;28;01mfor\u001b[39;00m sent \u001b[38;5;129;01min\u001b[39;00m raw_sent:\n",
      "\u001b[1;31mNameError\u001b[0m: name 'df' is not defined"
     ]
    }
   ],
   "source": [
    "from nltk import sent_tokenize\n",
    "from gensim.utils import simple_preprocess\n",
    "story = []\n",
    "\n",
    "# for filename in os.listdir('data'):\n",
    "#     f = open(os.path.join('data', filename),encoding=\"utf-8\")\n",
    "#     corpus = f.read()\n",
    "#     raw_sent = sent_tokenize(corpus)\n",
    "#     for sent in raw_sent:\n",
    "#         story.append(simple_preprocess(sent))\n",
    "\n",
    "for doc in df[\"Review\"]:\n",
    "    raw_sent = sent_tokenize(str(doc))\n",
    "    for sent in raw_sent:\n",
    "        story.append(simple_preprocess(sent))"
   ]
  },
  {
   "cell_type": "code",
   "execution_count": 362,
   "id": "887df9cb-e512-4dbb-afa8-0f9caa1970e7",
   "metadata": {},
   "outputs": [
    {
     "data": {
      "text/plain": [
       "41201"
      ]
     },
     "execution_count": 362,
     "metadata": {},
     "output_type": "execute_result"
    }
   ],
   "source": [
    "len(story)"
   ]
  },
  {
   "cell_type": "code",
   "execution_count": 411,
   "id": "2289f94f-2775-4ae0-b30a-ec01c1931d7c",
   "metadata": {},
   "outputs": [],
   "source": [
    "gen_model = gensim.models.Word2Vec(window=10, min_count=2)"
   ]
  },
  {
   "cell_type": "code",
   "execution_count": 412,
   "id": "8626c774-c651-472e-a9f3-f09221b04fd3",
   "metadata": {},
   "outputs": [],
   "source": [
    "gen_model.build_vocab(story)"
   ]
  },
  {
   "cell_type": "code",
   "execution_count": 413,
   "id": "6d26a756-2d1f-4348-b803-a986ac7b9b73",
   "metadata": {},
   "outputs": [
    {
     "data": {
      "text/plain": [
       "5"
      ]
     },
     "execution_count": 413,
     "metadata": {},
     "output_type": "execute_result"
    }
   ],
   "source": [
    "gen_model.epochs"
   ]
  },
  {
   "cell_type": "code",
   "execution_count": 414,
   "id": "6a3eaa36-ecb2-45bb-a94f-62da47f3fc61",
   "metadata": {},
   "outputs": [
    {
     "ename": "AttributeError",
     "evalue": "'Sequential' object has no attribute 'corpus_count'",
     "output_type": "error",
     "traceback": [
      "\u001b[1;31m---------------------------------------------------------------------------\u001b[0m",
      "\u001b[1;31mAttributeError\u001b[0m                            Traceback (most recent call last)",
      "Cell \u001b[1;32mIn[414], line 1\u001b[0m\n\u001b[1;32m----> 1\u001b[0m gen_model\u001b[38;5;241m.\u001b[39mtrain(story, total_examples\u001b[38;5;241m=\u001b[39m model\u001b[38;5;241m.\u001b[39mcorpus_count, epochs \u001b[38;5;241m=\u001b[39m model\u001b[38;5;241m.\u001b[39mepochs)\n",
      "\u001b[1;31mAttributeError\u001b[0m: 'Sequential' object has no attribute 'corpus_count'"
     ]
    }
   ],
   "source": [
    "gen_model.train(story, total_examples= gen_model.corpus_count, epochs = gen_model.epochs)"
   ]
  },
  {
   "cell_type": "code",
   "execution_count": 481,
   "id": "eb3694bb-ac9c-44ff-9b64-132da48ac905",
   "metadata": {},
   "outputs": [
    {
     "data": {
      "text/plain": [
       "[('bud', 0.3137842118740082),\n",
       " ('routine', 0.3134949803352356),\n",
       " ('popularity', 0.3058438301086426),\n",
       " ('ingredient', 0.30074140429496765),\n",
       " ('nill', 0.29903194308280945),\n",
       " ('lived', 0.287295401096344),\n",
       " ('molten', 0.28599220514297485),\n",
       " ('maine', 0.2824046015739441),\n",
       " ('cumin', 0.28145667910575867),\n",
       " ('triumph', 0.28047770261764526)]"
      ]
     },
     "execution_count": 481,
     "metadata": {},
     "output_type": "execute_result"
    }
   ],
   "source": [
    "gen_model.wv.most_similar(\"bill\")"
   ]
  },
  {
   "cell_type": "code",
   "execution_count": 416,
   "id": "495e050f-d03b-4b30-a6b3-5d481eac3b72",
   "metadata": {},
   "outputs": [
    {
     "data": {
      "text/plain": [
       "7853"
      ]
     },
     "execution_count": 416,
     "metadata": {},
     "output_type": "execute_result"
    }
   ],
   "source": [
    "len(gen_model.wv.index_to_key)"
   ]
  },
  {
   "cell_type": "code",
   "execution_count": 417,
   "id": "f695be42-a4d8-4b1e-b957-ad53a2ea537d",
   "metadata": {},
   "outputs": [
    {
     "data": {
      "text/plain": [
       "7853"
      ]
     },
     "execution_count": 417,
     "metadata": {},
     "output_type": "execute_result"
    }
   ],
   "source": [
    "len(gen_model.wv)"
   ]
  },
  {
   "cell_type": "code",
   "execution_count": 418,
   "id": "00de4737-ccd1-4483-bc0a-e486941b5bdb",
   "metadata": {},
   "outputs": [],
   "source": [
    "def document_to_vec(doc):\n",
    "    doc = [word for word in doc.split() if word in gen_model.wv.index_to_key]\n",
    "    # print(doc)\n",
    "    if len(doc) == 0:\n",
    "        doc = [\"the\"]\n",
    "    return np.mean(gen_model.wv[doc], axis=0)"
   ]
  },
  {
   "cell_type": "code",
   "execution_count": 419,
   "id": "44f61a16-a7ba-4e2b-b4ee-0a6692b6c899",
   "metadata": {},
   "outputs": [
    {
     "data": {
      "text/plain": [
       "array([-5.3622725e-04,  2.3643136e-04,  5.1033497e-03,  9.0092728e-03,\n",
       "       -9.3029495e-03, -7.1168090e-03,  6.4588725e-03,  8.9729885e-03,\n",
       "       -5.0154282e-03, -3.7633716e-03,  7.3805046e-03, -1.5334714e-03,\n",
       "       -4.5366134e-03,  6.5540518e-03, -4.8601604e-03, -1.8160177e-03,\n",
       "        2.8765798e-03,  9.9187379e-04, -8.2852151e-03, -9.4488179e-03,\n",
       "        7.3117660e-03,  5.0702621e-03,  6.7576934e-03,  7.6286553e-04,\n",
       "        6.3508903e-03, -3.4053659e-03, -9.4640139e-04,  5.7685734e-03,\n",
       "       -7.5216377e-03, -3.9361035e-03, -7.5115822e-03, -9.3004224e-04,\n",
       "        9.5381187e-03, -7.3191668e-03, -2.3337686e-03, -1.9377411e-03,\n",
       "        8.0774371e-03, -5.9308959e-03,  4.5162440e-05, -4.7537340e-03,\n",
       "       -9.6035507e-03,  5.0072931e-03, -8.7595852e-03, -4.3918253e-03,\n",
       "       -3.5099984e-05, -2.9618145e-04, -7.6612402e-03,  9.6147433e-03,\n",
       "        4.9820580e-03,  9.2331432e-03, -8.1579173e-03,  4.4957981e-03,\n",
       "       -4.1370760e-03,  8.2453608e-04,  8.4986202e-03, -4.4621765e-03,\n",
       "        4.5175003e-03, -6.7869602e-03, -3.5484887e-03,  9.3985079e-03,\n",
       "       -1.5776526e-03,  3.2137157e-04, -4.1406299e-03, -7.6826881e-03,\n",
       "       -1.5080082e-03,  2.4697948e-03, -8.8802696e-04,  5.5336617e-03,\n",
       "       -2.7429771e-03,  2.2600652e-03,  5.4557943e-03,  8.3459532e-03,\n",
       "       -1.4537406e-03, -9.2081428e-03,  4.3705525e-03,  5.7178497e-04,\n",
       "        7.4419081e-03, -8.1328274e-04, -2.6384138e-03, -8.7530091e-03,\n",
       "       -8.5655687e-04,  2.8265631e-03,  5.4014288e-03,  7.0526563e-03,\n",
       "       -5.7031214e-03,  1.8588197e-03,  6.0888636e-03, -4.7980510e-03,\n",
       "       -3.1072604e-03,  6.7976294e-03,  1.6314756e-03,  1.8991709e-04,\n",
       "        3.4736372e-03,  2.1777749e-04,  9.6188262e-03,  5.0606038e-03,\n",
       "       -8.9173904e-03, -7.0415605e-03,  9.0145587e-04,  6.3925339e-03],\n",
       "      dtype=float32)"
      ]
     },
     "execution_count": 419,
     "metadata": {},
     "output_type": "execute_result"
    }
   ],
   "source": [
    "document_to_vec(\"hello_world\")"
   ]
  },
  {
   "cell_type": "code",
   "execution_count": 375,
   "id": "98cea695-4edb-4a72-9a9f-6878d7d2753c",
   "metadata": {},
   "outputs": [],
   "source": [
    "import tensorflow\n",
    "from tensorflow import keras\n",
    "from tensorflow.keras import Sequential\n",
    "from tensorflow.keras.layers import Dense,Flatten"
   ]
  },
  {
   "cell_type": "code",
   "execution_count": 376,
   "id": "275bd66a-fda4-4e4b-ac41-8d12e44cd5a2",
   "metadata": {},
   "outputs": [],
   "source": [
    "# restu_df = pd.read_json(\"data\\intents.json\") \n",
    "import pandas as pd\n",
    "import json\n",
    "json_file_path = \"data\\intents.json\"\n",
    "def read_json_file(file_path = \"data\\intents.json\", intents_name=\"intents\", ques_name=\"questions\", tag_name=\"tag\", ans_name=\"answers\"):\n",
    "    json_data = []\n",
    "    with open(file_path, 'r') as file:\n",
    "        data = json.load(file)\n",
    "    print (len(data[intents_name]))\n",
    "    for i in range(len(data[intents_name])):\n",
    "        current_tag = data[intents_name][i][tag_name].replace(\" \",'_').lower()\n",
    "        current_questions = data[intents_name][i][ques_name]\n",
    "        if (len(current_questions) < 40):\n",
    "            continue;\n",
    "        for j in range(len(current_questions)):\n",
    "            record_value = {\"data\":current_questions[j], \"label\":current_tag}\n",
    "            # print(current_questions[j])\n",
    "            json_data.append(record_value)\n",
    "    return pd.DataFrame(json_data)\n",
    "        \n",
    "# # Read the JSON file\n",
    "\n",
    "# with open(json_file_path, 'r') as file:\n",
    "#     data = json.load(file)\n",
    "\n",
    "# # Create a DataFrame from the 'intents' data\n",
    "# restu_df = pd.DataFrame(data['intents'])\n"
   ]
  },
  {
   "cell_type": "code",
   "execution_count": 377,
   "id": "a68a101c-8125-4851-8d16-12e0354481bb",
   "metadata": {},
   "outputs": [
    {
     "name": "stdout",
     "output_type": "stream",
     "text": [
      "430\n"
     ]
    }
   ],
   "source": [
    "rdf = read_json_file()\n"
   ]
  },
  {
   "cell_type": "code",
   "execution_count": 484,
   "id": "af6e6efa-f4f4-4097-a8c8-486ac125a9a7",
   "metadata": {},
   "outputs": [
    {
     "data": {
      "text/plain": [
       "False    369\n",
       "Name: count, dtype: int64"
      ]
     },
     "execution_count": 484,
     "metadata": {},
     "output_type": "execute_result"
    }
   ],
   "source": [
    "rdf.sample(10)\n",
    "rdf.duplicated().value_counts()"
   ]
  },
  {
   "cell_type": "code",
   "execution_count": 379,
   "id": "c81110f7-840d-499e-8dd7-7ab630df14ad",
   "metadata": {},
   "outputs": [
    {
     "data": {
      "text/plain": [
       "False    369\n",
       "Name: count, dtype: int64"
      ]
     },
     "execution_count": 379,
     "metadata": {},
     "output_type": "execute_result"
    }
   ],
   "source": [
    "# drop duplicate\n",
    "rdf = rdf.drop_duplicates()\n",
    "rdf.duplicated().value_counts()"
   ]
  },
  {
   "cell_type": "code",
   "execution_count": 380,
   "id": "11320712-8e6d-4ef4-9d74-12f258690e63",
   "metadata": {},
   "outputs": [
    {
     "data": {
      "text/plain": [
       "8"
      ]
     },
     "execution_count": 380,
     "metadata": {},
     "output_type": "execute_result"
    }
   ],
   "source": [
    "len(rdf['label'].unique())"
   ]
  },
  {
   "cell_type": "code",
   "execution_count": 381,
   "id": "b8bb49fa-e6c9-48ba-9521-221c80c3b1c4",
   "metadata": {},
   "outputs": [
    {
     "data": {
      "text/plain": [
       "label\n",
       "reservation            58\n",
       "sustainability         49\n",
       "specials               48\n",
       "hours                  47\n",
       "signature_cocktails    47\n",
       "desserts               40\n",
       "kids_menu              40\n",
       "specialty_coffees      40\n",
       "dtype: int64"
      ]
     },
     "execution_count": 381,
     "metadata": {},
     "output_type": "execute_result"
    }
   ],
   "source": [
    "grp_df = rdf.groupby(\"label\").size().sort_values(ascending=False)\n",
    "grp_df.head(20)"
   ]
  },
  {
   "cell_type": "code",
   "execution_count": 382,
   "id": "07c7ec95-af28-47de-bb20-e82aa051f88b",
   "metadata": {},
   "outputs": [],
   "source": [
    "def get_filter_data(df):\n",
    "    grp_df = df.groupby(\"label\").size().sort_values(ascending=False)\n",
    "    return grp_df.head(20)"
   ]
  },
  {
   "cell_type": "code",
   "execution_count": 383,
   "id": "10afce7a-799d-4aa6-a327-04ab69ce18be",
   "metadata": {},
   "outputs": [],
   "source": [
    "X_data = rdf['data']\n",
    "y_data = rdf[\"label\"]"
   ]
  },
  {
   "cell_type": "code",
   "execution_count": 467,
   "id": "7ad83f30-9c69-4a58-aea0-f5a33f24575a",
   "metadata": {},
   "outputs": [],
   "source": [
    "from sklearn.preprocessing import LabelEncoder\n",
    "tag_encoder = LabelEncoder()\n",
    "y = tag_encoder.fit_transform(y_data)"
   ]
  },
  {
   "cell_type": "code",
   "execution_count": 466,
   "id": "c0f3ed77-f890-49f9-b94c-2d11ec273f5a",
   "metadata": {},
   "outputs": [
    {
     "data": {
      "text/plain": [
       "array(['desserts', 'hours', 'kids_menu', 'reservation',\n",
       "       'signature_cocktails', 'specials', 'specialty_coffees',\n",
       "       'sustainability'], dtype=object)"
      ]
     },
     "execution_count": 466,
     "metadata": {},
     "output_type": "execute_result"
    }
   ],
   "source": [
    "encoder.classes_"
   ]
  },
  {
   "cell_type": "code",
   "execution_count": 468,
   "id": "789e7a88-f61e-4436-ac22-a102825bbdbd",
   "metadata": {},
   "outputs": [
    {
     "data": {
      "text/plain": [
       "array(['desserts', 'hours', 'kids_menu', 'reservation',\n",
       "       'signature_cocktails', 'specials', 'specialty_coffees',\n",
       "       'sustainability'], dtype=object)"
      ]
     },
     "execution_count": 468,
     "metadata": {},
     "output_type": "execute_result"
    }
   ],
   "source": [
    "tag_encoder.classes_"
   ]
  },
  {
   "cell_type": "code",
   "execution_count": 385,
   "id": "3efdbc55-37d9-4758-b9d1-e9a80618fbc6",
   "metadata": {},
   "outputs": [
    {
     "data": {
      "text/plain": [
       "array([3, 3, 3, 3, 3, 3, 3, 3, 3, 3, 3, 3, 3, 3, 3, 3, 3, 3, 3, 3, 3, 3,\n",
       "       3, 3, 3, 3, 3, 3, 3, 3, 3, 3, 3, 3, 3, 3, 3, 3, 3, 3, 3, 3, 3, 3,\n",
       "       3, 3, 3, 3, 3, 3, 3, 3, 3, 3, 3, 3, 3, 3, 1, 1, 1, 1, 1, 1, 1, 1,\n",
       "       1, 1, 1, 1, 1, 1, 1, 1, 1, 1, 1, 1, 1, 1, 1, 1, 1, 1, 1, 1, 1, 1,\n",
       "       1, 1, 1, 1, 1, 1, 1, 1, 1, 1, 1, 1, 1, 1, 1, 1, 1, 5, 5, 5, 5, 5,\n",
       "       5, 5, 5, 5, 5, 5, 5, 5, 5, 5, 5, 5, 5, 5, 5, 5, 5, 5, 5, 5, 5, 5,\n",
       "       5, 5, 5, 5, 5, 5, 5, 5, 5, 5, 5, 5, 5, 5, 5, 5, 5, 5, 5, 5, 5, 2,\n",
       "       2, 2, 2, 2, 2, 2, 2, 2, 2, 2, 2, 2, 2, 2, 2, 2, 2, 2, 2, 2, 2, 2,\n",
       "       2, 2, 2, 2, 2, 2, 2, 2, 2, 2, 2, 2, 2, 2, 2, 2, 2, 7, 7, 7, 7, 7,\n",
       "       7, 7, 7, 7, 7, 7, 7, 7, 7, 7, 7, 7, 7, 7, 7, 7, 7, 7, 7, 7, 7, 7,\n",
       "       7, 7, 7, 7, 7, 7, 7, 7, 7, 7, 7, 7, 7, 7, 7, 7, 7, 7, 7, 7, 7, 7,\n",
       "       0, 0, 0, 0, 0, 0, 0, 0, 0, 0, 0, 0, 0, 0, 0, 0, 0, 0, 0, 0, 0, 0,\n",
       "       0, 0, 0, 0, 0, 0, 0, 0, 0, 0, 0, 0, 0, 0, 0, 0, 0, 0, 4, 4, 4, 4,\n",
       "       4, 4, 4, 4, 4, 4, 4, 4, 4, 4, 4, 4, 4, 4, 4, 4, 4, 4, 4, 4, 4, 4,\n",
       "       4, 4, 4, 4, 4, 4, 4, 4, 4, 4, 4, 4, 4, 4, 4, 4, 4, 4, 4, 4, 4, 6,\n",
       "       6, 6, 6, 6, 6, 6, 6, 6, 6, 6, 6, 6, 6, 6, 6, 6, 6, 6, 6, 6, 6, 6,\n",
       "       6, 6, 6, 6, 6, 6, 6, 6, 6, 6, 6, 6, 6, 6, 6, 6, 6])"
      ]
     },
     "execution_count": 385,
     "metadata": {},
     "output_type": "execute_result"
    }
   ],
   "source": [
    "y"
   ]
  },
  {
   "cell_type": "code",
   "execution_count": 386,
   "id": "32315044-8ca1-4d8a-83d7-949e4913200d",
   "metadata": {},
   "outputs": [],
   "source": [
    "# from tqdm import tqdm\n",
    "\n",
    "# X = []\n",
    "# for doc in tqdm(rdf['data'].values):\n",
    "#     # print(len(document_to_vec(doc)))\n",
    "#     X.append(document_to_vec(doc))\n",
    "X = [document_to_vec(vec_val) for vec_val in X_data ]"
   ]
  },
  {
   "cell_type": "code",
   "execution_count": 387,
   "id": "a19360a3-6b38-4b28-807b-37f0b2bbdde0",
   "metadata": {},
   "outputs": [],
   "source": [
    "for value in X_train:\n",
    "    if len(value) != 100:\n",
    "        print(len(value)) \n"
   ]
  },
  {
   "cell_type": "code",
   "execution_count": 388,
   "id": "0b63ab97-280c-403b-993f-3df01579711d",
   "metadata": {},
   "outputs": [],
   "source": [
    "from sklearn.model_selection import train_test_split\n",
    "X_train, X_test, y_train, y_test = train_test_split(X,y, test_size = 0.2, random_state = 1)"
   ]
  },
  {
   "cell_type": "code",
   "execution_count": 389,
   "id": "1e28e2ff-58aa-4cf4-b392-50d832ba8d72",
   "metadata": {},
   "outputs": [
    {
     "data": {
      "text/plain": [
       "74"
      ]
     },
     "execution_count": 389,
     "metadata": {},
     "output_type": "execute_result"
    }
   ],
   "source": [
    "len(X_test)"
   ]
  },
  {
   "cell_type": "code",
   "execution_count": 390,
   "id": "b357cab7-b90b-4e5a-9740-217668d02189",
   "metadata": {},
   "outputs": [
    {
     "data": {
      "text/plain": [
       "array([3, 4, 1, 4, 6, 1, 4, 0, 7, 2, 1, 6, 3, 6, 2, 1, 4, 1, 3, 4, 5, 1,\n",
       "       7, 6, 6, 3, 1, 1, 4, 4, 7, 7, 7, 5, 0, 7, 6, 2, 1, 1, 7, 4, 2, 4,\n",
       "       4, 3, 3, 5, 0, 5, 3, 1, 5, 3, 4, 3, 4, 3, 5, 2, 2, 1, 3, 2, 6, 3,\n",
       "       4, 2, 2, 6, 0, 4, 2, 7, 1, 3, 5, 7, 5, 6, 2, 3, 7, 0, 3, 6, 7, 7,\n",
       "       5, 6, 1, 6, 7, 3, 4, 1, 4, 4, 4, 3, 3, 3, 0, 3, 0, 3, 4, 4, 3, 6,\n",
       "       3, 4, 1, 2, 5, 3, 1, 7, 4, 6, 6, 4, 3, 2, 3, 5, 2, 4, 3, 3, 1, 2,\n",
       "       1, 3, 7, 0, 5, 3, 4, 2, 2, 7, 5, 0, 5, 7, 7, 5, 6, 7, 7, 4, 7, 3,\n",
       "       1, 4, 6, 0, 1, 2, 1, 5, 6, 7, 4, 0, 5, 0, 2, 5, 6, 4, 3, 2, 7, 6,\n",
       "       7, 7, 7, 1, 7, 0, 2, 1, 7, 5, 0, 1, 1, 7, 5, 5, 7, 5, 3, 0, 1, 7,\n",
       "       7, 3, 4, 3, 6, 3, 4, 1, 7, 1, 0, 6, 5, 4, 3, 3, 0, 0, 0, 2, 5, 6,\n",
       "       2, 1, 0, 6, 1, 7, 5, 4, 0, 4, 5, 2, 1, 2, 0, 5, 7, 0, 6, 1, 2, 4,\n",
       "       7, 3, 7, 1, 3, 4, 5, 4, 3, 1, 3, 0, 3, 6, 3, 6, 3, 5, 5, 6, 7, 0,\n",
       "       7, 4, 3, 4, 3, 4, 4, 3, 5, 1, 7, 7, 1, 3, 2, 0, 0, 0, 2, 0, 7, 1,\n",
       "       5, 5, 6, 5, 7, 0, 1, 7, 3])"
      ]
     },
     "execution_count": 390,
     "metadata": {},
     "output_type": "execute_result"
    }
   ],
   "source": [
    "y_train"
   ]
  },
  {
   "cell_type": "code",
   "execution_count": 438,
   "id": "0a101d5b-c104-47bf-b6a4-7fd2ca561c05",
   "metadata": {},
   "outputs": [],
   "source": [
    "model = Sequential()\n",
    "\n",
    "# model.add(Dense(100,activation=\"relu\",input_dim=100))\n",
    "# model.add(Dense(128,activation='relu'))\n",
    "model.add(Dense(100,activation=\"relu\",input_dim=100))\n",
    "model.add(Dense(128,activation='relu'))\n",
    "model.add(Dense(32,activation='relu'))\n",
    "model.add(Dense(8,activation='softmax'))"
   ]
  },
  {
   "cell_type": "code",
   "execution_count": 439,
   "id": "e657d228-3043-4f0d-b040-931ff27b4cb3",
   "metadata": {},
   "outputs": [
    {
     "name": "stdout",
     "output_type": "stream",
     "text": [
      "Model: \"sequential_13\"\n",
      "_________________________________________________________________\n",
      " Layer (type)                Output Shape              Param #   \n",
      "=================================================================\n",
      " dense_48 (Dense)            (None, 100)               10100     \n",
      "                                                                 \n",
      " dense_49 (Dense)            (None, 128)               12928     \n",
      "                                                                 \n",
      " dense_50 (Dense)            (None, 32)                4128      \n",
      "                                                                 \n",
      " dense_51 (Dense)            (None, 8)                 264       \n",
      "                                                                 \n",
      "=================================================================\n",
      "Total params: 27420 (107.11 KB)\n",
      "Trainable params: 27420 (107.11 KB)\n",
      "Non-trainable params: 0 (0.00 Byte)\n",
      "_________________________________________________________________\n"
     ]
    }
   ],
   "source": [
    "model.summary()"
   ]
  },
  {
   "cell_type": "code",
   "execution_count": 440,
   "id": "18a1cd27-9fb5-4685-9e6d-cb4e6ffef65e",
   "metadata": {},
   "outputs": [],
   "source": [
    "model.compile(loss='sparse_categorical_crossentropy',optimizer='Adam',metrics=['accuracy'])"
   ]
  },
  {
   "cell_type": "code",
   "execution_count": 441,
   "id": "baebc605-2311-4aae-ba6d-6fd656f165f5",
   "metadata": {},
   "outputs": [],
   "source": [
    "import tensorflow as tf\n",
    "\n",
    "X_train = tf.stack(X_train)\n",
    "y_train = tf.stack(y_train)\n",
    "X_test  = tf.stack(X_test)"
   ]
  },
  {
   "cell_type": "code",
   "execution_count": 442,
   "id": "66b4864c-4d38-485c-9f89-fb992429df4e",
   "metadata": {},
   "outputs": [
    {
     "data": {
      "text/plain": [
       "TensorShape([295])"
      ]
     },
     "execution_count": 442,
     "metadata": {},
     "output_type": "execute_result"
    }
   ],
   "source": [
    "y_train.shape"
   ]
  },
  {
   "cell_type": "code",
   "execution_count": 443,
   "id": "257834b3-6be4-43c6-803d-e5055cccbf90",
   "metadata": {},
   "outputs": [
    {
     "name": "stdout",
     "output_type": "stream",
     "text": [
      "Epoch 1/500\n",
      "8/8 [==============================] - 1s 24ms/step - loss: 2.0923 - accuracy: 0.1695 - val_loss: 2.0359 - val_accuracy: 0.1525\n",
      "Epoch 2/500\n",
      "8/8 [==============================] - 0s 7ms/step - loss: 1.9770 - accuracy: 0.2161 - val_loss: 1.9729 - val_accuracy: 0.2034\n",
      "Epoch 3/500\n",
      "8/8 [==============================] - 0s 6ms/step - loss: 1.8895 - accuracy: 0.3432 - val_loss: 1.9025 - val_accuracy: 0.2881\n",
      "Epoch 4/500\n",
      "8/8 [==============================] - 0s 7ms/step - loss: 1.8162 - accuracy: 0.4195 - val_loss: 1.8611 - val_accuracy: 0.3559\n",
      "Epoch 5/500\n",
      "8/8 [==============================] - 0s 6ms/step - loss: 1.7378 - accuracy: 0.4364 - val_loss: 1.8237 - val_accuracy: 0.2881\n",
      "Epoch 6/500\n",
      "8/8 [==============================] - 0s 6ms/step - loss: 1.6539 - accuracy: 0.4619 - val_loss: 1.7690 - val_accuracy: 0.3559\n",
      "Epoch 7/500\n",
      "8/8 [==============================] - 0s 6ms/step - loss: 1.5815 - accuracy: 0.4831 - val_loss: 1.7556 - val_accuracy: 0.3559\n",
      "Epoch 8/500\n",
      "8/8 [==============================] - 0s 6ms/step - loss: 1.5162 - accuracy: 0.4788 - val_loss: 1.7011 - val_accuracy: 0.3729\n",
      "Epoch 9/500\n",
      "8/8 [==============================] - 0s 7ms/step - loss: 1.4452 - accuracy: 0.5466 - val_loss: 1.6889 - val_accuracy: 0.4237\n",
      "Epoch 10/500\n",
      "8/8 [==============================] - 0s 7ms/step - loss: 1.4014 - accuracy: 0.5381 - val_loss: 1.6621 - val_accuracy: 0.4068\n",
      "Epoch 11/500\n",
      "8/8 [==============================] - 0s 7ms/step - loss: 1.3409 - accuracy: 0.5636 - val_loss: 1.6411 - val_accuracy: 0.4576\n",
      "Epoch 12/500\n",
      "8/8 [==============================] - 0s 7ms/step - loss: 1.2892 - accuracy: 0.5720 - val_loss: 1.6134 - val_accuracy: 0.4576\n",
      "Epoch 13/500\n",
      "8/8 [==============================] - 0s 6ms/step - loss: 1.2527 - accuracy: 0.5636 - val_loss: 1.5985 - val_accuracy: 0.4407\n",
      "Epoch 14/500\n",
      "8/8 [==============================] - 0s 6ms/step - loss: 1.2006 - accuracy: 0.6017 - val_loss: 1.5661 - val_accuracy: 0.4915\n",
      "Epoch 15/500\n",
      "8/8 [==============================] - 0s 6ms/step - loss: 1.1699 - accuracy: 0.5975 - val_loss: 1.6084 - val_accuracy: 0.4237\n",
      "Epoch 16/500\n",
      "8/8 [==============================] - 0s 6ms/step - loss: 1.1345 - accuracy: 0.5932 - val_loss: 1.5496 - val_accuracy: 0.5254\n",
      "Epoch 17/500\n",
      "8/8 [==============================] - 0s 6ms/step - loss: 1.0854 - accuracy: 0.6229 - val_loss: 1.5497 - val_accuracy: 0.5254\n",
      "Epoch 18/500\n",
      "8/8 [==============================] - 0s 7ms/step - loss: 1.0491 - accuracy: 0.6737 - val_loss: 1.5730 - val_accuracy: 0.5254\n",
      "Epoch 19/500\n",
      "8/8 [==============================] - 0s 6ms/step - loss: 1.0250 - accuracy: 0.6525 - val_loss: 1.5635 - val_accuracy: 0.5424\n",
      "Epoch 20/500\n",
      "8/8 [==============================] - 0s 7ms/step - loss: 0.9853 - accuracy: 0.6610 - val_loss: 1.5323 - val_accuracy: 0.5593\n",
      "Epoch 21/500\n",
      "8/8 [==============================] - 0s 6ms/step - loss: 0.9725 - accuracy: 0.6822 - val_loss: 1.5459 - val_accuracy: 0.5254\n",
      "Epoch 22/500\n",
      "8/8 [==============================] - 0s 6ms/step - loss: 0.9494 - accuracy: 0.6780 - val_loss: 1.5482 - val_accuracy: 0.5424\n",
      "Epoch 23/500\n",
      "8/8 [==============================] - 0s 6ms/step - loss: 0.9355 - accuracy: 0.6864 - val_loss: 1.5846 - val_accuracy: 0.5593\n",
      "Epoch 24/500\n",
      "8/8 [==============================] - 0s 9ms/step - loss: 0.8898 - accuracy: 0.6992 - val_loss: 1.5572 - val_accuracy: 0.5593\n",
      "Epoch 25/500\n",
      "8/8 [==============================] - 0s 5ms/step - loss: 0.8692 - accuracy: 0.7119 - val_loss: 1.6137 - val_accuracy: 0.5424\n",
      "Epoch 26/500\n",
      "8/8 [==============================] - 0s 6ms/step - loss: 0.8478 - accuracy: 0.7203 - val_loss: 1.5597 - val_accuracy: 0.5763\n",
      "Epoch 27/500\n",
      "8/8 [==============================] - 0s 6ms/step - loss: 0.8155 - accuracy: 0.7203 - val_loss: 1.5565 - val_accuracy: 0.5593\n",
      "Epoch 28/500\n",
      "8/8 [==============================] - 0s 6ms/step - loss: 0.7808 - accuracy: 0.7415 - val_loss: 1.5881 - val_accuracy: 0.5593\n",
      "Epoch 29/500\n",
      "8/8 [==============================] - 0s 6ms/step - loss: 0.7605 - accuracy: 0.7585 - val_loss: 1.5664 - val_accuracy: 0.5424\n",
      "Epoch 30/500\n",
      "8/8 [==============================] - 0s 6ms/step - loss: 0.7385 - accuracy: 0.7373 - val_loss: 1.6274 - val_accuracy: 0.5254\n",
      "Epoch 31/500\n",
      "8/8 [==============================] - 0s 5ms/step - loss: 0.7287 - accuracy: 0.7585 - val_loss: 1.5557 - val_accuracy: 0.5593\n",
      "Epoch 32/500\n",
      "8/8 [==============================] - 0s 4ms/step - loss: 0.7373 - accuracy: 0.7627 - val_loss: 1.6401 - val_accuracy: 0.5424\n",
      "Epoch 33/500\n",
      "8/8 [==============================] - 0s 6ms/step - loss: 0.6892 - accuracy: 0.7754 - val_loss: 1.5701 - val_accuracy: 0.5593\n",
      "Epoch 34/500\n",
      "8/8 [==============================] - 0s 6ms/step - loss: 0.6915 - accuracy: 0.7669 - val_loss: 1.6524 - val_accuracy: 0.5763\n",
      "Epoch 35/500\n",
      "8/8 [==============================] - 0s 5ms/step - loss: 0.6530 - accuracy: 0.7797 - val_loss: 1.6065 - val_accuracy: 0.5932\n",
      "Epoch 36/500\n",
      "8/8 [==============================] - 0s 7ms/step - loss: 0.6268 - accuracy: 0.7881 - val_loss: 1.5425 - val_accuracy: 0.5932\n",
      "Epoch 37/500\n",
      "8/8 [==============================] - 0s 6ms/step - loss: 0.6146 - accuracy: 0.8305 - val_loss: 1.6560 - val_accuracy: 0.5593\n",
      "Epoch 38/500\n",
      "8/8 [==============================] - 0s 5ms/step - loss: 0.6138 - accuracy: 0.8093 - val_loss: 1.5868 - val_accuracy: 0.5932\n",
      "Epoch 39/500\n",
      "8/8 [==============================] - 0s 5ms/step - loss: 0.5643 - accuracy: 0.8432 - val_loss: 1.7119 - val_accuracy: 0.5593\n",
      "Epoch 40/500\n",
      "8/8 [==============================] - 0s 5ms/step - loss: 0.5544 - accuracy: 0.8093 - val_loss: 1.5812 - val_accuracy: 0.5763\n",
      "Epoch 41/500\n",
      "8/8 [==============================] - 0s 5ms/step - loss: 0.5448 - accuracy: 0.8347 - val_loss: 1.7032 - val_accuracy: 0.5763\n",
      "Epoch 42/500\n",
      "8/8 [==============================] - 0s 6ms/step - loss: 0.5383 - accuracy: 0.8347 - val_loss: 1.6770 - val_accuracy: 0.5932\n",
      "Epoch 43/500\n",
      "8/8 [==============================] - 0s 5ms/step - loss: 0.5148 - accuracy: 0.8475 - val_loss: 1.7151 - val_accuracy: 0.5763\n",
      "Epoch 44/500\n",
      "8/8 [==============================] - 0s 5ms/step - loss: 0.5289 - accuracy: 0.7924 - val_loss: 1.6661 - val_accuracy: 0.5932\n",
      "Epoch 45/500\n",
      "8/8 [==============================] - 0s 7ms/step - loss: 0.5092 - accuracy: 0.8305 - val_loss: 1.7543 - val_accuracy: 0.5424\n",
      "Epoch 46/500\n",
      "8/8 [==============================] - 0s 7ms/step - loss: 0.4766 - accuracy: 0.8559 - val_loss: 1.6718 - val_accuracy: 0.5763\n",
      "Epoch 47/500\n",
      "8/8 [==============================] - 0s 7ms/step - loss: 0.4564 - accuracy: 0.8559 - val_loss: 1.7242 - val_accuracy: 0.5932\n",
      "Epoch 48/500\n",
      "8/8 [==============================] - 0s 6ms/step - loss: 0.4921 - accuracy: 0.8517 - val_loss: 1.6828 - val_accuracy: 0.5424\n",
      "Epoch 49/500\n",
      "8/8 [==============================] - 0s 6ms/step - loss: 0.4595 - accuracy: 0.8644 - val_loss: 1.7699 - val_accuracy: 0.5932\n",
      "Epoch 50/500\n",
      "8/8 [==============================] - 0s 7ms/step - loss: 0.4362 - accuracy: 0.8771 - val_loss: 1.7795 - val_accuracy: 0.5763\n",
      "Epoch 51/500\n",
      "8/8 [==============================] - 0s 7ms/step - loss: 0.4118 - accuracy: 0.8898 - val_loss: 1.7598 - val_accuracy: 0.5763\n",
      "Epoch 52/500\n",
      "8/8 [==============================] - 0s 6ms/step - loss: 0.4030 - accuracy: 0.8856 - val_loss: 1.7983 - val_accuracy: 0.5932\n",
      "Epoch 53/500\n",
      "8/8 [==============================] - 0s 6ms/step - loss: 0.3808 - accuracy: 0.8941 - val_loss: 1.7823 - val_accuracy: 0.5593\n",
      "Epoch 54/500\n",
      "8/8 [==============================] - 0s 7ms/step - loss: 0.3827 - accuracy: 0.8941 - val_loss: 1.8064 - val_accuracy: 0.5932\n",
      "Epoch 55/500\n",
      "8/8 [==============================] - 0s 7ms/step - loss: 0.3666 - accuracy: 0.9025 - val_loss: 1.7873 - val_accuracy: 0.5932\n",
      "Epoch 56/500\n",
      "8/8 [==============================] - 0s 7ms/step - loss: 0.3622 - accuracy: 0.9068 - val_loss: 1.8838 - val_accuracy: 0.5932\n",
      "Epoch 57/500\n",
      "8/8 [==============================] - 0s 8ms/step - loss: 0.3688 - accuracy: 0.8941 - val_loss: 1.9142 - val_accuracy: 0.5763\n",
      "Epoch 58/500\n",
      "8/8 [==============================] - 0s 6ms/step - loss: 0.3756 - accuracy: 0.9025 - val_loss: 1.8872 - val_accuracy: 0.6102\n",
      "Epoch 59/500\n",
      "8/8 [==============================] - 0s 7ms/step - loss: 0.3579 - accuracy: 0.9110 - val_loss: 1.8284 - val_accuracy: 0.5932\n",
      "Epoch 60/500\n",
      "8/8 [==============================] - 0s 4ms/step - loss: 0.3387 - accuracy: 0.9068 - val_loss: 1.9069 - val_accuracy: 0.5932\n",
      "Epoch 61/500\n",
      "8/8 [==============================] - 0s 5ms/step - loss: 0.3338 - accuracy: 0.9025 - val_loss: 1.9062 - val_accuracy: 0.5932\n",
      "Epoch 62/500\n",
      "8/8 [==============================] - 0s 6ms/step - loss: 0.3230 - accuracy: 0.9110 - val_loss: 1.9512 - val_accuracy: 0.5593\n",
      "Epoch 63/500\n",
      "8/8 [==============================] - 0s 5ms/step - loss: 0.3293 - accuracy: 0.8983 - val_loss: 1.9717 - val_accuracy: 0.5932\n",
      "Epoch 64/500\n",
      "8/8 [==============================] - 0s 7ms/step - loss: 0.3086 - accuracy: 0.9280 - val_loss: 1.9474 - val_accuracy: 0.5763\n",
      "Epoch 65/500\n",
      "8/8 [==============================] - 0s 7ms/step - loss: 0.3188 - accuracy: 0.9237 - val_loss: 2.0183 - val_accuracy: 0.5932\n",
      "Epoch 66/500\n",
      "8/8 [==============================] - 0s 7ms/step - loss: 0.3068 - accuracy: 0.9195 - val_loss: 1.9937 - val_accuracy: 0.5763\n",
      "Epoch 67/500\n",
      "8/8 [==============================] - 0s 7ms/step - loss: 0.2822 - accuracy: 0.9195 - val_loss: 2.0170 - val_accuracy: 0.5763\n",
      "Epoch 68/500\n",
      "8/8 [==============================] - 0s 7ms/step - loss: 0.2792 - accuracy: 0.9195 - val_loss: 2.0124 - val_accuracy: 0.5932\n",
      "Epoch 69/500\n",
      "8/8 [==============================] - 0s 7ms/step - loss: 0.2727 - accuracy: 0.9322 - val_loss: 2.0410 - val_accuracy: 0.5932\n",
      "Epoch 70/500\n",
      "8/8 [==============================] - 0s 6ms/step - loss: 0.2568 - accuracy: 0.9110 - val_loss: 1.9784 - val_accuracy: 0.5763\n",
      "Epoch 71/500\n",
      "8/8 [==============================] - 0s 7ms/step - loss: 0.2542 - accuracy: 0.9280 - val_loss: 2.0819 - val_accuracy: 0.6102\n",
      "Epoch 72/500\n",
      "8/8 [==============================] - 0s 6ms/step - loss: 0.2548 - accuracy: 0.9322 - val_loss: 2.0838 - val_accuracy: 0.5763\n",
      "Epoch 73/500\n",
      "8/8 [==============================] - 0s 7ms/step - loss: 0.2425 - accuracy: 0.9280 - val_loss: 2.0303 - val_accuracy: 0.5932\n",
      "Epoch 74/500\n",
      "8/8 [==============================] - 0s 6ms/step - loss: 0.2421 - accuracy: 0.9322 - val_loss: 2.1115 - val_accuracy: 0.5763\n",
      "Epoch 75/500\n",
      "8/8 [==============================] - 0s 7ms/step - loss: 0.2546 - accuracy: 0.9322 - val_loss: 2.0684 - val_accuracy: 0.5763\n",
      "Epoch 76/500\n",
      "8/8 [==============================] - 0s 5ms/step - loss: 0.2342 - accuracy: 0.9322 - val_loss: 2.1101 - val_accuracy: 0.6102\n",
      "Epoch 77/500\n",
      "8/8 [==============================] - 0s 5ms/step - loss: 0.2470 - accuracy: 0.9153 - val_loss: 2.1412 - val_accuracy: 0.5763\n",
      "Epoch 78/500\n",
      "8/8 [==============================] - 0s 7ms/step - loss: 0.2404 - accuracy: 0.9195 - val_loss: 2.1973 - val_accuracy: 0.5424\n",
      "Epoch 79/500\n",
      "8/8 [==============================] - 0s 7ms/step - loss: 0.2383 - accuracy: 0.9322 - val_loss: 2.1557 - val_accuracy: 0.5932\n",
      "Epoch 80/500\n",
      "8/8 [==============================] - 0s 7ms/step - loss: 0.2180 - accuracy: 0.9322 - val_loss: 2.1976 - val_accuracy: 0.5763\n",
      "Epoch 81/500\n",
      "8/8 [==============================] - 0s 7ms/step - loss: 0.2404 - accuracy: 0.9195 - val_loss: 2.1878 - val_accuracy: 0.5932\n",
      "Epoch 82/500\n",
      "8/8 [==============================] - 0s 7ms/step - loss: 0.2214 - accuracy: 0.9407 - val_loss: 2.1927 - val_accuracy: 0.5763\n",
      "Epoch 83/500\n",
      "8/8 [==============================] - 0s 7ms/step - loss: 0.2167 - accuracy: 0.9449 - val_loss: 2.2936 - val_accuracy: 0.5254\n",
      "Epoch 84/500\n",
      "8/8 [==============================] - 0s 7ms/step - loss: 0.2291 - accuracy: 0.9280 - val_loss: 2.2001 - val_accuracy: 0.5593\n",
      "Epoch 85/500\n",
      "8/8 [==============================] - 0s 7ms/step - loss: 0.2195 - accuracy: 0.9280 - val_loss: 2.2432 - val_accuracy: 0.5593\n",
      "Epoch 86/500\n",
      "8/8 [==============================] - 0s 7ms/step - loss: 0.2026 - accuracy: 0.9449 - val_loss: 2.2000 - val_accuracy: 0.5763\n",
      "Epoch 87/500\n",
      "8/8 [==============================] - 0s 7ms/step - loss: 0.2083 - accuracy: 0.9407 - val_loss: 2.2755 - val_accuracy: 0.5763\n",
      "Epoch 88/500\n",
      "8/8 [==============================] - 0s 7ms/step - loss: 0.1952 - accuracy: 0.9449 - val_loss: 2.2937 - val_accuracy: 0.5763\n",
      "Epoch 89/500\n",
      "8/8 [==============================] - 0s 8ms/step - loss: 0.2005 - accuracy: 0.9322 - val_loss: 2.2564 - val_accuracy: 0.5763\n",
      "Epoch 90/500\n",
      "8/8 [==============================] - 0s 7ms/step - loss: 0.2027 - accuracy: 0.9534 - val_loss: 2.3287 - val_accuracy: 0.5763\n",
      "Epoch 91/500\n",
      "8/8 [==============================] - 0s 7ms/step - loss: 0.1935 - accuracy: 0.9364 - val_loss: 2.3085 - val_accuracy: 0.5763\n",
      "Epoch 92/500\n",
      "8/8 [==============================] - 0s 6ms/step - loss: 0.1955 - accuracy: 0.9364 - val_loss: 2.3132 - val_accuracy: 0.5593\n",
      "Epoch 93/500\n",
      "8/8 [==============================] - 0s 6ms/step - loss: 0.2337 - accuracy: 0.9237 - val_loss: 2.3335 - val_accuracy: 0.5424\n",
      "Epoch 94/500\n",
      "8/8 [==============================] - 0s 10ms/step - loss: 0.2264 - accuracy: 0.9449 - val_loss: 2.3538 - val_accuracy: 0.5593\n",
      "Epoch 95/500\n",
      "8/8 [==============================] - 0s 6ms/step - loss: 0.2163 - accuracy: 0.9237 - val_loss: 2.3557 - val_accuracy: 0.5593\n",
      "Epoch 96/500\n",
      "8/8 [==============================] - 0s 7ms/step - loss: 0.2351 - accuracy: 0.9364 - val_loss: 2.4809 - val_accuracy: 0.5932\n",
      "Epoch 97/500\n",
      "8/8 [==============================] - 0s 4ms/step - loss: 0.2068 - accuracy: 0.9449 - val_loss: 2.3568 - val_accuracy: 0.5763\n",
      "Epoch 98/500\n",
      "8/8 [==============================] - 0s 5ms/step - loss: 0.2078 - accuracy: 0.9364 - val_loss: 2.4051 - val_accuracy: 0.5424\n",
      "Epoch 99/500\n",
      "8/8 [==============================] - 0s 7ms/step - loss: 0.2028 - accuracy: 0.9449 - val_loss: 2.4667 - val_accuracy: 0.5763\n",
      "Epoch 100/500\n",
      "8/8 [==============================] - 0s 6ms/step - loss: 0.2011 - accuracy: 0.9280 - val_loss: 2.3602 - val_accuracy: 0.5593\n",
      "Epoch 101/500\n",
      "8/8 [==============================] - 0s 6ms/step - loss: 0.1887 - accuracy: 0.9322 - val_loss: 2.5087 - val_accuracy: 0.5763\n",
      "Epoch 102/500\n",
      "8/8 [==============================] - 0s 7ms/step - loss: 0.2070 - accuracy: 0.9322 - val_loss: 2.4171 - val_accuracy: 0.5763\n",
      "Epoch 103/500\n",
      "8/8 [==============================] - 0s 7ms/step - loss: 0.1764 - accuracy: 0.9492 - val_loss: 2.4088 - val_accuracy: 0.5593\n",
      "Epoch 104/500\n",
      "8/8 [==============================] - 0s 7ms/step - loss: 0.1706 - accuracy: 0.9492 - val_loss: 2.5137 - val_accuracy: 0.5593\n",
      "Epoch 105/500\n",
      "8/8 [==============================] - 0s 7ms/step - loss: 0.1878 - accuracy: 0.9492 - val_loss: 2.4364 - val_accuracy: 0.5763\n",
      "Epoch 106/500\n",
      "8/8 [==============================] - 0s 7ms/step - loss: 0.1698 - accuracy: 0.9534 - val_loss: 2.4238 - val_accuracy: 0.5763\n",
      "Epoch 107/500\n",
      "8/8 [==============================] - 0s 5ms/step - loss: 0.1704 - accuracy: 0.9364 - val_loss: 2.4801 - val_accuracy: 0.5593\n",
      "Epoch 108/500\n",
      "8/8 [==============================] - 0s 5ms/step - loss: 0.1685 - accuracy: 0.9407 - val_loss: 2.5249 - val_accuracy: 0.5593\n",
      "Epoch 109/500\n",
      "8/8 [==============================] - 0s 7ms/step - loss: 0.2012 - accuracy: 0.9322 - val_loss: 2.5499 - val_accuracy: 0.5932\n",
      "Epoch 110/500\n",
      "8/8 [==============================] - 0s 7ms/step - loss: 0.1870 - accuracy: 0.9364 - val_loss: 2.4259 - val_accuracy: 0.5763\n",
      "Epoch 111/500\n",
      "8/8 [==============================] - 0s 7ms/step - loss: 0.1914 - accuracy: 0.9449 - val_loss: 2.4674 - val_accuracy: 0.5424\n",
      "Epoch 112/500\n",
      "8/8 [==============================] - 0s 7ms/step - loss: 0.1854 - accuracy: 0.9449 - val_loss: 2.5367 - val_accuracy: 0.5593\n",
      "Epoch 113/500\n",
      "8/8 [==============================] - 0s 5ms/step - loss: 0.1767 - accuracy: 0.9364 - val_loss: 2.5605 - val_accuracy: 0.5424\n",
      "Epoch 114/500\n",
      "8/8 [==============================] - 0s 6ms/step - loss: 0.1796 - accuracy: 0.9449 - val_loss: 2.5517 - val_accuracy: 0.5593\n",
      "Epoch 115/500\n",
      "8/8 [==============================] - 0s 5ms/step - loss: 0.2096 - accuracy: 0.9407 - val_loss: 2.6327 - val_accuracy: 0.5593\n",
      "Epoch 116/500\n",
      "8/8 [==============================] - 0s 5ms/step - loss: 0.1808 - accuracy: 0.9407 - val_loss: 2.4908 - val_accuracy: 0.5763\n",
      "Epoch 117/500\n",
      "8/8 [==============================] - 0s 6ms/step - loss: 0.1735 - accuracy: 0.9449 - val_loss: 2.6833 - val_accuracy: 0.5424\n",
      "Epoch 118/500\n",
      "8/8 [==============================] - 0s 6ms/step - loss: 0.1793 - accuracy: 0.9534 - val_loss: 2.5066 - val_accuracy: 0.5593\n",
      "Epoch 119/500\n",
      "8/8 [==============================] - 0s 6ms/step - loss: 0.1697 - accuracy: 0.9492 - val_loss: 2.5704 - val_accuracy: 0.5593\n",
      "Epoch 120/500\n",
      "8/8 [==============================] - 0s 7ms/step - loss: 0.1450 - accuracy: 0.9449 - val_loss: 2.6206 - val_accuracy: 0.5593\n",
      "Epoch 121/500\n",
      "8/8 [==============================] - 0s 6ms/step - loss: 0.1528 - accuracy: 0.9407 - val_loss: 2.5326 - val_accuracy: 0.5593\n",
      "Epoch 122/500\n",
      "8/8 [==============================] - 0s 7ms/step - loss: 0.1542 - accuracy: 0.9449 - val_loss: 2.6055 - val_accuracy: 0.5593\n",
      "Epoch 123/500\n",
      "8/8 [==============================] - 0s 6ms/step - loss: 0.1490 - accuracy: 0.9492 - val_loss: 2.6229 - val_accuracy: 0.5593\n",
      "Epoch 124/500\n",
      "8/8 [==============================] - 0s 8ms/step - loss: 0.1475 - accuracy: 0.9534 - val_loss: 2.6313 - val_accuracy: 0.5593\n",
      "Epoch 125/500\n",
      "8/8 [==============================] - 0s 6ms/step - loss: 0.1426 - accuracy: 0.9407 - val_loss: 2.6102 - val_accuracy: 0.5424\n",
      "Epoch 126/500\n",
      "8/8 [==============================] - 0s 6ms/step - loss: 0.1696 - accuracy: 0.9280 - val_loss: 2.6401 - val_accuracy: 0.5763\n",
      "Epoch 127/500\n",
      "8/8 [==============================] - 0s 5ms/step - loss: 0.1515 - accuracy: 0.9449 - val_loss: 2.6249 - val_accuracy: 0.5763\n",
      "Epoch 128/500\n",
      "8/8 [==============================] - 0s 6ms/step - loss: 0.1438 - accuracy: 0.9576 - val_loss: 2.6327 - val_accuracy: 0.5593\n",
      "Epoch 129/500\n",
      "8/8 [==============================] - 0s 6ms/step - loss: 0.1505 - accuracy: 0.9449 - val_loss: 2.6775 - val_accuracy: 0.5763\n",
      "Epoch 130/500\n",
      "8/8 [==============================] - 0s 6ms/step - loss: 0.1440 - accuracy: 0.9407 - val_loss: 2.6623 - val_accuracy: 0.5763\n",
      "Epoch 131/500\n",
      "8/8 [==============================] - 0s 6ms/step - loss: 0.1512 - accuracy: 0.9364 - val_loss: 2.6543 - val_accuracy: 0.5593\n",
      "Epoch 132/500\n",
      "8/8 [==============================] - 0s 4ms/step - loss: 0.1467 - accuracy: 0.9449 - val_loss: 2.6811 - val_accuracy: 0.5593\n",
      "Epoch 133/500\n",
      "8/8 [==============================] - 0s 6ms/step - loss: 0.1374 - accuracy: 0.9534 - val_loss: 2.6673 - val_accuracy: 0.5424\n",
      "Epoch 134/500\n",
      "8/8 [==============================] - 0s 6ms/step - loss: 0.1503 - accuracy: 0.9449 - val_loss: 2.7662 - val_accuracy: 0.5254\n",
      "Epoch 135/500\n",
      "8/8 [==============================] - 0s 5ms/step - loss: 0.1473 - accuracy: 0.9534 - val_loss: 2.6664 - val_accuracy: 0.5763\n",
      "Epoch 136/500\n",
      "8/8 [==============================] - 0s 6ms/step - loss: 0.1527 - accuracy: 0.9492 - val_loss: 2.6830 - val_accuracy: 0.5593\n",
      "Epoch 137/500\n",
      "8/8 [==============================] - 0s 6ms/step - loss: 0.1293 - accuracy: 0.9619 - val_loss: 2.7722 - val_accuracy: 0.5763\n",
      "Epoch 138/500\n",
      "8/8 [==============================] - 0s 6ms/step - loss: 0.1519 - accuracy: 0.9492 - val_loss: 2.6578 - val_accuracy: 0.5593\n",
      "Epoch 139/500\n",
      "8/8 [==============================] - 0s 6ms/step - loss: 0.1472 - accuracy: 0.9576 - val_loss: 2.7995 - val_accuracy: 0.5593\n",
      "Epoch 140/500\n",
      "8/8 [==============================] - 0s 6ms/step - loss: 0.1391 - accuracy: 0.9492 - val_loss: 2.8222 - val_accuracy: 0.5763\n",
      "Epoch 141/500\n",
      "8/8 [==============================] - 0s 7ms/step - loss: 0.1596 - accuracy: 0.9407 - val_loss: 2.6719 - val_accuracy: 0.5593\n",
      "Epoch 142/500\n",
      "8/8 [==============================] - 0s 7ms/step - loss: 0.1561 - accuracy: 0.9407 - val_loss: 2.8014 - val_accuracy: 0.5593\n",
      "Epoch 143/500\n",
      "8/8 [==============================] - 0s 9ms/step - loss: 0.1386 - accuracy: 0.9576 - val_loss: 2.7775 - val_accuracy: 0.5593\n",
      "Epoch 144/500\n",
      "8/8 [==============================] - 0s 7ms/step - loss: 0.1287 - accuracy: 0.9534 - val_loss: 2.7485 - val_accuracy: 0.5424\n",
      "Epoch 145/500\n",
      "8/8 [==============================] - 0s 6ms/step - loss: 0.1328 - accuracy: 0.9492 - val_loss: 2.8170 - val_accuracy: 0.5424\n",
      "Epoch 146/500\n",
      "8/8 [==============================] - 0s 6ms/step - loss: 0.1295 - accuracy: 0.9534 - val_loss: 2.7835 - val_accuracy: 0.5593\n",
      "Epoch 147/500\n",
      "8/8 [==============================] - 0s 5ms/step - loss: 0.1362 - accuracy: 0.9492 - val_loss: 2.7828 - val_accuracy: 0.5424\n",
      "Epoch 148/500\n",
      "8/8 [==============================] - 0s 5ms/step - loss: 0.1331 - accuracy: 0.9449 - val_loss: 2.8002 - val_accuracy: 0.5593\n",
      "Epoch 149/500\n",
      "8/8 [==============================] - 0s 7ms/step - loss: 0.1214 - accuracy: 0.9576 - val_loss: 2.8975 - val_accuracy: 0.5424\n",
      "Epoch 150/500\n",
      "8/8 [==============================] - 0s 6ms/step - loss: 0.1616 - accuracy: 0.9449 - val_loss: 2.7279 - val_accuracy: 0.5593\n",
      "Epoch 151/500\n",
      "8/8 [==============================] - 0s 6ms/step - loss: 0.1411 - accuracy: 0.9492 - val_loss: 2.7401 - val_accuracy: 0.5424\n",
      "Epoch 152/500\n",
      "8/8 [==============================] - 0s 5ms/step - loss: 0.1297 - accuracy: 0.9407 - val_loss: 2.9140 - val_accuracy: 0.5932\n",
      "Epoch 153/500\n",
      "8/8 [==============================] - 0s 7ms/step - loss: 0.1336 - accuracy: 0.9407 - val_loss: 2.8237 - val_accuracy: 0.5593\n",
      "Epoch 154/500\n",
      "8/8 [==============================] - 0s 7ms/step - loss: 0.1196 - accuracy: 0.9576 - val_loss: 2.7822 - val_accuracy: 0.5593\n",
      "Epoch 155/500\n",
      "8/8 [==============================] - 0s 6ms/step - loss: 0.1264 - accuracy: 0.9534 - val_loss: 2.8228 - val_accuracy: 0.5593\n",
      "Epoch 156/500\n",
      "8/8 [==============================] - 0s 6ms/step - loss: 0.1262 - accuracy: 0.9576 - val_loss: 2.8595 - val_accuracy: 0.5593\n",
      "Epoch 157/500\n",
      "8/8 [==============================] - 0s 7ms/step - loss: 0.1205 - accuracy: 0.9534 - val_loss: 2.8640 - val_accuracy: 0.5593\n",
      "Epoch 158/500\n",
      "8/8 [==============================] - 0s 6ms/step - loss: 0.1279 - accuracy: 0.9534 - val_loss: 2.8308 - val_accuracy: 0.5254\n",
      "Epoch 159/500\n",
      "8/8 [==============================] - 0s 5ms/step - loss: 0.1449 - accuracy: 0.9492 - val_loss: 2.8939 - val_accuracy: 0.5763\n",
      "Epoch 160/500\n",
      "8/8 [==============================] - 0s 5ms/step - loss: 0.1342 - accuracy: 0.9492 - val_loss: 2.8887 - val_accuracy: 0.5085\n",
      "Epoch 161/500\n",
      "8/8 [==============================] - 0s 8ms/step - loss: 0.1213 - accuracy: 0.9407 - val_loss: 2.9903 - val_accuracy: 0.5593\n",
      "Epoch 162/500\n",
      "8/8 [==============================] - 0s 6ms/step - loss: 0.1222 - accuracy: 0.9534 - val_loss: 2.9338 - val_accuracy: 0.5424\n",
      "Epoch 163/500\n",
      "8/8 [==============================] - 0s 7ms/step - loss: 0.1262 - accuracy: 0.9576 - val_loss: 2.8695 - val_accuracy: 0.5593\n",
      "Epoch 164/500\n",
      "8/8 [==============================] - 0s 6ms/step - loss: 0.1335 - accuracy: 0.9449 - val_loss: 2.8346 - val_accuracy: 0.5593\n",
      "Epoch 165/500\n",
      "8/8 [==============================] - 0s 5ms/step - loss: 0.1378 - accuracy: 0.9576 - val_loss: 2.9284 - val_accuracy: 0.5424\n",
      "Epoch 166/500\n",
      "8/8 [==============================] - 0s 6ms/step - loss: 0.1194 - accuracy: 0.9619 - val_loss: 3.0041 - val_accuracy: 0.5424\n",
      "Epoch 167/500\n",
      "8/8 [==============================] - 0s 6ms/step - loss: 0.1341 - accuracy: 0.9534 - val_loss: 2.8734 - val_accuracy: 0.5593\n",
      "Epoch 168/500\n",
      "8/8 [==============================] - 0s 5ms/step - loss: 0.1229 - accuracy: 0.9449 - val_loss: 2.9329 - val_accuracy: 0.5424\n",
      "Epoch 169/500\n",
      "8/8 [==============================] - 0s 7ms/step - loss: 0.1176 - accuracy: 0.9576 - val_loss: 2.9372 - val_accuracy: 0.5424\n",
      "Epoch 170/500\n",
      "8/8 [==============================] - 0s 7ms/step - loss: 0.1052 - accuracy: 0.9619 - val_loss: 2.9674 - val_accuracy: 0.5593\n",
      "Epoch 171/500\n",
      "8/8 [==============================] - 0s 6ms/step - loss: 0.1156 - accuracy: 0.9619 - val_loss: 2.9932 - val_accuracy: 0.5763\n",
      "Epoch 172/500\n",
      "8/8 [==============================] - 0s 5ms/step - loss: 0.1365 - accuracy: 0.9534 - val_loss: 3.0596 - val_accuracy: 0.5424\n",
      "Epoch 173/500\n",
      "8/8 [==============================] - 0s 7ms/step - loss: 0.1104 - accuracy: 0.9576 - val_loss: 2.9740 - val_accuracy: 0.5763\n",
      "Epoch 174/500\n",
      "8/8 [==============================] - 0s 5ms/step - loss: 0.1192 - accuracy: 0.9449 - val_loss: 2.9797 - val_accuracy: 0.5593\n",
      "Epoch 175/500\n",
      "8/8 [==============================] - 0s 5ms/step - loss: 0.1143 - accuracy: 0.9619 - val_loss: 3.0437 - val_accuracy: 0.5593\n",
      "Epoch 176/500\n",
      "8/8 [==============================] - 0s 6ms/step - loss: 0.1300 - accuracy: 0.9407 - val_loss: 2.9936 - val_accuracy: 0.5593\n",
      "Epoch 177/500\n",
      "8/8 [==============================] - 0s 5ms/step - loss: 0.1145 - accuracy: 0.9576 - val_loss: 3.0262 - val_accuracy: 0.5593\n",
      "Epoch 178/500\n",
      "8/8 [==============================] - 0s 8ms/step - loss: 0.1250 - accuracy: 0.9576 - val_loss: 3.0508 - val_accuracy: 0.5763\n",
      "Epoch 179/500\n",
      "8/8 [==============================] - 0s 6ms/step - loss: 0.1412 - accuracy: 0.9492 - val_loss: 2.9627 - val_accuracy: 0.5763\n",
      "Epoch 180/500\n",
      "8/8 [==============================] - 0s 5ms/step - loss: 0.1159 - accuracy: 0.9576 - val_loss: 3.0330 - val_accuracy: 0.5763\n",
      "Epoch 181/500\n",
      "8/8 [==============================] - 0s 7ms/step - loss: 0.1179 - accuracy: 0.9576 - val_loss: 3.0080 - val_accuracy: 0.5593\n",
      "Epoch 182/500\n",
      "8/8 [==============================] - 0s 10ms/step - loss: 0.1202 - accuracy: 0.9449 - val_loss: 2.9953 - val_accuracy: 0.5763\n",
      "Epoch 183/500\n",
      "8/8 [==============================] - 0s 10ms/step - loss: 0.1142 - accuracy: 0.9576 - val_loss: 3.0007 - val_accuracy: 0.5593\n",
      "Epoch 184/500\n",
      "8/8 [==============================] - 0s 4ms/step - loss: 0.1153 - accuracy: 0.9619 - val_loss: 3.0515 - val_accuracy: 0.5593\n",
      "Epoch 185/500\n",
      "8/8 [==============================] - 0s 6ms/step - loss: 0.1106 - accuracy: 0.9576 - val_loss: 3.0446 - val_accuracy: 0.5593\n",
      "Epoch 186/500\n",
      "8/8 [==============================] - 0s 5ms/step - loss: 0.1048 - accuracy: 0.9576 - val_loss: 3.0952 - val_accuracy: 0.5424\n",
      "Epoch 187/500\n",
      "8/8 [==============================] - 0s 5ms/step - loss: 0.1217 - accuracy: 0.9492 - val_loss: 3.0518 - val_accuracy: 0.5254\n",
      "Epoch 188/500\n",
      "8/8 [==============================] - 0s 7ms/step - loss: 0.1048 - accuracy: 0.9576 - val_loss: 3.1096 - val_accuracy: 0.5424\n",
      "Epoch 189/500\n",
      "8/8 [==============================] - 0s 5ms/step - loss: 0.1484 - accuracy: 0.9492 - val_loss: 3.0599 - val_accuracy: 0.5424\n",
      "Epoch 190/500\n",
      "8/8 [==============================] - 0s 6ms/step - loss: 0.1285 - accuracy: 0.9492 - val_loss: 2.9932 - val_accuracy: 0.5424\n",
      "Epoch 191/500\n",
      "8/8 [==============================] - 0s 7ms/step - loss: 0.1280 - accuracy: 0.9364 - val_loss: 3.0097 - val_accuracy: 0.5593\n",
      "Epoch 192/500\n",
      "8/8 [==============================] - 0s 5ms/step - loss: 0.1228 - accuracy: 0.9492 - val_loss: 3.1473 - val_accuracy: 0.5593\n",
      "Epoch 193/500\n",
      "8/8 [==============================] - 0s 5ms/step - loss: 0.1107 - accuracy: 0.9492 - val_loss: 3.1294 - val_accuracy: 0.5593\n",
      "Epoch 194/500\n",
      "8/8 [==============================] - 0s 7ms/step - loss: 0.1279 - accuracy: 0.9534 - val_loss: 3.0872 - val_accuracy: 0.5763\n",
      "Epoch 195/500\n",
      "8/8 [==============================] - 0s 8ms/step - loss: 0.1112 - accuracy: 0.9534 - val_loss: 3.0644 - val_accuracy: 0.5593\n",
      "Epoch 196/500\n",
      "8/8 [==============================] - 0s 6ms/step - loss: 0.0990 - accuracy: 0.9534 - val_loss: 3.0527 - val_accuracy: 0.5424\n",
      "Epoch 197/500\n",
      "8/8 [==============================] - 0s 5ms/step - loss: 0.1116 - accuracy: 0.9492 - val_loss: 3.0775 - val_accuracy: 0.5593\n",
      "Epoch 198/500\n",
      "8/8 [==============================] - 0s 5ms/step - loss: 0.1201 - accuracy: 0.9619 - val_loss: 3.1122 - val_accuracy: 0.5593\n",
      "Epoch 199/500\n",
      "8/8 [==============================] - 0s 7ms/step - loss: 0.1212 - accuracy: 0.9449 - val_loss: 3.1358 - val_accuracy: 0.5424\n",
      "Epoch 200/500\n",
      "8/8 [==============================] - 0s 7ms/step - loss: 0.1118 - accuracy: 0.9619 - val_loss: 3.1626 - val_accuracy: 0.5763\n",
      "Epoch 201/500\n",
      "8/8 [==============================] - 0s 5ms/step - loss: 0.1172 - accuracy: 0.9407 - val_loss: 3.1450 - val_accuracy: 0.5424\n",
      "Epoch 202/500\n",
      "8/8 [==============================] - 0s 6ms/step - loss: 0.1065 - accuracy: 0.9449 - val_loss: 3.1328 - val_accuracy: 0.5593\n",
      "Epoch 203/500\n",
      "8/8 [==============================] - 0s 6ms/step - loss: 0.1129 - accuracy: 0.9534 - val_loss: 3.2445 - val_accuracy: 0.5593\n",
      "Epoch 204/500\n",
      "8/8 [==============================] - 0s 5ms/step - loss: 0.1385 - accuracy: 0.9619 - val_loss: 3.2307 - val_accuracy: 0.5763\n",
      "Epoch 205/500\n",
      "8/8 [==============================] - 0s 9ms/step - loss: 0.1300 - accuracy: 0.9534 - val_loss: 3.2359 - val_accuracy: 0.5424\n",
      "Epoch 206/500\n",
      "8/8 [==============================] - 0s 6ms/step - loss: 0.1293 - accuracy: 0.9534 - val_loss: 3.2309 - val_accuracy: 0.5593\n",
      "Epoch 207/500\n",
      "8/8 [==============================] - 0s 6ms/step - loss: 0.1383 - accuracy: 0.9492 - val_loss: 3.1206 - val_accuracy: 0.5763\n",
      "Epoch 208/500\n",
      "8/8 [==============================] - 0s 6ms/step - loss: 0.1224 - accuracy: 0.9534 - val_loss: 3.1011 - val_accuracy: 0.5593\n",
      "Epoch 209/500\n",
      "8/8 [==============================] - 0s 7ms/step - loss: 0.1136 - accuracy: 0.9407 - val_loss: 3.1559 - val_accuracy: 0.5593\n",
      "Epoch 210/500\n",
      "8/8 [==============================] - 0s 7ms/step - loss: 0.1179 - accuracy: 0.9449 - val_loss: 3.1121 - val_accuracy: 0.5593\n",
      "Epoch 211/500\n",
      "8/8 [==============================] - 0s 6ms/step - loss: 0.1141 - accuracy: 0.9619 - val_loss: 3.1756 - val_accuracy: 0.5424\n",
      "Epoch 212/500\n",
      "8/8 [==============================] - 0s 7ms/step - loss: 0.1218 - accuracy: 0.9534 - val_loss: 3.1175 - val_accuracy: 0.5424\n",
      "Epoch 213/500\n",
      "8/8 [==============================] - 0s 6ms/step - loss: 0.1342 - accuracy: 0.9619 - val_loss: 3.1434 - val_accuracy: 0.5424\n",
      "Epoch 214/500\n",
      "8/8 [==============================] - 0s 7ms/step - loss: 0.1187 - accuracy: 0.9576 - val_loss: 3.2253 - val_accuracy: 0.5424\n",
      "Epoch 215/500\n",
      "8/8 [==============================] - 0s 7ms/step - loss: 0.1474 - accuracy: 0.9534 - val_loss: 3.1345 - val_accuracy: 0.5424\n",
      "Epoch 216/500\n",
      "8/8 [==============================] - 0s 6ms/step - loss: 0.1372 - accuracy: 0.9449 - val_loss: 3.1848 - val_accuracy: 0.5763\n",
      "Epoch 217/500\n",
      "8/8 [==============================] - 0s 7ms/step - loss: 0.1073 - accuracy: 0.9576 - val_loss: 3.1467 - val_accuracy: 0.5424\n",
      "Epoch 218/500\n",
      "8/8 [==============================] - 0s 7ms/step - loss: 0.1057 - accuracy: 0.9576 - val_loss: 3.1417 - val_accuracy: 0.5763\n",
      "Epoch 219/500\n",
      "8/8 [==============================] - 0s 7ms/step - loss: 0.1041 - accuracy: 0.9576 - val_loss: 3.2252 - val_accuracy: 0.5593\n",
      "Epoch 220/500\n",
      "8/8 [==============================] - 0s 6ms/step - loss: 0.1072 - accuracy: 0.9449 - val_loss: 3.2423 - val_accuracy: 0.5763\n",
      "Epoch 221/500\n",
      "8/8 [==============================] - 0s 6ms/step - loss: 0.1128 - accuracy: 0.9619 - val_loss: 3.2064 - val_accuracy: 0.5932\n",
      "Epoch 222/500\n",
      "8/8 [==============================] - 0s 7ms/step - loss: 0.1094 - accuracy: 0.9619 - val_loss: 3.1345 - val_accuracy: 0.5763\n",
      "Epoch 223/500\n",
      "8/8 [==============================] - 0s 7ms/step - loss: 0.1554 - accuracy: 0.9449 - val_loss: 3.2569 - val_accuracy: 0.5424\n",
      "Epoch 224/500\n",
      "8/8 [==============================] - 0s 5ms/step - loss: 0.1683 - accuracy: 0.9364 - val_loss: 3.1638 - val_accuracy: 0.5763\n",
      "Epoch 225/500\n",
      "8/8 [==============================] - 0s 6ms/step - loss: 0.1365 - accuracy: 0.9492 - val_loss: 3.2932 - val_accuracy: 0.6102\n",
      "Epoch 226/500\n",
      "8/8 [==============================] - 0s 7ms/step - loss: 0.1421 - accuracy: 0.9407 - val_loss: 3.1711 - val_accuracy: 0.5424\n",
      "Epoch 227/500\n",
      "8/8 [==============================] - 0s 6ms/step - loss: 0.1314 - accuracy: 0.9492 - val_loss: 3.1996 - val_accuracy: 0.5424\n",
      "Epoch 228/500\n",
      "8/8 [==============================] - 0s 6ms/step - loss: 0.1297 - accuracy: 0.9449 - val_loss: 3.1636 - val_accuracy: 0.5593\n",
      "Epoch 229/500\n",
      "8/8 [==============================] - 0s 6ms/step - loss: 0.1109 - accuracy: 0.9534 - val_loss: 3.1473 - val_accuracy: 0.5932\n",
      "Epoch 230/500\n",
      "8/8 [==============================] - 0s 7ms/step - loss: 0.1339 - accuracy: 0.9364 - val_loss: 3.0687 - val_accuracy: 0.5932\n",
      "Epoch 231/500\n",
      "8/8 [==============================] - 0s 7ms/step - loss: 0.1240 - accuracy: 0.9534 - val_loss: 3.0976 - val_accuracy: 0.5424\n",
      "Epoch 232/500\n",
      "8/8 [==============================] - 0s 6ms/step - loss: 0.1014 - accuracy: 0.9619 - val_loss: 3.1640 - val_accuracy: 0.5593\n",
      "Epoch 233/500\n",
      "8/8 [==============================] - 0s 5ms/step - loss: 0.1242 - accuracy: 0.9449 - val_loss: 3.2098 - val_accuracy: 0.5593\n",
      "Epoch 234/500\n",
      "8/8 [==============================] - 0s 6ms/step - loss: 0.1042 - accuracy: 0.9576 - val_loss: 3.2015 - val_accuracy: 0.5593\n",
      "Epoch 235/500\n",
      "8/8 [==============================] - 0s 7ms/step - loss: 0.1014 - accuracy: 0.9534 - val_loss: 3.1540 - val_accuracy: 0.5932\n",
      "Epoch 236/500\n",
      "8/8 [==============================] - 0s 6ms/step - loss: 0.1027 - accuracy: 0.9492 - val_loss: 3.1494 - val_accuracy: 0.5763\n",
      "Epoch 237/500\n",
      "8/8 [==============================] - 0s 6ms/step - loss: 0.0984 - accuracy: 0.9619 - val_loss: 3.1491 - val_accuracy: 0.5593\n",
      "Epoch 238/500\n",
      "8/8 [==============================] - 0s 7ms/step - loss: 0.1042 - accuracy: 0.9619 - val_loss: 3.1185 - val_accuracy: 0.5763\n",
      "Epoch 239/500\n",
      "8/8 [==============================] - 0s 9ms/step - loss: 0.0922 - accuracy: 0.9703 - val_loss: 3.2051 - val_accuracy: 0.5763\n",
      "Epoch 240/500\n",
      "8/8 [==============================] - 0s 7ms/step - loss: 0.0926 - accuracy: 0.9661 - val_loss: 3.2169 - val_accuracy: 0.5593\n",
      "Epoch 241/500\n",
      "8/8 [==============================] - 0s 7ms/step - loss: 0.0955 - accuracy: 0.9534 - val_loss: 3.2192 - val_accuracy: 0.5593\n",
      "Epoch 242/500\n",
      "8/8 [==============================] - 0s 7ms/step - loss: 0.0936 - accuracy: 0.9576 - val_loss: 3.2322 - val_accuracy: 0.5763\n",
      "Epoch 243/500\n",
      "8/8 [==============================] - 0s 5ms/step - loss: 0.0982 - accuracy: 0.9534 - val_loss: 3.2168 - val_accuracy: 0.5763\n",
      "Epoch 244/500\n",
      "8/8 [==============================] - 0s 5ms/step - loss: 0.0916 - accuracy: 0.9619 - val_loss: 3.2281 - val_accuracy: 0.5763\n",
      "Epoch 245/500\n",
      "8/8 [==============================] - 0s 7ms/step - loss: 0.0934 - accuracy: 0.9661 - val_loss: 3.2756 - val_accuracy: 0.5763\n",
      "Epoch 246/500\n",
      "8/8 [==============================] - 0s 7ms/step - loss: 0.0914 - accuracy: 0.9576 - val_loss: 3.2728 - val_accuracy: 0.5593\n",
      "Epoch 247/500\n",
      "8/8 [==============================] - 0s 7ms/step - loss: 0.0944 - accuracy: 0.9619 - val_loss: 3.2730 - val_accuracy: 0.5593\n",
      "Epoch 248/500\n",
      "8/8 [==============================] - 0s 7ms/step - loss: 0.0923 - accuracy: 0.9576 - val_loss: 3.2786 - val_accuracy: 0.5593\n",
      "Epoch 249/500\n",
      "8/8 [==============================] - 0s 7ms/step - loss: 0.0943 - accuracy: 0.9576 - val_loss: 3.2783 - val_accuracy: 0.5593\n",
      "Epoch 250/500\n",
      "8/8 [==============================] - 0s 5ms/step - loss: 0.0997 - accuracy: 0.9576 - val_loss: 3.3420 - val_accuracy: 0.5593\n",
      "Epoch 251/500\n",
      "8/8 [==============================] - 0s 5ms/step - loss: 0.0970 - accuracy: 0.9576 - val_loss: 3.2724 - val_accuracy: 0.5593\n",
      "Epoch 252/500\n",
      "8/8 [==============================] - 0s 7ms/step - loss: 0.0962 - accuracy: 0.9619 - val_loss: 3.3002 - val_accuracy: 0.5593\n",
      "Epoch 253/500\n",
      "8/8 [==============================] - 0s 7ms/step - loss: 0.0973 - accuracy: 0.9576 - val_loss: 3.3195 - val_accuracy: 0.5932\n",
      "Epoch 254/500\n",
      "8/8 [==============================] - 0s 7ms/step - loss: 0.0904 - accuracy: 0.9703 - val_loss: 3.3399 - val_accuracy: 0.5593\n",
      "Epoch 255/500\n",
      "8/8 [==============================] - 0s 7ms/step - loss: 0.0992 - accuracy: 0.9534 - val_loss: 3.3320 - val_accuracy: 0.5424\n",
      "Epoch 256/500\n",
      "8/8 [==============================] - 0s 9ms/step - loss: 0.1209 - accuracy: 0.9576 - val_loss: 3.3855 - val_accuracy: 0.5593\n",
      "Epoch 257/500\n",
      "8/8 [==============================] - 0s 8ms/step - loss: 0.1074 - accuracy: 0.9534 - val_loss: 3.2397 - val_accuracy: 0.5593\n",
      "Epoch 258/500\n",
      "8/8 [==============================] - 0s 6ms/step - loss: 0.1016 - accuracy: 0.9492 - val_loss: 3.2168 - val_accuracy: 0.5593\n",
      "Epoch 259/500\n",
      "8/8 [==============================] - 0s 6ms/step - loss: 0.0925 - accuracy: 0.9576 - val_loss: 3.3650 - val_accuracy: 0.5763\n",
      "Epoch 260/500\n",
      "8/8 [==============================] - 0s 6ms/step - loss: 0.1069 - accuracy: 0.9619 - val_loss: 3.4411 - val_accuracy: 0.5424\n",
      "Epoch 261/500\n",
      "8/8 [==============================] - 0s 9ms/step - loss: 0.1077 - accuracy: 0.9534 - val_loss: 3.3332 - val_accuracy: 0.5593\n",
      "Epoch 262/500\n",
      "8/8 [==============================] - 0s 8ms/step - loss: 0.1039 - accuracy: 0.9534 - val_loss: 3.2741 - val_accuracy: 0.5593\n",
      "Epoch 263/500\n",
      "8/8 [==============================] - 0s 6ms/step - loss: 0.0962 - accuracy: 0.9619 - val_loss: 3.3316 - val_accuracy: 0.5763\n",
      "Epoch 264/500\n",
      "8/8 [==============================] - 0s 7ms/step - loss: 0.0911 - accuracy: 0.9619 - val_loss: 3.3695 - val_accuracy: 0.5424\n",
      "Epoch 265/500\n",
      "8/8 [==============================] - 0s 8ms/step - loss: 0.0872 - accuracy: 0.9661 - val_loss: 3.3396 - val_accuracy: 0.5593\n",
      "Epoch 266/500\n",
      "8/8 [==============================] - 0s 6ms/step - loss: 0.0921 - accuracy: 0.9576 - val_loss: 3.3339 - val_accuracy: 0.5593\n",
      "Epoch 267/500\n",
      "8/8 [==============================] - 0s 7ms/step - loss: 0.1050 - accuracy: 0.9661 - val_loss: 3.4134 - val_accuracy: 0.5763\n",
      "Epoch 268/500\n",
      "8/8 [==============================] - 0s 7ms/step - loss: 0.1024 - accuracy: 0.9576 - val_loss: 3.3228 - val_accuracy: 0.5763\n",
      "Epoch 269/500\n",
      "8/8 [==============================] - 0s 7ms/step - loss: 0.0949 - accuracy: 0.9534 - val_loss: 3.2844 - val_accuracy: 0.5593\n",
      "Epoch 270/500\n",
      "8/8 [==============================] - 0s 6ms/step - loss: 0.1003 - accuracy: 0.9534 - val_loss: 3.3078 - val_accuracy: 0.5763\n",
      "Epoch 271/500\n",
      "8/8 [==============================] - 0s 7ms/step - loss: 0.0855 - accuracy: 0.9661 - val_loss: 3.4061 - val_accuracy: 0.5763\n",
      "Epoch 272/500\n",
      "8/8 [==============================] - 0s 6ms/step - loss: 0.1106 - accuracy: 0.9576 - val_loss: 3.3902 - val_accuracy: 0.5763\n",
      "Epoch 273/500\n",
      "8/8 [==============================] - 0s 7ms/step - loss: 0.1322 - accuracy: 0.9534 - val_loss: 3.2673 - val_accuracy: 0.5593\n",
      "Epoch 274/500\n",
      "8/8 [==============================] - 0s 7ms/step - loss: 0.1206 - accuracy: 0.9492 - val_loss: 3.4000 - val_accuracy: 0.5424\n",
      "Epoch 275/500\n",
      "8/8 [==============================] - 0s 6ms/step - loss: 0.0940 - accuracy: 0.9619 - val_loss: 3.4668 - val_accuracy: 0.5763\n",
      "Epoch 276/500\n",
      "8/8 [==============================] - 0s 7ms/step - loss: 0.1020 - accuracy: 0.9576 - val_loss: 3.3573 - val_accuracy: 0.5763\n",
      "Epoch 277/500\n",
      "8/8 [==============================] - 0s 7ms/step - loss: 0.1185 - accuracy: 0.9576 - val_loss: 3.3517 - val_accuracy: 0.5424\n",
      "Epoch 278/500\n",
      "8/8 [==============================] - 0s 8ms/step - loss: 0.1460 - accuracy: 0.9449 - val_loss: 3.2549 - val_accuracy: 0.5763\n",
      "Epoch 279/500\n",
      "8/8 [==============================] - 0s 8ms/step - loss: 0.1280 - accuracy: 0.9449 - val_loss: 3.4461 - val_accuracy: 0.5424\n",
      "Epoch 280/500\n",
      "8/8 [==============================] - 0s 6ms/step - loss: 0.1210 - accuracy: 0.9534 - val_loss: 3.4171 - val_accuracy: 0.5593\n",
      "Epoch 281/500\n",
      "8/8 [==============================] - 0s 8ms/step - loss: 0.0922 - accuracy: 0.9576 - val_loss: 3.3693 - val_accuracy: 0.5763\n",
      "Epoch 282/500\n",
      "8/8 [==============================] - 0s 7ms/step - loss: 0.0939 - accuracy: 0.9703 - val_loss: 3.3281 - val_accuracy: 0.5593\n",
      "Epoch 283/500\n",
      "8/8 [==============================] - 0s 7ms/step - loss: 0.0965 - accuracy: 0.9576 - val_loss: 3.3287 - val_accuracy: 0.5763\n",
      "Epoch 284/500\n",
      "8/8 [==============================] - 0s 11ms/step - loss: 0.1201 - accuracy: 0.9534 - val_loss: 3.4008 - val_accuracy: 0.5424\n",
      "Epoch 285/500\n",
      "8/8 [==============================] - 0s 9ms/step - loss: 0.1125 - accuracy: 0.9619 - val_loss: 3.4601 - val_accuracy: 0.5763\n",
      "Epoch 286/500\n",
      "8/8 [==============================] - 0s 6ms/step - loss: 0.1037 - accuracy: 0.9619 - val_loss: 3.5677 - val_accuracy: 0.5932\n",
      "Epoch 287/500\n",
      "8/8 [==============================] - 0s 7ms/step - loss: 0.0971 - accuracy: 0.9661 - val_loss: 3.4850 - val_accuracy: 0.5932\n",
      "Epoch 288/500\n",
      "8/8 [==============================] - 0s 6ms/step - loss: 0.0882 - accuracy: 0.9619 - val_loss: 3.4967 - val_accuracy: 0.5932\n",
      "Epoch 289/500\n",
      "8/8 [==============================] - 0s 6ms/step - loss: 0.0886 - accuracy: 0.9703 - val_loss: 3.5253 - val_accuracy: 0.5593\n",
      "Epoch 290/500\n",
      "8/8 [==============================] - 0s 6ms/step - loss: 0.0863 - accuracy: 0.9619 - val_loss: 3.5307 - val_accuracy: 0.5932\n",
      "Epoch 291/500\n",
      "8/8 [==============================] - 0s 7ms/step - loss: 0.0836 - accuracy: 0.9703 - val_loss: 3.5190 - val_accuracy: 0.5763\n",
      "Epoch 292/500\n",
      "8/8 [==============================] - 0s 6ms/step - loss: 0.0915 - accuracy: 0.9576 - val_loss: 3.5453 - val_accuracy: 0.5763\n",
      "Epoch 293/500\n",
      "8/8 [==============================] - 0s 7ms/step - loss: 0.0823 - accuracy: 0.9703 - val_loss: 3.5116 - val_accuracy: 0.5763\n",
      "Epoch 294/500\n",
      "8/8 [==============================] - 0s 6ms/step - loss: 0.1324 - accuracy: 0.9492 - val_loss: 3.5481 - val_accuracy: 0.5763\n",
      "Epoch 295/500\n",
      "8/8 [==============================] - 0s 7ms/step - loss: 0.1069 - accuracy: 0.9661 - val_loss: 3.6923 - val_accuracy: 0.5932\n",
      "Epoch 296/500\n",
      "8/8 [==============================] - 0s 7ms/step - loss: 0.1208 - accuracy: 0.9619 - val_loss: 3.6010 - val_accuracy: 0.5763\n",
      "Epoch 297/500\n",
      "8/8 [==============================] - 0s 6ms/step - loss: 0.1123 - accuracy: 0.9619 - val_loss: 3.5118 - val_accuracy: 0.5593\n",
      "Epoch 298/500\n",
      "8/8 [==============================] - 0s 6ms/step - loss: 0.0996 - accuracy: 0.9619 - val_loss: 3.4960 - val_accuracy: 0.5763\n",
      "Epoch 299/500\n",
      "8/8 [==============================] - 0s 6ms/step - loss: 0.0917 - accuracy: 0.9619 - val_loss: 3.4603 - val_accuracy: 0.5763\n",
      "Epoch 300/500\n",
      "8/8 [==============================] - 0s 6ms/step - loss: 0.0874 - accuracy: 0.9619 - val_loss: 3.4846 - val_accuracy: 0.5593\n",
      "Epoch 301/500\n",
      "8/8 [==============================] - 0s 6ms/step - loss: 0.0912 - accuracy: 0.9619 - val_loss: 3.4753 - val_accuracy: 0.5763\n",
      "Epoch 302/500\n",
      "8/8 [==============================] - 0s 7ms/step - loss: 0.0861 - accuracy: 0.9661 - val_loss: 3.5184 - val_accuracy: 0.5593\n",
      "Epoch 303/500\n",
      "8/8 [==============================] - 0s 5ms/step - loss: 0.0884 - accuracy: 0.9576 - val_loss: 3.5612 - val_accuracy: 0.5593\n",
      "Epoch 304/500\n",
      "8/8 [==============================] - 0s 7ms/step - loss: 0.0831 - accuracy: 0.9619 - val_loss: 3.5230 - val_accuracy: 0.5593\n",
      "Epoch 305/500\n",
      "8/8 [==============================] - 0s 7ms/step - loss: 0.0906 - accuracy: 0.9576 - val_loss: 3.5224 - val_accuracy: 0.5593\n",
      "Epoch 306/500\n",
      "8/8 [==============================] - 0s 6ms/step - loss: 0.0831 - accuracy: 0.9703 - val_loss: 3.5357 - val_accuracy: 0.5763\n",
      "Epoch 307/500\n",
      "8/8 [==============================] - 0s 7ms/step - loss: 0.1119 - accuracy: 0.9449 - val_loss: 3.5391 - val_accuracy: 0.5424\n",
      "Epoch 308/500\n",
      "8/8 [==============================] - 0s 7ms/step - loss: 0.0824 - accuracy: 0.9703 - val_loss: 3.5451 - val_accuracy: 0.5593\n",
      "Epoch 309/500\n",
      "8/8 [==============================] - 0s 5ms/step - loss: 0.0927 - accuracy: 0.9619 - val_loss: 3.5110 - val_accuracy: 0.5763\n",
      "Epoch 310/500\n",
      "8/8 [==============================] - 0s 5ms/step - loss: 0.0837 - accuracy: 0.9619 - val_loss: 3.5188 - val_accuracy: 0.5763\n",
      "Epoch 311/500\n",
      "8/8 [==============================] - 0s 7ms/step - loss: 0.0926 - accuracy: 0.9576 - val_loss: 3.5345 - val_accuracy: 0.5763\n",
      "Epoch 312/500\n",
      "8/8 [==============================] - 0s 7ms/step - loss: 0.0837 - accuracy: 0.9619 - val_loss: 3.4936 - val_accuracy: 0.5763\n",
      "Epoch 313/500\n",
      "8/8 [==============================] - 0s 5ms/step - loss: 0.0750 - accuracy: 0.9703 - val_loss: 3.5341 - val_accuracy: 0.5424\n",
      "Epoch 314/500\n",
      "8/8 [==============================] - 0s 5ms/step - loss: 0.0889 - accuracy: 0.9703 - val_loss: 3.5679 - val_accuracy: 0.5593\n",
      "Epoch 315/500\n",
      "8/8 [==============================] - 0s 5ms/step - loss: 0.0852 - accuracy: 0.9619 - val_loss: 3.6305 - val_accuracy: 0.5593\n",
      "Epoch 316/500\n",
      "8/8 [==============================] - 0s 8ms/step - loss: 0.0838 - accuracy: 0.9661 - val_loss: 3.5826 - val_accuracy: 0.5593\n",
      "Epoch 317/500\n",
      "8/8 [==============================] - 0s 6ms/step - loss: 0.0901 - accuracy: 0.9661 - val_loss: 3.5548 - val_accuracy: 0.5763\n",
      "Epoch 318/500\n",
      "8/8 [==============================] - 0s 7ms/step - loss: 0.0817 - accuracy: 0.9619 - val_loss: 3.5630 - val_accuracy: 0.5763\n",
      "Epoch 319/500\n",
      "8/8 [==============================] - 0s 6ms/step - loss: 0.0791 - accuracy: 0.9703 - val_loss: 3.6005 - val_accuracy: 0.5763\n",
      "Epoch 320/500\n",
      "8/8 [==============================] - 0s 5ms/step - loss: 0.0871 - accuracy: 0.9703 - val_loss: 3.5834 - val_accuracy: 0.5593\n",
      "Epoch 321/500\n",
      "8/8 [==============================] - 0s 6ms/step - loss: 0.0876 - accuracy: 0.9619 - val_loss: 3.6528 - val_accuracy: 0.5593\n",
      "Epoch 322/500\n",
      "8/8 [==============================] - 0s 6ms/step - loss: 0.0932 - accuracy: 0.9619 - val_loss: 3.6672 - val_accuracy: 0.5763\n",
      "Epoch 323/500\n",
      "8/8 [==============================] - 0s 6ms/step - loss: 0.0954 - accuracy: 0.9619 - val_loss: 3.5938 - val_accuracy: 0.5593\n",
      "Epoch 324/500\n",
      "8/8 [==============================] - 0s 6ms/step - loss: 0.0854 - accuracy: 0.9619 - val_loss: 3.5377 - val_accuracy: 0.5763\n",
      "Epoch 325/500\n",
      "8/8 [==============================] - 0s 5ms/step - loss: 0.0790 - accuracy: 0.9703 - val_loss: 3.5496 - val_accuracy: 0.5763\n",
      "Epoch 326/500\n",
      "8/8 [==============================] - 0s 9ms/step - loss: 0.0782 - accuracy: 0.9703 - val_loss: 3.5878 - val_accuracy: 0.5763\n",
      "Epoch 327/500\n",
      "8/8 [==============================] - 0s 6ms/step - loss: 0.0856 - accuracy: 0.9661 - val_loss: 3.5987 - val_accuracy: 0.5763\n",
      "Epoch 328/500\n",
      "8/8 [==============================] - 0s 7ms/step - loss: 0.0807 - accuracy: 0.9661 - val_loss: 3.6104 - val_accuracy: 0.5763\n",
      "Epoch 329/500\n",
      "8/8 [==============================] - 0s 6ms/step - loss: 0.0868 - accuracy: 0.9619 - val_loss: 3.6326 - val_accuracy: 0.5932\n",
      "Epoch 330/500\n",
      "8/8 [==============================] - 0s 6ms/step - loss: 0.0812 - accuracy: 0.9661 - val_loss: 3.6407 - val_accuracy: 0.5763\n",
      "Epoch 331/500\n",
      "8/8 [==============================] - 0s 5ms/step - loss: 0.0920 - accuracy: 0.9703 - val_loss: 3.6150 - val_accuracy: 0.5593\n",
      "Epoch 332/500\n",
      "8/8 [==============================] - 0s 6ms/step - loss: 0.0948 - accuracy: 0.9703 - val_loss: 3.6374 - val_accuracy: 0.5593\n",
      "Epoch 333/500\n",
      "8/8 [==============================] - 0s 9ms/step - loss: 0.0861 - accuracy: 0.9661 - val_loss: 3.6623 - val_accuracy: 0.5424\n",
      "Epoch 334/500\n",
      "8/8 [==============================] - 0s 6ms/step - loss: 0.0854 - accuracy: 0.9661 - val_loss: 3.6847 - val_accuracy: 0.5593\n",
      "Epoch 335/500\n",
      "8/8 [==============================] - 0s 6ms/step - loss: 0.0818 - accuracy: 0.9661 - val_loss: 3.6116 - val_accuracy: 0.5593\n",
      "Epoch 336/500\n",
      "8/8 [==============================] - 0s 6ms/step - loss: 0.0928 - accuracy: 0.9492 - val_loss: 3.6483 - val_accuracy: 0.5424\n",
      "Epoch 337/500\n",
      "8/8 [==============================] - 0s 6ms/step - loss: 0.0851 - accuracy: 0.9576 - val_loss: 3.6968 - val_accuracy: 0.5763\n",
      "Epoch 338/500\n",
      "8/8 [==============================] - 0s 5ms/step - loss: 0.0913 - accuracy: 0.9619 - val_loss: 3.6664 - val_accuracy: 0.5763\n",
      "Epoch 339/500\n",
      "8/8 [==============================] - 0s 7ms/step - loss: 0.1311 - accuracy: 0.9534 - val_loss: 3.7098 - val_accuracy: 0.5932\n",
      "Epoch 340/500\n",
      "8/8 [==============================] - 0s 8ms/step - loss: 0.0890 - accuracy: 0.9619 - val_loss: 3.5564 - val_accuracy: 0.5424\n",
      "Epoch 341/500\n",
      "8/8 [==============================] - 0s 7ms/step - loss: 0.0916 - accuracy: 0.9619 - val_loss: 3.5289 - val_accuracy: 0.5763\n",
      "Epoch 342/500\n",
      "8/8 [==============================] - 0s 7ms/step - loss: 0.0944 - accuracy: 0.9576 - val_loss: 3.6905 - val_accuracy: 0.5593\n",
      "Epoch 343/500\n",
      "8/8 [==============================] - 0s 6ms/step - loss: 0.0842 - accuracy: 0.9661 - val_loss: 3.8365 - val_accuracy: 0.5593\n",
      "Epoch 344/500\n",
      "8/8 [==============================] - 0s 6ms/step - loss: 0.1338 - accuracy: 0.9661 - val_loss: 3.6558 - val_accuracy: 0.5932\n",
      "Epoch 345/500\n",
      "8/8 [==============================] - 0s 5ms/step - loss: 0.0821 - accuracy: 0.9661 - val_loss: 3.5488 - val_accuracy: 0.5763\n",
      "Epoch 346/500\n",
      "8/8 [==============================] - 0s 9ms/step - loss: 0.0813 - accuracy: 0.9703 - val_loss: 3.5401 - val_accuracy: 0.5593\n",
      "Epoch 347/500\n",
      "8/8 [==============================] - 0s 6ms/step - loss: 0.0790 - accuracy: 0.9746 - val_loss: 3.5876 - val_accuracy: 0.5763\n",
      "Epoch 348/500\n",
      "8/8 [==============================] - 0s 6ms/step - loss: 0.0810 - accuracy: 0.9661 - val_loss: 3.6097 - val_accuracy: 0.5593\n",
      "Epoch 349/500\n",
      "8/8 [==============================] - 0s 7ms/step - loss: 0.0820 - accuracy: 0.9703 - val_loss: 3.6345 - val_accuracy: 0.5763\n",
      "Epoch 350/500\n",
      "8/8 [==============================] - 0s 6ms/step - loss: 0.0832 - accuracy: 0.9619 - val_loss: 3.6420 - val_accuracy: 0.5763\n",
      "Epoch 351/500\n",
      "8/8 [==============================] - 0s 6ms/step - loss: 0.0850 - accuracy: 0.9619 - val_loss: 3.6101 - val_accuracy: 0.5593\n",
      "Epoch 352/500\n",
      "8/8 [==============================] - 0s 6ms/step - loss: 0.0836 - accuracy: 0.9661 - val_loss: 3.6035 - val_accuracy: 0.5763\n",
      "Epoch 353/500\n",
      "8/8 [==============================] - 0s 6ms/step - loss: 0.0821 - accuracy: 0.9661 - val_loss: 3.6532 - val_accuracy: 0.5763\n",
      "Epoch 354/500\n",
      "8/8 [==============================] - 0s 7ms/step - loss: 0.0816 - accuracy: 0.9703 - val_loss: 3.7205 - val_accuracy: 0.5593\n",
      "Epoch 355/500\n",
      "8/8 [==============================] - 0s 8ms/step - loss: 0.0844 - accuracy: 0.9661 - val_loss: 3.7375 - val_accuracy: 0.5593\n",
      "Epoch 356/500\n",
      "8/8 [==============================] - 0s 6ms/step - loss: 0.1259 - accuracy: 0.9576 - val_loss: 3.6295 - val_accuracy: 0.5085\n",
      "Epoch 357/500\n",
      "8/8 [==============================] - 0s 7ms/step - loss: 0.0969 - accuracy: 0.9619 - val_loss: 3.6922 - val_accuracy: 0.5254\n",
      "Epoch 358/500\n",
      "8/8 [==============================] - 0s 6ms/step - loss: 0.1060 - accuracy: 0.9619 - val_loss: 3.6992 - val_accuracy: 0.5932\n",
      "Epoch 359/500\n",
      "8/8 [==============================] - 0s 7ms/step - loss: 0.0928 - accuracy: 0.9576 - val_loss: 3.6559 - val_accuracy: 0.5593\n",
      "Epoch 360/500\n",
      "8/8 [==============================] - 0s 7ms/step - loss: 0.0981 - accuracy: 0.9576 - val_loss: 3.6451 - val_accuracy: 0.5593\n",
      "Epoch 361/500\n",
      "8/8 [==============================] - 0s 7ms/step - loss: 0.0879 - accuracy: 0.9703 - val_loss: 3.6610 - val_accuracy: 0.5424\n",
      "Epoch 362/500\n",
      "8/8 [==============================] - 0s 5ms/step - loss: 0.0797 - accuracy: 0.9703 - val_loss: 3.6520 - val_accuracy: 0.5593\n",
      "Epoch 363/500\n",
      "8/8 [==============================] - 0s 6ms/step - loss: 0.0852 - accuracy: 0.9619 - val_loss: 3.6580 - val_accuracy: 0.5593\n",
      "Epoch 364/500\n",
      "8/8 [==============================] - 0s 5ms/step - loss: 0.0830 - accuracy: 0.9619 - val_loss: 3.7735 - val_accuracy: 0.5593\n",
      "Epoch 365/500\n",
      "8/8 [==============================] - 0s 6ms/step - loss: 0.0918 - accuracy: 0.9661 - val_loss: 3.7122 - val_accuracy: 0.5593\n",
      "Epoch 366/500\n",
      "8/8 [==============================] - 0s 6ms/step - loss: 0.0748 - accuracy: 0.9703 - val_loss: 3.6931 - val_accuracy: 0.5593\n",
      "Epoch 367/500\n",
      "8/8 [==============================] - 0s 6ms/step - loss: 0.0801 - accuracy: 0.9746 - val_loss: 3.6946 - val_accuracy: 0.5593\n",
      "Epoch 368/500\n",
      "8/8 [==============================] - 0s 7ms/step - loss: 0.0810 - accuracy: 0.9661 - val_loss: 3.6917 - val_accuracy: 0.5593\n",
      "Epoch 369/500\n",
      "8/8 [==============================] - 0s 8ms/step - loss: 0.0755 - accuracy: 0.9703 - val_loss: 3.7191 - val_accuracy: 0.5593\n",
      "Epoch 370/500\n",
      "8/8 [==============================] - 0s 7ms/step - loss: 0.0761 - accuracy: 0.9619 - val_loss: 3.7053 - val_accuracy: 0.5424\n",
      "Epoch 371/500\n",
      "8/8 [==============================] - 0s 5ms/step - loss: 0.0801 - accuracy: 0.9619 - val_loss: 3.6936 - val_accuracy: 0.5593\n",
      "Epoch 372/500\n",
      "8/8 [==============================] - 0s 6ms/step - loss: 0.0728 - accuracy: 0.9703 - val_loss: 3.7127 - val_accuracy: 0.5593\n",
      "Epoch 373/500\n",
      "8/8 [==============================] - 0s 5ms/step - loss: 0.0792 - accuracy: 0.9661 - val_loss: 3.7361 - val_accuracy: 0.5593\n",
      "Epoch 374/500\n",
      "8/8 [==============================] - 0s 7ms/step - loss: 0.0804 - accuracy: 0.9661 - val_loss: 3.6926 - val_accuracy: 0.5763\n",
      "Epoch 375/500\n",
      "8/8 [==============================] - 0s 6ms/step - loss: 0.0754 - accuracy: 0.9703 - val_loss: 3.7416 - val_accuracy: 0.5254\n",
      "Epoch 376/500\n",
      "8/8 [==============================] - 0s 6ms/step - loss: 0.0786 - accuracy: 0.9703 - val_loss: 3.7496 - val_accuracy: 0.5424\n",
      "Epoch 377/500\n",
      "8/8 [==============================] - 0s 7ms/step - loss: 0.0773 - accuracy: 0.9576 - val_loss: 3.7401 - val_accuracy: 0.5593\n",
      "Epoch 378/500\n",
      "8/8 [==============================] - 0s 5ms/step - loss: 0.0776 - accuracy: 0.9703 - val_loss: 3.7125 - val_accuracy: 0.5593\n",
      "Epoch 379/500\n",
      "8/8 [==============================] - 0s 6ms/step - loss: 0.0783 - accuracy: 0.9703 - val_loss: 3.7873 - val_accuracy: 0.5593\n",
      "Epoch 380/500\n",
      "8/8 [==============================] - 0s 6ms/step - loss: 0.0892 - accuracy: 0.9703 - val_loss: 3.7914 - val_accuracy: 0.5763\n",
      "Epoch 381/500\n",
      "8/8 [==============================] - 0s 6ms/step - loss: 0.0883 - accuracy: 0.9619 - val_loss: 3.7158 - val_accuracy: 0.5932\n",
      "Epoch 382/500\n",
      "8/8 [==============================] - 0s 7ms/step - loss: 0.0796 - accuracy: 0.9703 - val_loss: 3.7254 - val_accuracy: 0.5593\n",
      "Epoch 383/500\n",
      "8/8 [==============================] - 0s 7ms/step - loss: 0.0886 - accuracy: 0.9661 - val_loss: 3.7350 - val_accuracy: 0.5424\n",
      "Epoch 384/500\n",
      "8/8 [==============================] - 0s 7ms/step - loss: 0.0902 - accuracy: 0.9619 - val_loss: 3.7432 - val_accuracy: 0.5254\n",
      "Epoch 385/500\n",
      "8/8 [==============================] - 0s 5ms/step - loss: 0.0792 - accuracy: 0.9619 - val_loss: 3.7721 - val_accuracy: 0.5932\n",
      "Epoch 386/500\n",
      "8/8 [==============================] - 0s 5ms/step - loss: 0.0769 - accuracy: 0.9703 - val_loss: 3.8119 - val_accuracy: 0.5593\n",
      "Epoch 387/500\n",
      "8/8 [==============================] - 0s 6ms/step - loss: 0.0941 - accuracy: 0.9661 - val_loss: 3.7918 - val_accuracy: 0.5593\n",
      "Epoch 388/500\n",
      "8/8 [==============================] - 0s 6ms/step - loss: 0.0943 - accuracy: 0.9661 - val_loss: 3.7542 - val_accuracy: 0.5424\n",
      "Epoch 389/500\n",
      "8/8 [==============================] - 0s 6ms/step - loss: 0.1075 - accuracy: 0.9619 - val_loss: 3.7385 - val_accuracy: 0.5593\n",
      "Epoch 390/500\n",
      "8/8 [==============================] - 0s 6ms/step - loss: 0.0923 - accuracy: 0.9661 - val_loss: 3.8059 - val_accuracy: 0.5593\n",
      "Epoch 391/500\n",
      "8/8 [==============================] - 0s 6ms/step - loss: 0.0888 - accuracy: 0.9492 - val_loss: 3.7827 - val_accuracy: 0.5763\n",
      "Epoch 392/500\n",
      "8/8 [==============================] - 0s 6ms/step - loss: 0.0787 - accuracy: 0.9703 - val_loss: 3.8011 - val_accuracy: 0.5593\n",
      "Epoch 393/500\n",
      "8/8 [==============================] - 0s 6ms/step - loss: 0.0858 - accuracy: 0.9661 - val_loss: 3.7753 - val_accuracy: 0.5424\n",
      "Epoch 394/500\n",
      "8/8 [==============================] - 0s 6ms/step - loss: 0.0754 - accuracy: 0.9703 - val_loss: 3.8001 - val_accuracy: 0.5424\n",
      "Epoch 395/500\n",
      "8/8 [==============================] - 0s 7ms/step - loss: 0.0822 - accuracy: 0.9619 - val_loss: 3.7601 - val_accuracy: 0.5424\n",
      "Epoch 396/500\n",
      "8/8 [==============================] - 0s 9ms/step - loss: 0.0739 - accuracy: 0.9703 - val_loss: 3.7692 - val_accuracy: 0.5424\n",
      "Epoch 397/500\n",
      "8/8 [==============================] - 0s 7ms/step - loss: 0.0787 - accuracy: 0.9703 - val_loss: 3.7712 - val_accuracy: 0.5424\n",
      "Epoch 398/500\n",
      "8/8 [==============================] - 0s 6ms/step - loss: 0.0873 - accuracy: 0.9619 - val_loss: 3.8087 - val_accuracy: 0.5763\n",
      "Epoch 399/500\n",
      "8/8 [==============================] - 0s 6ms/step - loss: 0.0841 - accuracy: 0.9703 - val_loss: 3.7536 - val_accuracy: 0.5593\n",
      "Epoch 400/500\n",
      "8/8 [==============================] - 0s 6ms/step - loss: 0.0791 - accuracy: 0.9703 - val_loss: 3.7480 - val_accuracy: 0.5424\n",
      "Epoch 401/500\n",
      "8/8 [==============================] - 0s 6ms/step - loss: 0.0757 - accuracy: 0.9703 - val_loss: 3.7858 - val_accuracy: 0.5254\n",
      "Epoch 402/500\n",
      "8/8 [==============================] - 0s 5ms/step - loss: 0.0767 - accuracy: 0.9661 - val_loss: 3.7929 - val_accuracy: 0.5763\n",
      "Epoch 403/500\n",
      "8/8 [==============================] - 0s 6ms/step - loss: 0.0760 - accuracy: 0.9703 - val_loss: 3.8345 - val_accuracy: 0.5424\n",
      "Epoch 404/500\n",
      "8/8 [==============================] - 0s 5ms/step - loss: 0.0943 - accuracy: 0.9619 - val_loss: 3.8130 - val_accuracy: 0.5254\n",
      "Epoch 405/500\n",
      "8/8 [==============================] - 0s 5ms/step - loss: 0.0854 - accuracy: 0.9619 - val_loss: 3.8767 - val_accuracy: 0.5593\n",
      "Epoch 406/500\n",
      "8/8 [==============================] - 0s 6ms/step - loss: 0.0778 - accuracy: 0.9619 - val_loss: 3.8492 - val_accuracy: 0.5763\n",
      "Epoch 407/500\n",
      "8/8 [==============================] - 0s 5ms/step - loss: 0.0729 - accuracy: 0.9746 - val_loss: 3.8162 - val_accuracy: 0.5932\n",
      "Epoch 408/500\n",
      "8/8 [==============================] - 0s 5ms/step - loss: 0.0726 - accuracy: 0.9703 - val_loss: 3.7864 - val_accuracy: 0.5763\n",
      "Epoch 409/500\n",
      "8/8 [==============================] - 0s 6ms/step - loss: 0.0714 - accuracy: 0.9746 - val_loss: 3.8035 - val_accuracy: 0.5254\n",
      "Epoch 410/500\n",
      "8/8 [==============================] - 0s 9ms/step - loss: 0.0801 - accuracy: 0.9746 - val_loss: 3.8069 - val_accuracy: 0.5424\n",
      "Epoch 411/500\n",
      "8/8 [==============================] - 0s 7ms/step - loss: 0.0750 - accuracy: 0.9661 - val_loss: 3.8296 - val_accuracy: 0.5763\n",
      "Epoch 412/500\n",
      "8/8 [==============================] - 0s 6ms/step - loss: 0.0794 - accuracy: 0.9703 - val_loss: 3.8931 - val_accuracy: 0.5763\n",
      "Epoch 413/500\n",
      "8/8 [==============================] - 0s 7ms/step - loss: 0.0814 - accuracy: 0.9619 - val_loss: 3.8847 - val_accuracy: 0.5593\n",
      "Epoch 414/500\n",
      "8/8 [==============================] - 0s 6ms/step - loss: 0.0759 - accuracy: 0.9703 - val_loss: 3.8455 - val_accuracy: 0.5932\n",
      "Epoch 415/500\n",
      "8/8 [==============================] - 0s 7ms/step - loss: 0.0774 - accuracy: 0.9619 - val_loss: 3.8508 - val_accuracy: 0.5424\n",
      "Epoch 416/500\n",
      "8/8 [==============================] - 0s 5ms/step - loss: 0.0743 - accuracy: 0.9661 - val_loss: 3.8790 - val_accuracy: 0.5085\n",
      "Epoch 417/500\n",
      "8/8 [==============================] - 0s 7ms/step - loss: 0.0784 - accuracy: 0.9661 - val_loss: 3.8390 - val_accuracy: 0.5254\n",
      "Epoch 418/500\n",
      "8/8 [==============================] - 0s 7ms/step - loss: 0.0738 - accuracy: 0.9661 - val_loss: 3.8228 - val_accuracy: 0.5593\n",
      "Epoch 419/500\n",
      "8/8 [==============================] - 0s 8ms/step - loss: 0.0742 - accuracy: 0.9661 - val_loss: 3.8658 - val_accuracy: 0.5763\n",
      "Epoch 420/500\n",
      "8/8 [==============================] - 0s 6ms/step - loss: 0.0715 - accuracy: 0.9703 - val_loss: 3.8702 - val_accuracy: 0.5763\n",
      "Epoch 421/500\n",
      "8/8 [==============================] - 0s 6ms/step - loss: 0.0744 - accuracy: 0.9703 - val_loss: 3.8477 - val_accuracy: 0.5424\n",
      "Epoch 422/500\n",
      "8/8 [==============================] - 0s 7ms/step - loss: 0.0807 - accuracy: 0.9661 - val_loss: 3.8483 - val_accuracy: 0.5424\n",
      "Epoch 423/500\n",
      "8/8 [==============================] - 0s 4ms/step - loss: 0.0683 - accuracy: 0.9788 - val_loss: 3.8555 - val_accuracy: 0.5763\n",
      "Epoch 424/500\n",
      "8/8 [==============================] - 0s 10ms/step - loss: 0.0770 - accuracy: 0.9703 - val_loss: 3.8478 - val_accuracy: 0.5254\n",
      "Epoch 425/500\n",
      "8/8 [==============================] - 0s 4ms/step - loss: 0.0762 - accuracy: 0.9661 - val_loss: 3.8604 - val_accuracy: 0.5254\n",
      "Epoch 426/500\n",
      "8/8 [==============================] - 0s 5ms/step - loss: 0.0705 - accuracy: 0.9703 - val_loss: 3.8883 - val_accuracy: 0.5593\n",
      "Epoch 427/500\n",
      "8/8 [==============================] - 0s 7ms/step - loss: 0.0720 - accuracy: 0.9703 - val_loss: 3.9101 - val_accuracy: 0.5593\n",
      "Epoch 428/500\n",
      "8/8 [==============================] - 0s 7ms/step - loss: 0.0763 - accuracy: 0.9661 - val_loss: 3.8664 - val_accuracy: 0.5763\n",
      "Epoch 429/500\n",
      "8/8 [==============================] - 0s 6ms/step - loss: 0.0717 - accuracy: 0.9661 - val_loss: 3.8425 - val_accuracy: 0.5763\n",
      "Epoch 430/500\n",
      "8/8 [==============================] - 0s 5ms/step - loss: 0.0741 - accuracy: 0.9703 - val_loss: 3.8685 - val_accuracy: 0.5763\n",
      "Epoch 431/500\n",
      "8/8 [==============================] - 0s 7ms/step - loss: 0.0725 - accuracy: 0.9746 - val_loss: 3.8855 - val_accuracy: 0.5763\n",
      "Epoch 432/500\n",
      "8/8 [==============================] - 0s 7ms/step - loss: 0.0741 - accuracy: 0.9661 - val_loss: 3.9288 - val_accuracy: 0.5424\n",
      "Epoch 433/500\n",
      "8/8 [==============================] - 0s 7ms/step - loss: 0.0694 - accuracy: 0.9746 - val_loss: 3.9336 - val_accuracy: 0.5254\n",
      "Epoch 434/500\n",
      "8/8 [==============================] - 0s 5ms/step - loss: 0.0698 - accuracy: 0.9703 - val_loss: 3.9276 - val_accuracy: 0.5593\n",
      "Epoch 435/500\n",
      "8/8 [==============================] - 0s 6ms/step - loss: 0.0699 - accuracy: 0.9703 - val_loss: 3.9065 - val_accuracy: 0.5763\n",
      "Epoch 436/500\n",
      "8/8 [==============================] - 0s 7ms/step - loss: 0.0727 - accuracy: 0.9703 - val_loss: 3.9015 - val_accuracy: 0.5763\n",
      "Epoch 437/500\n",
      "8/8 [==============================] - 0s 6ms/step - loss: 0.0724 - accuracy: 0.9661 - val_loss: 3.9377 - val_accuracy: 0.5593\n",
      "Epoch 438/500\n",
      "8/8 [==============================] - 0s 6ms/step - loss: 0.0702 - accuracy: 0.9703 - val_loss: 3.9246 - val_accuracy: 0.5593\n",
      "Epoch 439/500\n",
      "8/8 [==============================] - 0s 6ms/step - loss: 0.0698 - accuracy: 0.9661 - val_loss: 3.9039 - val_accuracy: 0.5763\n",
      "Epoch 440/500\n",
      "8/8 [==============================] - 0s 6ms/step - loss: 0.0723 - accuracy: 0.9703 - val_loss: 3.8920 - val_accuracy: 0.5593\n",
      "Epoch 441/500\n",
      "8/8 [==============================] - 0s 7ms/step - loss: 0.0693 - accuracy: 0.9746 - val_loss: 3.9291 - val_accuracy: 0.5763\n",
      "Epoch 442/500\n",
      "8/8 [==============================] - 0s 7ms/step - loss: 0.0681 - accuracy: 0.9703 - val_loss: 3.9406 - val_accuracy: 0.5763\n",
      "Epoch 443/500\n",
      "8/8 [==============================] - 0s 8ms/step - loss: 0.0699 - accuracy: 0.9746 - val_loss: 3.9451 - val_accuracy: 0.5593\n",
      "Epoch 444/500\n",
      "8/8 [==============================] - 0s 6ms/step - loss: 0.0687 - accuracy: 0.9746 - val_loss: 3.9340 - val_accuracy: 0.5763\n",
      "Epoch 445/500\n",
      "8/8 [==============================] - 0s 6ms/step - loss: 0.0675 - accuracy: 0.9746 - val_loss: 3.9440 - val_accuracy: 0.5763\n",
      "Epoch 446/500\n",
      "8/8 [==============================] - 0s 7ms/step - loss: 0.0691 - accuracy: 0.9746 - val_loss: 3.9590 - val_accuracy: 0.5593\n",
      "Epoch 447/500\n",
      "8/8 [==============================] - 0s 8ms/step - loss: 0.0751 - accuracy: 0.9661 - val_loss: 3.9700 - val_accuracy: 0.5763\n",
      "Epoch 448/500\n",
      "8/8 [==============================] - 0s 6ms/step - loss: 0.0726 - accuracy: 0.9703 - val_loss: 4.0084 - val_accuracy: 0.5593\n",
      "Epoch 449/500\n",
      "8/8 [==============================] - 0s 7ms/step - loss: 0.0818 - accuracy: 0.9619 - val_loss: 3.9920 - val_accuracy: 0.5254\n",
      "Epoch 450/500\n",
      "8/8 [==============================] - 0s 9ms/step - loss: 0.0669 - accuracy: 0.9746 - val_loss: 4.0104 - val_accuracy: 0.5424\n",
      "Epoch 451/500\n",
      "8/8 [==============================] - 0s 6ms/step - loss: 0.0827 - accuracy: 0.9703 - val_loss: 3.9835 - val_accuracy: 0.5763\n",
      "Epoch 452/500\n",
      "8/8 [==============================] - 0s 7ms/step - loss: 0.0680 - accuracy: 0.9746 - val_loss: 3.9835 - val_accuracy: 0.5763\n",
      "Epoch 453/500\n",
      "8/8 [==============================] - 0s 6ms/step - loss: 0.0722 - accuracy: 0.9703 - val_loss: 3.9587 - val_accuracy: 0.5763\n",
      "Epoch 454/500\n",
      "8/8 [==============================] - 0s 5ms/step - loss: 0.0729 - accuracy: 0.9661 - val_loss: 3.9514 - val_accuracy: 0.5593\n",
      "Epoch 455/500\n",
      "8/8 [==============================] - 0s 8ms/step - loss: 0.0722 - accuracy: 0.9661 - val_loss: 3.9833 - val_accuracy: 0.5424\n",
      "Epoch 456/500\n",
      "8/8 [==============================] - 0s 6ms/step - loss: 0.0709 - accuracy: 0.9703 - val_loss: 3.9751 - val_accuracy: 0.5932\n",
      "Epoch 457/500\n",
      "8/8 [==============================] - 0s 6ms/step - loss: 0.0914 - accuracy: 0.9703 - val_loss: 3.9142 - val_accuracy: 0.5593\n",
      "Epoch 458/500\n",
      "8/8 [==============================] - 0s 5ms/step - loss: 0.0938 - accuracy: 0.9661 - val_loss: 3.9672 - val_accuracy: 0.5593\n",
      "Epoch 459/500\n",
      "8/8 [==============================] - 0s 6ms/step - loss: 0.0702 - accuracy: 0.9703 - val_loss: 4.0143 - val_accuracy: 0.5254\n",
      "Epoch 460/500\n",
      "8/8 [==============================] - 0s 6ms/step - loss: 0.0763 - accuracy: 0.9661 - val_loss: 4.0359 - val_accuracy: 0.5254\n",
      "Epoch 461/500\n",
      "8/8 [==============================] - 0s 6ms/step - loss: 0.0694 - accuracy: 0.9661 - val_loss: 4.0134 - val_accuracy: 0.5424\n",
      "Epoch 462/500\n",
      "8/8 [==============================] - 0s 6ms/step - loss: 0.0686 - accuracy: 0.9703 - val_loss: 3.9805 - val_accuracy: 0.5593\n",
      "Epoch 463/500\n",
      "8/8 [==============================] - 0s 7ms/step - loss: 0.0700 - accuracy: 0.9703 - val_loss: 3.9821 - val_accuracy: 0.5763\n",
      "Epoch 464/500\n",
      "8/8 [==============================] - 0s 7ms/step - loss: 0.0733 - accuracy: 0.9661 - val_loss: 3.9844 - val_accuracy: 0.5424\n",
      "Epoch 465/500\n",
      "8/8 [==============================] - 0s 7ms/step - loss: 0.0687 - accuracy: 0.9703 - val_loss: 3.9621 - val_accuracy: 0.5593\n",
      "Epoch 466/500\n",
      "8/8 [==============================] - 0s 6ms/step - loss: 0.0695 - accuracy: 0.9703 - val_loss: 3.9675 - val_accuracy: 0.5593\n",
      "Epoch 467/500\n",
      "8/8 [==============================] - 0s 6ms/step - loss: 0.0738 - accuracy: 0.9661 - val_loss: 3.9732 - val_accuracy: 0.5593\n",
      "Epoch 468/500\n",
      "8/8 [==============================] - 0s 5ms/step - loss: 0.0743 - accuracy: 0.9661 - val_loss: 4.0016 - val_accuracy: 0.5593\n",
      "Epoch 469/500\n",
      "8/8 [==============================] - 0s 6ms/step - loss: 0.0736 - accuracy: 0.9703 - val_loss: 4.0702 - val_accuracy: 0.5424\n",
      "Epoch 470/500\n",
      "8/8 [==============================] - 0s 6ms/step - loss: 0.0870 - accuracy: 0.9661 - val_loss: 4.0503 - val_accuracy: 0.5424\n",
      "Epoch 471/500\n",
      "8/8 [==============================] - 0s 6ms/step - loss: 0.0722 - accuracy: 0.9703 - val_loss: 4.0310 - val_accuracy: 0.5424\n",
      "Epoch 472/500\n",
      "8/8 [==============================] - 0s 6ms/step - loss: 0.0729 - accuracy: 0.9746 - val_loss: 4.0046 - val_accuracy: 0.5424\n",
      "Epoch 473/500\n",
      "8/8 [==============================] - 0s 6ms/step - loss: 0.0716 - accuracy: 0.9703 - val_loss: 4.0118 - val_accuracy: 0.5424\n",
      "Epoch 474/500\n",
      "8/8 [==============================] - 0s 6ms/step - loss: 0.0806 - accuracy: 0.9619 - val_loss: 4.0136 - val_accuracy: 0.5424\n",
      "Epoch 475/500\n",
      "8/8 [==============================] - 0s 6ms/step - loss: 0.0791 - accuracy: 0.9661 - val_loss: 3.9503 - val_accuracy: 0.5424\n",
      "Epoch 476/500\n",
      "8/8 [==============================] - 0s 7ms/step - loss: 0.0893 - accuracy: 0.9661 - val_loss: 4.0382 - val_accuracy: 0.5593\n",
      "Epoch 477/500\n",
      "8/8 [==============================] - 0s 8ms/step - loss: 0.0910 - accuracy: 0.9661 - val_loss: 3.9767 - val_accuracy: 0.5254\n",
      "Epoch 478/500\n",
      "8/8 [==============================] - 0s 7ms/step - loss: 0.0762 - accuracy: 0.9661 - val_loss: 3.9182 - val_accuracy: 0.5254\n",
      "Epoch 479/500\n",
      "8/8 [==============================] - 0s 7ms/step - loss: 0.0747 - accuracy: 0.9619 - val_loss: 3.9687 - val_accuracy: 0.5085\n",
      "Epoch 480/500\n",
      "8/8 [==============================] - 0s 7ms/step - loss: 0.0754 - accuracy: 0.9619 - val_loss: 4.0073 - val_accuracy: 0.5424\n",
      "Epoch 481/500\n",
      "8/8 [==============================] - 0s 6ms/step - loss: 0.0728 - accuracy: 0.9619 - val_loss: 3.9826 - val_accuracy: 0.5254\n",
      "Epoch 482/500\n",
      "8/8 [==============================] - 0s 6ms/step - loss: 0.0729 - accuracy: 0.9619 - val_loss: 3.9451 - val_accuracy: 0.5424\n",
      "Epoch 483/500\n",
      "8/8 [==============================] - 0s 5ms/step - loss: 0.0712 - accuracy: 0.9703 - val_loss: 3.9390 - val_accuracy: 0.5085\n",
      "Epoch 484/500\n",
      "8/8 [==============================] - 0s 6ms/step - loss: 0.0703 - accuracy: 0.9619 - val_loss: 3.9562 - val_accuracy: 0.5254\n",
      "Epoch 485/500\n",
      "8/8 [==============================] - 0s 6ms/step - loss: 0.0692 - accuracy: 0.9619 - val_loss: 3.9931 - val_accuracy: 0.5254\n",
      "Epoch 486/500\n",
      "8/8 [==============================] - 0s 6ms/step - loss: 0.0760 - accuracy: 0.9703 - val_loss: 4.0105 - val_accuracy: 0.5254\n",
      "Epoch 487/500\n",
      "8/8 [==============================] - 0s 6ms/step - loss: 0.0707 - accuracy: 0.9703 - val_loss: 3.9794 - val_accuracy: 0.5593\n",
      "Epoch 488/500\n",
      "8/8 [==============================] - 0s 7ms/step - loss: 0.0775 - accuracy: 0.9661 - val_loss: 4.0067 - val_accuracy: 0.5593\n",
      "Epoch 489/500\n",
      "8/8 [==============================] - 0s 8ms/step - loss: 0.0731 - accuracy: 0.9661 - val_loss: 3.9608 - val_accuracy: 0.5254\n",
      "Epoch 490/500\n",
      "8/8 [==============================] - 0s 6ms/step - loss: 0.0707 - accuracy: 0.9703 - val_loss: 3.9482 - val_accuracy: 0.5593\n",
      "Epoch 491/500\n",
      "8/8 [==============================] - 0s 6ms/step - loss: 0.0695 - accuracy: 0.9746 - val_loss: 3.9473 - val_accuracy: 0.5593\n",
      "Epoch 492/500\n",
      "8/8 [==============================] - 0s 7ms/step - loss: 0.0725 - accuracy: 0.9703 - val_loss: 4.0344 - val_accuracy: 0.5424\n",
      "Epoch 493/500\n",
      "8/8 [==============================] - 0s 6ms/step - loss: 0.0741 - accuracy: 0.9661 - val_loss: 4.0176 - val_accuracy: 0.5593\n",
      "Epoch 494/500\n",
      "8/8 [==============================] - 0s 5ms/step - loss: 0.0713 - accuracy: 0.9703 - val_loss: 3.9694 - val_accuracy: 0.5424\n",
      "Epoch 495/500\n",
      "8/8 [==============================] - 0s 5ms/step - loss: 0.1043 - accuracy: 0.9619 - val_loss: 4.0069 - val_accuracy: 0.5593\n",
      "Epoch 496/500\n",
      "8/8 [==============================] - 0s 5ms/step - loss: 0.0742 - accuracy: 0.9661 - val_loss: 4.0071 - val_accuracy: 0.5763\n",
      "Epoch 497/500\n",
      "8/8 [==============================] - 0s 6ms/step - loss: 0.0726 - accuracy: 0.9619 - val_loss: 3.9962 - val_accuracy: 0.5424\n",
      "Epoch 498/500\n",
      "8/8 [==============================] - 0s 5ms/step - loss: 0.0676 - accuracy: 0.9746 - val_loss: 3.9970 - val_accuracy: 0.5424\n",
      "Epoch 499/500\n",
      "8/8 [==============================] - 0s 6ms/step - loss: 0.0743 - accuracy: 0.9703 - val_loss: 3.9942 - val_accuracy: 0.5254\n",
      "Epoch 500/500\n",
      "8/8 [==============================] - 0s 5ms/step - loss: 0.0737 - accuracy: 0.9661 - val_loss: 4.0086 - val_accuracy: 0.5593\n"
     ]
    }
   ],
   "source": [
    "history = model.fit(X_train,y_train,epochs=500,validation_split=0.2)"
   ]
  },
  {
   "cell_type": "code",
   "execution_count": 444,
   "id": "61fbabe9-be19-4e47-b3b0-ed58c61f894f",
   "metadata": {},
   "outputs": [
    {
     "name": "stdout",
     "output_type": "stream",
     "text": [
      "3/3 [==============================] - 0s 2ms/step\n"
     ]
    }
   ],
   "source": [
    "y_prob = model.predict(X_test)"
   ]
  },
  {
   "cell_type": "code",
   "execution_count": 445,
   "id": "6c1cbcf6-bb37-4dd9-9990-984e2d1993fd",
   "metadata": {},
   "outputs": [
    {
     "data": {
      "text/plain": [
       "74"
      ]
     },
     "execution_count": 445,
     "metadata": {},
     "output_type": "execute_result"
    }
   ],
   "source": [
    "len(y_prob)"
   ]
  },
  {
   "cell_type": "code",
   "execution_count": 446,
   "id": "57ec16ac-ace7-4ee2-aebb-cae735802ab5",
   "metadata": {},
   "outputs": [],
   "source": [
    "y_pred = y_prob.argmax(axis=1)"
   ]
  },
  {
   "cell_type": "code",
   "execution_count": 447,
   "id": "a746da67-fa33-4af7-8604-3c20a303526a",
   "metadata": {},
   "outputs": [
    {
     "data": {
      "text/plain": [
       "0.47297297297297297"
      ]
     },
     "execution_count": 447,
     "metadata": {},
     "output_type": "execute_result"
    }
   ],
   "source": [
    "from sklearn.metrics import accuracy_score\n",
    "accuracy_score(y_test,y_pred)"
   ]
  },
  {
   "cell_type": "code",
   "execution_count": 448,
   "id": "b6c37cb2-08bd-433d-a0b2-4198488abacf",
   "metadata": {},
   "outputs": [
    {
     "data": {
      "text/plain": [
       "[<matplotlib.lines.Line2D at 0x24efd9f1650>]"
      ]
     },
     "execution_count": 448,
     "metadata": {},
     "output_type": "execute_result"
    },
    {
     "data": {
      "image/png": "[encoded data removed]",
      "text/plain": [
       "<Figure size 640x480 with 1 Axes>"
      ]
     },
     "metadata": {},
     "output_type": "display_data"
    }
   ],
   "source": [
    "import matplotlib.pyplot as plt\n",
    "plt.plot(history.history['loss'])\n",
    "plt.plot(history.history['val_loss'])"
   ]
  },
  {
   "cell_type": "code",
   "execution_count": 449,
   "id": "4f19870a-d7cc-4df2-aeea-42591bb92594",
   "metadata": {},
   "outputs": [
    {
     "data": {
      "text/plain": [
       "[<matplotlib.lines.Line2D at 0x24efe847050>]"
      ]
     },
     "execution_count": 449,
     "metadata": {},
     "output_type": "execute_result"
    },
    {
     "data": {
      "image/png": "[encoded data removed]",
      "text/plain": [
       "<Figure size 640x480 with 1 Axes>"
      ]
     },
     "metadata": {},
     "output_type": "display_data"
    }
   ],
   "source": [
    "plt.plot(history.history['accuracy'])\n",
    "plt.plot(history.history['val_accuracy'])"
   ]
  },
  {
   "cell_type": "code",
   "execution_count": 485,
   "id": "371ce74c-8a1c-45b2-9d6c-538dce4165d7",
   "metadata": {},
   "outputs": [],
   "source": [
    "def chat_query(text, model):\n",
    "    # split the text and covert to word 2 vec\n",
    "    X_qry = document_to_vec(text)\n",
    "    # reshape it into tensor flow\n",
    "    # X_qry = tf.stack(X_qry)\n",
    "    # print(X_qry)\n",
    "    # send it to predict function\n",
    "    y_qry_prob = model.predict(X_qry.reshape(1,100))\n",
    "    print(y_qry_prob)\n",
    "    # convert prob into argmax\n",
    "    y_qey_pred = y_qry_prob.argmax(axis=1)\n",
    "    # print the tag value of the ypred index\n",
    "    print(y_qey_pred)\n",
    "    print(tag_encoder.classes_[y_qey_pred])\n",
    "    "
   ]
  },
  {
   "cell_type": "code",
   "execution_count": 452,
   "id": "1cd95f71-2407-493a-895a-5efe5e148fdf",
   "metadata": {},
   "outputs": [
    {
     "name": "stdout",
     "output_type": "stream",
     "text": [
      "10/10 [==============================] - 0s 1ms/step\n"
     ]
    },
    {
     "data": {
      "text/plain": [
       "array([[3.3540260e-08, 1.0776457e-06, 2.2172414e-14, ..., 1.6641652e-04,\n",
       "        1.5898982e-10, 1.7882954e-06],\n",
       "       [2.0360471e-04, 3.9858682e-05, 4.4503705e-07, ..., 1.0214697e-08,\n",
       "        1.5432251e-04, 1.6641672e-05],\n",
       "       [5.5145538e-21, 9.9913448e-01, 2.3477639e-13, ..., 3.0328032e-08,\n",
       "        2.8564429e-09, 3.7040331e-14],\n",
       "       ...,\n",
       "       [6.8811541e-12, 9.9999189e-01, 1.0455116e-14, ..., 8.0329328e-06,\n",
       "        5.9234807e-08, 9.8109394e-12],\n",
       "       [8.6261284e-01, 2.7130105e-04, 1.2103810e-03, ..., 3.9436703e-08,\n",
       "        4.0279909e-05, 6.2935976e-07],\n",
       "       [9.8863483e-16, 5.2392829e-06, 2.0082203e-08, ..., 4.0156203e-09,\n",
       "        8.8731711e-10, 1.5504501e-12]], dtype=float32)"
      ]
     },
     "execution_count": 452,
     "metadata": {},
     "output_type": "execute_result"
    }
   ],
   "source": [
    "model.predict(X_train)"
   ]
  },
  {
   "cell_type": "code",
   "execution_count": 453,
   "id": "72c26ec1-e403-4a05-a1de-ea36ca052164",
   "metadata": {},
   "outputs": [
    {
     "data": {
      "text/plain": [
       "TensorShape([295, 100])"
      ]
     },
     "execution_count": 453,
     "metadata": {},
     "output_type": "execute_result"
    }
   ],
   "source": [
    "X_train.shape"
   ]
  },
  {
   "cell_type": "code",
   "execution_count": 454,
   "id": "41623038-6e34-4116-abc9-3566073475c0",
   "metadata": {},
   "outputs": [],
   "source": [
    "X_qry = document_to_vec(\"Hello\")\n"
   ]
  },
  {
   "cell_type": "code",
   "execution_count": 456,
   "id": "927457d9-4264-47af-ae41-07335263a901",
   "metadata": {},
   "outputs": [],
   "source": [
    "X_qry = X_qry.reshape(1,100)"
   ]
  },
  {
   "cell_type": "code",
   "execution_count": 470,
   "id": "e4f6acb8-4cfd-4625-b686-28dfae22b6b4",
   "metadata": {},
   "outputs": [
    {
     "name": "stdout",
     "output_type": "stream",
     "text": [
      "1/1 [==============================] - 0s 30ms/step\n"
     ]
    }
   ],
   "source": [
    "y_qry_prob = model.predict(X_qry)"
   ]
  },
  {
   "cell_type": "code",
   "execution_count": 480,
   "id": "6ef64d2b-f61e-4f37-bc9b-ccbeb0feeded",
   "metadata": {},
   "outputs": [
    {
     "name": "stdout",
     "output_type": "stream",
     "text": [
      "1/1 [==============================] - 0s 27ms/step\n",
      "[[0.00263315 0.00934225 0.00468659 0.01686759 0.61666405 0.00239095\n",
      "  0.00463887 0.3427766 ]]\n",
      "[4]\n",
      "['signature_cocktails']\n"
     ]
    },
    {
     "data": {
      "text/plain": [
       "array(['desserts', 'hours', 'kids_menu', 'reservation',\n",
       "       'signature_cocktails', 'specials', 'specialty_coffees',\n",
       "       'sustainability'], dtype=object)"
      ]
     },
     "execution_count": 480,
     "metadata": {},
     "output_type": "execute_result"
    }
   ],
   "source": [
    "chat_query(\"Good morning\", model)\n",
    "tag_encoder.classes_"
   ]
  },
  {
   "cell_type": "code",
   "execution_count": null,
   "id": "de0934bf-29cf-49f9-bbd8-70d1f16734eb",
   "metadata": {},
   "outputs": [],
   "source": []
  },
  {
   "cell_type": "code",
   "execution_count": 465,
   "id": "2d885273-a912-454c-89a6-217121ad831c",
   "metadata": {},
   "outputs": [
    {
     "ename": "AttributeError",
     "evalue": "'numpy.ndarray' object has no attribute 'unique'",
     "output_type": "error",
     "traceback": [
      "\u001b[1;31m---------------------------------------------------------------------------\u001b[0m",
      "\u001b[1;31mAttributeError\u001b[0m                            Traceback (most recent call last)",
      "Cell \u001b[1;32mIn[465], line 1\u001b[0m\n\u001b[1;32m----> 1\u001b[0m y\u001b[38;5;241m.\u001b[39munique()\n",
      "\u001b[1;31mAttributeError\u001b[0m: 'numpy.ndarray' object has no attribute 'unique'"
     ]
    }
   ],
   "source": [
    "y.unique()"
   ]
  },
  {
   "cell_type": "code",
   "execution_count": 464,
   "id": "44ec387a-c462-4da5-a0ce-2e365db1b037",
   "metadata": {},
   "outputs": [
    {
     "data": {
      "text/plain": [
       "0            reservation\n",
       "1            reservation\n",
       "2            reservation\n",
       "3            reservation\n",
       "4            reservation\n",
       "             ...        \n",
       "373    specialty_coffees\n",
       "374    specialty_coffees\n",
       "375    specialty_coffees\n",
       "376    specialty_coffees\n",
       "377    specialty_coffees\n",
       "Name: label, Length: 369, dtype: object"
      ]
     },
     "execution_count": 464,
     "metadata": {},
     "output_type": "execute_result"
    }
   ],
   "source": [
    "y_data"
   ]
  },
  {
   "cell_type": "code",
   "execution_count": null,
   "id": "f07cbe75-6ea4-433c-b138-76b4e78c5aab",
   "metadata": {},
   "outputs": [],
   "source": []
  },
  {
   "cell_type": "code",
   "execution_count": null,
   "id": "2e131aad-cb8a-413f-8d66-cca6ce330899",
   "metadata": {},
   "outputs": [],
   "source": []
  },
  {
   "cell_type": "code",
   "execution_count": null,
   "id": "0754db02-ceef-4d22-97e1-4ca1b23f90a4",
   "metadata": {},
   "outputs": [],
   "source": []
  },
  {
   "cell_type": "code",
   "execution_count": null,
   "id": "802c3745-5fe0-435d-a869-31c611562ab2",
   "metadata": {},
   "outputs": [],
   "source": []
  },
  {
   "cell_type": "code",
   "execution_count": null,
   "id": "b073c6e8-9250-4525-967b-ad2388adf9ea",
   "metadata": {},
   "outputs": [],
   "source": []
  },
  {
   "cell_type": "code",
   "execution_count": null,
   "id": "84ec1470-493f-4565-8efb-07aa4f61e4a7",
   "metadata": {},
   "outputs": [],
   "source": []
  },
  {
   "cell_type": "code",
   "execution_count": null,
   "id": "4202b525-5c4a-4027-a1ba-5c2a756f4d10",
   "metadata": {},
   "outputs": [],
   "source": []
  }
 ],
 "metadata": {
  "kernelspec": {
   "display_name": "COM728_LAP",
   "language": "python",
   "name": "com728_lap"
  },
  "language_info": {
   "codemirror_mode": {
    "name": "ipython",
    "version": 3
   },
   "file_extension": ".py",
   "mimetype": "text/x-python",
   "name": "python",
   "nbconvert_exporter": "python",
   "pygments_lexer": "ipython3",
   "version": "3.11.5"
  }
 },
 "nbformat": 4,
 "nbformat_minor": 5
}
